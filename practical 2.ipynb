{
 "cells": [
  {
   "cell_type": "code",
   "execution_count": 1,
   "metadata": {
    "collapsed": false
   },
   "outputs": [
    {
     "name": "stderr",
     "output_type": "stream",
     "text": [
      "C:\\Users\\Zero\\Anaconda3\\lib\\site-packages\\gensim\\utils.py:855: UserWarning: detected Windows; aliasing chunkize to chunkize_serial\n",
      "  warnings.warn(\"detected Windows; aliasing chunkize to chunkize_serial\")\n"
     ]
    }
   ],
   "source": [
    "import numpy as np\n",
    "import os\n",
    "from random import shuffle\n",
    "import zipfile\n",
    "import lxml.etree\n",
    "import re\n",
    "from gensim.models import Word2Vec"
   ]
  },
  {
   "cell_type": "code",
   "execution_count": 2,
   "metadata": {
    "collapsed": true
   },
   "outputs": [],
   "source": [
    "if not os.path.isfile('ted_en-20160408.zip'):\n",
    "    urllib.request.urlretrieve(\"https://wit3.fbk.eu/get.php?path=XML_releases/xml/ted_en-20160408.zip&filename=ted_en-20160408.zip\", filename=\"ted_en-20160408.zip\")"
   ]
  },
  {
   "cell_type": "code",
   "execution_count": 3,
   "metadata": {
    "collapsed": false
   },
   "outputs": [],
   "source": [
    "with zipfile.ZipFile('ted_en-20160408.zip', 'r') as z:\n",
    "    doc = lxml.etree.parse(z.open('ted_en-20160408.xml', 'r'))\n",
    "input_text = ' \\t '.join(doc.xpath('//content/text()'))\n",
    "keywords = ' \\n '.join(doc.xpath('//keywords/text()'))\n",
    "del doc"
   ]
  },
  {
   "cell_type": "code",
   "execution_count": 4,
   "metadata": {
    "collapsed": false
   },
   "outputs": [],
   "source": [
    "labels = list(keywords.split('\\n'))"
   ]
  },
  {
   "cell_type": "code",
   "execution_count": 5,
   "metadata": {
    "collapsed": false
   },
   "outputs": [],
   "source": [
    "input_text_noparens = re.sub(r'\\([^)]*\\)', '', input_text)"
   ]
  },
  {
   "cell_type": "code",
   "execution_count": 6,
   "metadata": {
    "collapsed": false
   },
   "outputs": [],
   "source": [
    "input_docs = list(input_text_noparens.split('\\t'))\n",
    "# Uncomment if you need to save some RAM: these strings are about 50MB.\n",
    "del input_text, input_text_noparens"
   ]
  },
  {
   "cell_type": "code",
   "execution_count": 7,
   "metadata": {
    "collapsed": false
   },
   "outputs": [
    {
     "data": {
      "text/plain": [
       "2085"
      ]
     },
     "execution_count": 7,
     "metadata": {},
     "output_type": "execute_result"
    }
   ],
   "source": [
    "len(input_docs)"
   ]
  },
  {
   "cell_type": "code",
   "execution_count": 8,
   "metadata": {
    "collapsed": false
   },
   "outputs": [
    {
     "data": {
      "text/plain": [
       "2085"
      ]
     },
     "execution_count": 8,
     "metadata": {},
     "output_type": "execute_result"
    }
   ],
   "source": [
    "len(labels)"
   ]
  },
  {
   "cell_type": "code",
   "execution_count": 9,
   "metadata": {
    "collapsed": false
   },
   "outputs": [],
   "source": [
    "train_docs = input_docs[0:1585]\n",
    "validation_docs = input_docs[1585:1835]\n",
    "test_docs = input_docs[1835:2085]"
   ]
  },
  {
   "cell_type": "markdown",
   "metadata": {},
   "source": [
    "<strong>Removing speaker's name </strong>"
   ]
  },
  {
   "cell_type": "code",
   "execution_count": 10,
   "metadata": {
    "collapsed": false
   },
   "outputs": [],
   "source": [
    "def text_clean(doc):\n",
    "    docs = []\n",
    "    #for doc in docs:\n",
    "    for line in doc.split('\\n'):\n",
    "        m = re.sub(r\"\\\\n.*:\", '', line)\n",
    "        docs.append(m)\n",
    "    return docs"
   ]
  },
  {
   "cell_type": "markdown",
   "metadata": {},
   "source": [
    "<Strong>We convert the training documents to sentences and then tokenize them in order to train the word2vec model </strong>"
   ]
  },
  {
   "cell_type": "code",
   "execution_count": 11,
   "metadata": {
    "collapsed": false
   },
   "outputs": [],
   "source": [
    "train_docs_clean = []\n",
    "for doc in train_docs:\n",
    "    train_docs_clean.append(text_clean(doc))\n",
    "#example\n",
    "#train_docs_clean[0]"
   ]
  },
  {
   "cell_type": "code",
   "execution_count": 12,
   "metadata": {
    "collapsed": false
   },
   "outputs": [
    {
     "data": {
      "text/plain": [
       "1585"
      ]
     },
     "execution_count": 12,
     "metadata": {},
     "output_type": "execute_result"
    }
   ],
   "source": [
    "len(train_docs_clean)"
   ]
  },
  {
   "cell_type": "code",
   "execution_count": 13,
   "metadata": {
    "collapsed": false
   },
   "outputs": [],
   "source": [
    "def tokenize (docs):\n",
    "    sentences_tokenized = []\n",
    "    docs_tokenized = []\n",
    "    for doc in docs:\n",
    "        temp = []\n",
    "        for sent_str in doc:\n",
    "            tokens = re.sub(r\"[^a-z0-9]+\", \" \", sent_str.lower()).split()\n",
    "            sentences_tokenized.append(tokens)\n",
    "            temp.append(tokens)\n",
    "        docs_tokenized.append(temp)\n",
    "    return sentences_tokenized, docs_tokenized"
   ]
  },
  {
   "cell_type": "code",
   "execution_count": 14,
   "metadata": {
    "collapsed": false
   },
   "outputs": [],
   "source": [
    "sentences_train, train_docs_tokenized = tokenize(train_docs_clean)\n",
    "#example\n",
    "#sentences_train[0]"
   ]
  },
  {
   "cell_type": "code",
   "execution_count": 15,
   "metadata": {
    "collapsed": false
   },
   "outputs": [
    {
     "data": {
      "text/plain": [
       "38815"
      ]
     },
     "execution_count": 15,
     "metadata": {},
     "output_type": "execute_result"
    }
   ],
   "source": [
    "len(sentences_train)"
   ]
  },
  {
   "cell_type": "code",
   "execution_count": 16,
   "metadata": {
    "collapsed": false
   },
   "outputs": [
    {
     "data": {
      "text/plain": [
       "1585"
      ]
     },
     "execution_count": 16,
     "metadata": {},
     "output_type": "execute_result"
    }
   ],
   "source": [
    "len(train_docs_tokenized)"
   ]
  },
  {
   "cell_type": "code",
   "execution_count": 17,
   "metadata": {
    "collapsed": true
   },
   "outputs": [],
   "source": [
    "validation_docs_clean = []\n",
    "for doc in validation_docs:\n",
    "    validation_docs_clean.append(text_clean(doc))\n",
    "    \n",
    "_, validation_docs_tokenized = tokenize(validation_docs_clean)"
   ]
  },
  {
   "cell_type": "code",
   "execution_count": 18,
   "metadata": {
    "collapsed": false
   },
   "outputs": [
    {
     "data": {
      "text/plain": [
       "250"
      ]
     },
     "execution_count": 18,
     "metadata": {},
     "output_type": "execute_result"
    }
   ],
   "source": [
    "len(validation_docs_tokenized)"
   ]
  },
  {
   "cell_type": "code",
   "execution_count": 19,
   "metadata": {
    "collapsed": true
   },
   "outputs": [],
   "source": [
    "test_docs_clean = []\n",
    "for doc in test_docs:\n",
    "    test_docs_clean.append(text_clean(doc))\n",
    "    \n",
    "_, test_docs_tokenized = tokenize(test_docs_clean)"
   ]
  },
  {
   "cell_type": "code",
   "execution_count": 20,
   "metadata": {
    "collapsed": false
   },
   "outputs": [
    {
     "data": {
      "text/plain": [
       "250"
      ]
     },
     "execution_count": 20,
     "metadata": {},
     "output_type": "execute_result"
    }
   ],
   "source": [
    "len(test_docs_tokenized)"
   ]
  },
  {
   "cell_type": "code",
   "execution_count": 21,
   "metadata": {
    "collapsed": false
   },
   "outputs": [],
   "source": [
    "v = set()\n",
    "for sentence in sentences_train:\n",
    "    v.update(sentence)\n",
    "        "
   ]
  },
  {
   "cell_type": "code",
   "execution_count": 22,
   "metadata": {
    "collapsed": false
   },
   "outputs": [
    {
     "data": {
      "text/plain": [
       "47407"
      ]
     },
     "execution_count": 22,
     "metadata": {},
     "output_type": "execute_result"
    }
   ],
   "source": [
    "vocab = list(v)\n",
    "len(vocab)"
   ]
  },
  {
   "cell_type": "code",
   "execution_count": 23,
   "metadata": {
    "collapsed": true
   },
   "outputs": [],
   "source": [
    "ted_w2v = Word2Vec(sentences_train, size=50)"
   ]
  },
  {
   "cell_type": "code",
   "execution_count": 33,
   "metadata": {
    "collapsed": false
   },
   "outputs": [],
   "source": [
    "import gensim\n",
    "ted_glove = Word2Vec.load_word2vec_format('glove.txt', binary=False)"
   ]
  },
  {
   "cell_type": "markdown",
   "metadata": {},
   "source": [
    "<strong>Preparing the labels list</strong>"
   ]
  },
  {
   "cell_type": "code",
   "execution_count": 35,
   "metadata": {
    "collapsed": false
   },
   "outputs": [],
   "source": [
    "labels_new = []\n",
    "for label_set in labels:\n",
    "    if 'technology' and 'entertainment' and 'design' in label_set:\n",
    "        labels_new.append('ted')\n",
    "    elif 'technology' and 'entertainment'in label_set:\n",
    "        labels_new.append('teo')\n",
    "    elif 'technology' and 'design' in label_set:\n",
    "        labels_new.append('tod')\n",
    "    elif 'entertainment' and 'design'in label_set:\n",
    "        labels_new.append('oed')\n",
    "    elif 'technology' in label_set:\n",
    "        labels_new.append('too')\n",
    "    elif 'entertainment'in label_set:\n",
    "        labels_new.append('oeo')\n",
    "    elif 'design' in label_set:\n",
    "        labels_new.append('ood')\n",
    "    else:\n",
    "        labels_new.append('ooo')"
   ]
  },
  {
   "cell_type": "code",
   "execution_count": 36,
   "metadata": {
    "collapsed": true
   },
   "outputs": [],
   "source": [
    "index_to_label = ['ted', 'teo', 'tod', 'oed', 'too', 'oeo', 'ood', 'ooo']\n",
    "label_to_index = {label: index for index, label in enumerate(index_to_label)}"
   ]
  },
  {
   "cell_type": "code",
   "execution_count": 37,
   "metadata": {
    "collapsed": false
   },
   "outputs": [
    {
     "data": {
      "text/plain": [
       "{'oed': 3,\n",
       " 'oeo': 5,\n",
       " 'ood': 6,\n",
       " 'ooo': 7,\n",
       " 'ted': 0,\n",
       " 'teo': 1,\n",
       " 'tod': 2,\n",
       " 'too': 4}"
      ]
     },
     "execution_count": 37,
     "metadata": {},
     "output_type": "execute_result"
    }
   ],
   "source": [
    "label_to_index"
   ]
  },
  {
   "cell_type": "code",
   "execution_count": 38,
   "metadata": {
    "collapsed": true
   },
   "outputs": [],
   "source": [
    "NUMBER_OF_TRAINING_SAMPLES = len(train_docs)"
   ]
  },
  {
   "cell_type": "code",
   "execution_count": 45,
   "metadata": {
    "collapsed": true
   },
   "outputs": [],
   "source": [
    "def text_embedding(docs, w2v_model):\n",
    "    x = []\n",
    "    \n",
    "    for doc in docs:\n",
    "        c = 1 #to avoid dividing by zero\n",
    "        tokens = np.zeros(50)\n",
    "        for sentence in doc:\n",
    "            for token in sentence:\n",
    "                if token in w2v_model.vocab:\n",
    "                    tokens += w2v_model.wv[token]\n",
    "                    c = c+1\n",
    "        x.append(tokens/c)\n",
    "    return x"
   ]
  },
  {
   "cell_type": "code",
   "execution_count": 46,
   "metadata": {
    "collapsed": false
   },
   "outputs": [],
   "source": [
    "x_train = text_embedding(train_docs_tokenized, ted_w2v)"
   ]
  },
  {
   "cell_type": "code",
   "execution_count": 47,
   "metadata": {
    "collapsed": false
   },
   "outputs": [
    {
     "data": {
      "text/plain": [
       "(1585, 50)"
      ]
     },
     "execution_count": 47,
     "metadata": {},
     "output_type": "execute_result"
    }
   ],
   "source": [
    "np.array(x_train).shape"
   ]
  },
  {
   "cell_type": "code",
   "execution_count": 48,
   "metadata": {
    "collapsed": true
   },
   "outputs": [],
   "source": [
    "x_validation = text_embedding(validation_docs_tokenized, ted_w2v)"
   ]
  },
  {
   "cell_type": "code",
   "execution_count": 49,
   "metadata": {
    "collapsed": true
   },
   "outputs": [],
   "source": [
    "X_validation = np.array(x_validation)"
   ]
  },
  {
   "cell_type": "code",
   "execution_count": 50,
   "metadata": {
    "collapsed": false
   },
   "outputs": [
    {
     "data": {
      "text/plain": [
       "(250, 50)"
      ]
     },
     "execution_count": 50,
     "metadata": {},
     "output_type": "execute_result"
    }
   ],
   "source": [
    "X_validation.shape"
   ]
  },
  {
   "cell_type": "code",
   "execution_count": 51,
   "metadata": {
    "collapsed": true
   },
   "outputs": [],
   "source": [
    "x_test = text_embedding(test_docs_tokenized, ted_w2v)"
   ]
  },
  {
   "cell_type": "code",
   "execution_count": 52,
   "metadata": {
    "collapsed": false
   },
   "outputs": [],
   "source": [
    "X_test = np.array(x_test)"
   ]
  },
  {
   "cell_type": "code",
   "execution_count": 53,
   "metadata": {
    "collapsed": false
   },
   "outputs": [
    {
     "data": {
      "text/plain": [
       "(250, 50)"
      ]
     },
     "execution_count": 53,
     "metadata": {},
     "output_type": "execute_result"
    }
   ],
   "source": [
    "X_test.shape"
   ]
  },
  {
   "cell_type": "code",
   "execution_count": 54,
   "metadata": {
    "collapsed": false
   },
   "outputs": [],
   "source": [
    "X_train = np.array(x_train)\n",
    "Y = np.zeros((len(labels), 8), dtype=np.bool)"
   ]
  },
  {
   "cell_type": "code",
   "execution_count": 55,
   "metadata": {
    "collapsed": false
   },
   "outputs": [],
   "source": [
    "for i, label in enumerate(labels_new):\n",
    "    Y[i,[label_to_index[label]]] = 1 "
   ]
  },
  {
   "cell_type": "code",
   "execution_count": 56,
   "metadata": {
    "collapsed": true
   },
   "outputs": [],
   "source": [
    "Y_train = Y[0:1585]\n",
    "Y_validation = Y[1585:1835]\n",
    "Y_test = Y[1835:2085]"
   ]
  },
  {
   "cell_type": "code",
   "execution_count": 57,
   "metadata": {
    "collapsed": false
   },
   "outputs": [
    {
     "data": {
      "text/plain": [
       "(1585, 8)"
      ]
     },
     "execution_count": 57,
     "metadata": {},
     "output_type": "execute_result"
    }
   ],
   "source": [
    "Y_train.shape"
   ]
  },
  {
   "cell_type": "markdown",
   "metadata": {},
   "source": [
    "<strong>Training the model</strong>"
   ]
  },
  {
   "cell_type": "code",
   "execution_count": 58,
   "metadata": {
    "collapsed": false
   },
   "outputs": [
    {
     "name": "stderr",
     "output_type": "stream",
     "text": [
      "Using Theano backend.\n"
     ]
    }
   ],
   "source": [
    "from keras.models import Sequential\n",
    "from keras.layers.core import Activation, Dense, Dropout"
   ]
  },
  {
   "cell_type": "code",
   "execution_count": 59,
   "metadata": {
    "collapsed": true
   },
   "outputs": [],
   "source": [
    "model = Sequential()"
   ]
  },
  {
   "cell_type": "code",
   "execution_count": 60,
   "metadata": {
    "collapsed": false
   },
   "outputs": [],
   "source": [
    "model.add(Dense(32, activation ='tanh', input_dim=50))\n",
    "model.add(Dense(8, activation='softmax'))"
   ]
  },
  {
   "cell_type": "code",
   "execution_count": 61,
   "metadata": {
    "collapsed": true
   },
   "outputs": [],
   "source": [
    "model.compile(loss='categorical_crossentropy', optimizer='adam', metrics=['categorical_accuracy'])"
   ]
  },
  {
   "cell_type": "code",
   "execution_count": 62,
   "metadata": {
    "collapsed": false
   },
   "outputs": [
    {
     "name": "stdout",
     "output_type": "stream",
     "text": [
      "Train on 1585 samples, validate on 250 samples\n",
      "Epoch 1/50\n",
      "1585/1585 [==============================] - 0s - loss: 1.4726 - categorical_accuracy: 0.5155 - val_loss: 1.7058 - val_categorical_accuracy: 0.3440\b\b\b\b\b\b\b\b\b\b\b\b\b\b\b\b\b\b\b\b\b\b\b\b\b\b\b\b\b\b\b\b\b\b\b\b\b\b\b\b\b\b\b\b\b\b\b\b\b\b\b\b\b\b\b\b\b\b\b\b\b\b\b\b\b\b\b\b\b\b\b\b\b\b\b\b\b\b\b\b\b\b\b\b\b\b\b\b\b\b\b\b\b\b\b\b\b\b\b\b\b\b\b\b\b\b\b\b\b\b\b\b\b\b\b\b\b\b\b\b\b\b\b\b\b\b\b\b\b\b\b\b\b\b\b\b\b\b\b\b\b\b\b\b\b\b\b\n",
      "Epoch 2/50\n",
      "1585/1585 [==============================] - 0s - loss: 1.1500 - categorical_accuracy: 0.6114 - val_loss: 1.5237 - val_categorical_accuracy: 0.3440\b\b\b\b\b\b\b\b\b\b\b\b\b\b\b\b\b\b\b\b\b\b\b\b\b\b\b\b\b\b\b\b\b\b\b\b\b\b\b\b\b\b\b\b\b\b\b\b\b\n",
      "Epoch 3/50\n",
      "1585/1585 [==============================] - 0s - loss: 1.0828 - categorical_accuracy: 0.6114 - val_loss: 1.5052 - val_categorical_accuracy: 0.3440\b\b\b\b\b\b\b\b\b\b\b\b\b\b\b\b\b\b\b\b\b\b\b\b\b\b\b\b\b\b\b\b\b\b\b\b\b\b\b\b\b\b\b\b\b\b\b\b\b\n",
      "Epoch 4/50\n",
      "1585/1585 [==============================] - 0s - loss: 1.0494 - categorical_accuracy: 0.6114 - val_loss: 1.4670 - val_categorical_accuracy: 0.3440\b\b\b\b\b\b\b\b\b\b\b\b\b\b\b\b\b\b\b\b\b\b\b\b\b\b\b\b\b\b\b\b\b\b\b\b\b\b\b\b\b\b\b\b\b\b\b\b\b\n",
      "Epoch 5/50\n",
      "1585/1585 [==============================] - 0s - loss: 1.0260 - categorical_accuracy: 0.6114 - val_loss: 1.3928 - val_categorical_accuracy: 0.3480\b\b\b\b\b\b\b\b\b\b\b\b\b\b\b\b\b\b\b\b\b\b\b\b\b\b\b\b\b\b\b\b\b\b\b\b\b\b\b\b\b\b\b\b\b\b\b\b\b\n",
      "Epoch 6/50\n",
      "1585/1585 [==============================] - 0s - loss: 1.0050 - categorical_accuracy: 0.6120 - val_loss: 1.3953 - val_categorical_accuracy: 0.3520\b\b\b\b\b\b\b\b\b\b\b\b\b\b\b\b\b\b\b\b\b\b\b\b\b\b\b\b\b\b\b\b\b\b\b\b\b\b\b\b\b\b\b\b\b\b\b\b\b\n",
      "Epoch 7/50\n",
      "1585/1585 [==============================] - 0s - loss: 0.9871 - categorical_accuracy: 0.6145 - val_loss: 1.4245 - val_categorical_accuracy: 0.3520\b\b\b\b\b\b\b\b\b\b\b\b\b\b\b\b\b\b\b\b\b\b\b\b\b\b\b\b\b\b\b\b\b\b\b\b\b\b\b\b\b\b\b\b\b\b\b\b\b\n",
      "Epoch 8/50\n",
      "1585/1585 [==============================] - 0s - loss: 0.9743 - categorical_accuracy: 0.6170 - val_loss: 1.3904 - val_categorical_accuracy: 0.3600\b\b\b\b\b\b\b\b\b\b\b\b\b\b\b\b\b\b\b\b\b\b\b\b\b\b\b\b\b\b\b\b\b\b\b\b\b\b\b\b\b\b\b\b\b\b\b\b\b\n",
      "Epoch 9/50\n",
      "1585/1585 [==============================] - 0s - loss: 0.9602 - categorical_accuracy: 0.6139 - val_loss: 1.3010 - val_categorical_accuracy: 0.3920\b\b\b\b\b\b\b\b\b\b\b\b\b\b\b\b\b\b\b\b\b\b\b\b\b\b\b\b\b\b\b\b\b\b\b\b\b\b\b\b\b\b\b\b\b\b\b\b\b\n",
      "Epoch 10/50\n",
      "1585/1585 [==============================] - 0s - loss: 0.9505 - categorical_accuracy: 0.6183 - val_loss: 1.2999 - val_categorical_accuracy: 0.3880\b\b\b\b\b\b\b\b\b\b\b\b\b\b\b\b\b\b\b\b\b\b\b\b\b\b\b\b\b\b\b\b\b\b\b\b\b\b\b\b\b\b\b\b\b\b\b\b\b\n",
      "Epoch 11/50\n",
      "1585/1585 [==============================] - 0s - loss: 0.9394 - categorical_accuracy: 0.6202 - val_loss: 1.2891 - val_categorical_accuracy: 0.3880\b\b\b\b\b\b\b\b\b\b\b\b\b\b\b\b\b\b\b\b\b\b\b\b\b\b\b\b\b\b\b\b\b\b\b\b\b\b\b\b\b\b\b\b\b\b\b\b\b\n",
      "Epoch 12/50\n",
      "1585/1585 [==============================] - 0s - loss: 0.9353 - categorical_accuracy: 0.6132 - val_loss: 1.3286 - val_categorical_accuracy: 0.3720\b\b\b\b\b\b\b\b\b\b\b\b\b\b\b\b\b\b\b\b\b\b\b\b\b\b\b\b\b\b\b\b\b\b\b\b\b\b\b\b\b\b\b\b\b\b\b\b\b\n",
      "Epoch 13/50\n",
      "1585/1585 [==============================] - 0s - loss: 0.9272 - categorical_accuracy: 0.6189 - val_loss: 1.2683 - val_categorical_accuracy: 0.3920\b\b\b\b\b\b\b\b\b\b\b\b\b\b\b\b\b\b\b\b\b\b\b\b\b\b\b\b\b\b\b\b\b\b\b\b\b\b\b\b\b\b\b\b\b\b\b\b\b\n",
      "Epoch 14/50\n",
      "1585/1585 [==============================] - 0s - loss: 0.9180 - categorical_accuracy: 0.6259 - val_loss: 1.3356 - val_categorical_accuracy: 0.3640\b\b\b\b\b\b\b\b\b\b\b\b\b\b\b\b\b\b\b\b\b\b\b\b\b\b\b\b\b\b\b\b\b\b\b\b\b\b\b\b\b\b\b\b\b\b\b\b\b\n",
      "Epoch 15/50\n",
      "1585/1585 [==============================] - 0s - loss: 0.9171 - categorical_accuracy: 0.6265 - val_loss: 1.3084 - val_categorical_accuracy: 0.3840\b\b\b\b\b\b\b\b\b\b\b\b\b\b\b\b\b\b\b\b\b\b\b\b\b\b\b\b\b\b\b\b\b\b\b\b\b\b\b\b\b\b\b\b\b\b\b\b\b\n",
      "Epoch 16/50\n",
      "1585/1585 [==============================] - 0s - loss: 0.9101 - categorical_accuracy: 0.6290 - val_loss: 1.2907 - val_categorical_accuracy: 0.3880\b\b\b\b\b\b\b\b\b\b\b\b\b\b\b\b\b\b\b\b\b\b\b\b\b\b\b\b\b\b\b\b\b\b\b\b\b\b\b\b\b\b\b\b\b\b\b\b\b\n",
      "Epoch 17/50\n",
      "1585/1585 [==============================] - 0s - loss: 0.9083 - categorical_accuracy: 0.6227 - val_loss: 1.2418 - val_categorical_accuracy: 0.4200\b\b\b\b\b\b\b\b\b\b\b\b\b\b\b\b\b\b\b\b\b\b\b\b\b\b\b\b\b\b\b\b\b\b\b\b\b\b\b\b\b\b\b\b\b\b\b\b\b\n",
      "Epoch 18/50\n",
      "1585/1585 [==============================] - 0s - loss: 0.9021 - categorical_accuracy: 0.6303 - val_loss: 1.2028 - val_categorical_accuracy: 0.4480\b\b\b\b\b\b\b\b\b\b\b\b\b\b\b\b\b\b\b\b\b\b\b\b\b\b\b\b\b\b\b\b\b\b\b\b\b\b\b\b\b\b\b\b\b\b\b\b\b\n",
      "Epoch 19/50\n",
      "1585/1585 [==============================] - 0s - loss: 0.9048 - categorical_accuracy: 0.6423 - val_loss: 1.2649 - val_categorical_accuracy: 0.4120\b\b\b\b\b\b\b\b\b\b\b\b\b\b\b\b\b\b\b\b\b\b\b\b\b\b\b\b\b\b\b\b\b\b\b\b\b\b\b\b\b\b\b\b\b\b\b\b\b\n",
      "Epoch 20/50\n",
      "1585/1585 [==============================] - 0s - loss: 0.9023 - categorical_accuracy: 0.6322 - val_loss: 1.2450 - val_categorical_accuracy: 0.4160\b\b\b\b\b\b\b\b\b\b\b\b\b\b\b\b\b\b\b\b\b\b\b\b\b\b\b\b\b\b\b\b\b\b\b\b\b\b\b\b\b\b\b\b\b\b\b\b\b\n",
      "Epoch 21/50\n",
      "1585/1585 [==============================] - 0s - loss: 0.8988 - categorical_accuracy: 0.6404 - val_loss: 1.2007 - val_categorical_accuracy: 0.4400\b\b\b\b\b\b\b\b\b\b\b\b\b\b\b\b\b\b\b\b\b\b\b\b\b\b\b\b\b\b\b\b\b\b\b\b\b\b\b\b\b\b\b\b\b\b\b\b\b\n",
      "Epoch 22/50\n",
      "1585/1585 [==============================] - 0s - loss: 0.8932 - categorical_accuracy: 0.6391 - val_loss: 1.2332 - val_categorical_accuracy: 0.4240\b\b\b\b\b\b\b\b\b\b\b\b\b\b\b\b\b\b\b\b\b\b\b\b\b\b\b\b\b\b\b\b\b\b\b\b\b\b\b\b\b\b\b\b\b\b\b\b\b\n",
      "Epoch 23/50\n",
      "1585/1585 [==============================] - 0s - loss: 0.8914 - categorical_accuracy: 0.6360 - val_loss: 1.2513 - val_categorical_accuracy: 0.4200\b\b\b\b\b\b\b\b\b\b\b\b\b\b\b\b\b\b\b\b\b\b\b\b\b\b\b\b\b\b\b\b\b\b\b\b\b\b\b\b\b\b\b\b\b\b\b\b\b\n",
      "Epoch 24/50\n",
      "1585/1585 [==============================] - 0s - loss: 0.8881 - categorical_accuracy: 0.6385 - val_loss: 1.1988 - val_categorical_accuracy: 0.4440\b\b\b\b\b\b\b\b\b\b\b\b\b\b\b\b\b\b\b\b\b\b\b\b\b\b\b\b\b\b\b\b\b\b\b\b\b\b\b\b\b\b\b\b\b\b\b\b\b\n",
      "Epoch 25/50\n",
      "1585/1585 [==============================] - 0s - loss: 0.8877 - categorical_accuracy: 0.6448 - val_loss: 1.2532 - val_categorical_accuracy: 0.4240\b\b\b\b\b\b\b\b\b\b\b\b\b\b\b\b\b\b\b\b\b\b\b\b\b\b\b\b\b\b\b\b\b\b\b\b\b\b\b\b\b\b\b\b\b\b\b\b\b\n",
      "Epoch 26/50\n",
      "1585/1585 [==============================] - 0s - loss: 0.8843 - categorical_accuracy: 0.6410 - val_loss: 1.2610 - val_categorical_accuracy: 0.4440\b\b\b\b\b\b\b\b\b\b\b\b\b\b\b\b\b\b\b\b\b\b\b\b\b\b\b\b\b\b\b\b\b\b\b\b\b\b\b\b\b\b\b\b\b\b\b\b\b\n",
      "Epoch 27/50\n",
      "1585/1585 [==============================] - 0s - loss: 0.8831 - categorical_accuracy: 0.6505 - val_loss: 1.2228 - val_categorical_accuracy: 0.4240\b\b\b\b\b\b\b\b\b\b\b\b\b\b\b\b\b\b\b\b\b\b\b\b\b\b\b\b\b\b\b\b\b\b\b\b\b\b\b\b\b\b\b\b\b\b\b\b\b\n",
      "Epoch 28/50\n",
      "1585/1585 [==============================] - 0s - loss: 0.8841 - categorical_accuracy: 0.6454 - val_loss: 1.1856 - val_categorical_accuracy: 0.4480\b\b\b\b\b\b\b\b\b\b\b\b\b\b\b\b\b\b\b\b\b\b\b\b\b\b\b\b\b\b\b\b\b\b\b\b\b\b\b\b\b\b\b\b\b\b\b\b\b\n",
      "Epoch 29/50\n",
      "1585/1585 [==============================] - 0s - loss: 0.8814 - categorical_accuracy: 0.6505 - val_loss: 1.2778 - val_categorical_accuracy: 0.4280\b\b\b\b\b\b\b\b\b\b\b\b\b\b\b\b\b\b\b\b\b\b\b\b\b\b\b\b\b\b\b\b\b\b\b\b\b\b\b\b\b\b\b\b\b\b\b\b\b\n",
      "Epoch 30/50\n",
      "1585/1585 [==============================] - 0s - loss: 0.8809 - categorical_accuracy: 0.6442 - val_loss: 1.2717 - val_categorical_accuracy: 0.4200\b\b\b\b\b\b\b\b\b\b\b\b\b\b\b\b\b\b\b\b\b\b\b\b\b\b\b\b\b\b\b\b\b\b\b\b\b\b\b\b\b\b\b\b\b\b\b\b\b\n",
      "Epoch 31/50\n",
      "1585/1585 [==============================] - 0s - loss: 0.8781 - categorical_accuracy: 0.6435 - val_loss: 1.2248 - val_categorical_accuracy: 0.4440\b\b\b\b\b\b\b\b\b\b\b\b\b\b\b\b\b\b\b\b\b\b\b\b\b\b\b\b\b\b\b\b\b\b\b\b\b\b\b\b\b\b\b\b\b\b\b\b\b\n",
      "Epoch 32/50\n",
      "1585/1585 [==============================] - 0s - loss: 0.8745 - categorical_accuracy: 0.6536 - val_loss: 1.2110 - val_categorical_accuracy: 0.4360\b\b\b\b\b\b\b\b\b\b\b\b\b\b\b\b\b\b\b\b\b\b\b\b\b\b\b\b\b\b\b\b\b\b\b\b\b\b\b\b\b\b\b\b\b\b\b\b\b\n",
      "Epoch 33/50\n",
      "1585/1585 [==============================] - 0s - loss: 0.8755 - categorical_accuracy: 0.6479 - val_loss: 1.1996 - val_categorical_accuracy: 0.4480\b\b\b\b\b\b\b\b\b\b\b\b\b\b\b\b\b\b\b\b\b\b\b\b\b\b\b\b\b\b\b\b\b\b\b\b\b\b\b\b\b\b\b\b\b\b\b\b\b\n",
      "Epoch 34/50\n",
      "1585/1585 [==============================] - 0s - loss: 0.8749 - categorical_accuracy: 0.6492 - val_loss: 1.2435 - val_categorical_accuracy: 0.4480\b\b\b\b\b\b\b\b\b\b\b\b\b\b\b\b\b\b\b\b\b\b\b\b\b\b\b\b\b\b\b\b\b\b\b\b\b\b\b\b\b\b\b\b\b\b\b\b\b\n",
      "Epoch 35/50\n",
      "1585/1585 [==============================] - 0s - loss: 0.8762 - categorical_accuracy: 0.6498 - val_loss: 1.2823 - val_categorical_accuracy: 0.4240\b\b\b\b\b\b\b\b\b\b\b\b\b\b\b\b\b\b\b\b\b\b\b\b\b\b\b\b\b\b\b\b\b\b\b\b\b\b\b\b\b\b\b\b\b\b\b\b\b\n",
      "Epoch 36/50\n",
      "1585/1585 [==============================] - 0s - loss: 0.8737 - categorical_accuracy: 0.6517 - val_loss: 1.1931 - val_categorical_accuracy: 0.4360\b\b\b\b\b\b\b\b\b\b\b\b\b\b\b\b\b\b\b\b\b\b\b\b\b\b\b\b\b\b\b\b\b\b\b\b\b\b\b\b\b\b\b\b\b\b\b\b\b\n",
      "Epoch 37/50\n",
      "1585/1585 [==============================] - 0s - loss: 0.8713 - categorical_accuracy: 0.6593 - val_loss: 1.2745 - val_categorical_accuracy: 0.4440\b\b\b\b\b\b\b\b\b\b\b\b\b\b\b\b\b\b\b\b\b\b\b\b\b\b\b\b\b\b\b\b\b\b\b\b\b\b\b\b\b\b\b\b\b\b\b\b\b\n",
      "Epoch 38/50\n",
      "1585/1585 [==============================] - 0s - loss: 0.8689 - categorical_accuracy: 0.6511 - val_loss: 1.2101 - val_categorical_accuracy: 0.4520\b\b\b\b\b\b\b\b\b\b\b\b\b\b\b\b\b\b\b\b\b\b\b\b\b\b\b\b\b\b\b\b\b\b\b\b\b\b\b\b\b\b\b\b\b\b\b\b\b\n",
      "Epoch 39/50\n",
      "1585/1585 [==============================] - 0s - loss: 0.8690 - categorical_accuracy: 0.6549 - val_loss: 1.2322 - val_categorical_accuracy: 0.4280\b\b\b\b\b\b\b\b\b\b\b\b\b\b\b\b\b\b\b\b\b\b\b\b\b\b\b\b\b\b\b\b\b\b\b\b\b\b\b\b\b\b\b\b\b\b\b\b\b\n",
      "Epoch 40/50\n",
      "1585/1585 [==============================] - 0s - loss: 0.8667 - categorical_accuracy: 0.6562 - val_loss: 1.1720 - val_categorical_accuracy: 0.4520\b\b\b\b\b\b\b\b\b\b\b\b\b\b\b\b\b\b\b\b\b\b\b\b\b\b\b\b\b\b\b\b\b\b\b\b\b\b\b\b\b\b\b\b\b\b\b\b\b\n",
      "Epoch 41/50\n",
      "1585/1585 [==============================] - 0s - loss: 0.8680 - categorical_accuracy: 0.6511 - val_loss: 1.2028 - val_categorical_accuracy: 0.4560\b\b\b\b\b\b\b\b\b\b\b\b\b\b\b\b\b\b\b\b\b\b\b\b\b\b\b\b\b\b\b\b\b\b\b\b\b\b\b\b\b\b\b\b\b\b\b\b\b\n",
      "Epoch 42/50\n",
      "1585/1585 [==============================] - 0s - loss: 0.8666 - categorical_accuracy: 0.6511 - val_loss: 1.2612 - val_categorical_accuracy: 0.4440\b\b\b\b\b\b\b\b\b\b\b\b\b\b\b\b\b\b\b\b\b\b\b\b\b\b\b\b\b\b\b\b\b\b\b\b\b\b\b\b\b\b\b\b\b\b\b\b\b\n",
      "Epoch 43/50\n",
      "1585/1585 [==============================] - 0s - loss: 0.8659 - categorical_accuracy: 0.6555 - val_loss: 1.2353 - val_categorical_accuracy: 0.4320\b\b\b\b\b\b\b\b\b\b\b\b\b\b\b\b\b\b\b\b\b\b\b\b\b\b\b\b\b\b\b\b\b\b\b\b\b\b\b\b\b\b\b\b\b\b\b\b\b\n",
      "Epoch 44/50\n",
      "1585/1585 [==============================] - 0s - loss: 0.8655 - categorical_accuracy: 0.6568 - val_loss: 1.2807 - val_categorical_accuracy: 0.4360\b\b\b\b\b\b\b\b\b\b\b\b\b\b\b\b\b\b\b\b\b\b\b\b\b\b\b\b\b\b\b\b\b\b\b\b\b\b\b\b\b\b\b\b\b\b\b\b\b\n",
      "Epoch 45/50\n",
      "1585/1585 [==============================] - 0s - loss: 0.8628 - categorical_accuracy: 0.6562 - val_loss: 1.2360 - val_categorical_accuracy: 0.4440\b\b\b\b\b\b\b\b\b\b\b\b\b\b\b\b\b\b\b\b\b\b\b\b\b\b\b\b\b\b\b\b\b\b\b\b\b\b\b\b\b\b\b\b\b\b\b\b\b\n",
      "Epoch 46/50\n",
      "1585/1585 [==============================] - 0s - loss: 0.8636 - categorical_accuracy: 0.6492 - val_loss: 1.2439 - val_categorical_accuracy: 0.4320\b\b\b\b\b\b\b\b\b\b\b\b\b\b\b\b\b\b\b\b\b\b\b\b\b\b\b\b\b\b\b\b\b\b\b\b\b\b\b\b\b\b\b\b\b\b\b\b\b\n",
      "Epoch 47/50\n",
      "1585/1585 [==============================] - 0s - loss: 0.8639 - categorical_accuracy: 0.6593 - val_loss: 1.2475 - val_categorical_accuracy: 0.4400\b\b\b\b\b\b\b\b\b\b\b\b\b\b\b\b\b\b\b\b\b\b\b\b\b\b\b\b\b\b\b\b\b\b\b\b\b\b\b\b\b\b\b\b\b\b\b\b\b\n",
      "Epoch 48/50\n",
      "1585/1585 [==============================] - 0s - loss: 0.8635 - categorical_accuracy: 0.6568 - val_loss: 1.1744 - val_categorical_accuracy: 0.4720\b\b\b\b\b\b\b\b\b\b\b\b\b\b\b\b\b\b\b\b\b\b\b\b\b\b\b\b\b\b\b\b\b\b\b\b\b\b\b\b\b\b\b\b\b\b\b\b\b\n",
      "Epoch 49/50\n",
      "1585/1585 [==============================] - 0s - loss: 0.8631 - categorical_accuracy: 0.6599 - val_loss: 1.1936 - val_categorical_accuracy: 0.4640\b\b\b\b\b\b\b\b\b\b\b\b\b\b\b\b\b\b\b\b\b\b\b\b\b\b\b\b\b\b\b\b\b\b\b\b\b\b\b\b\b\b\b\b\b\b\b\b\b\n",
      "Epoch 50/50\n",
      "1585/1585 [==============================] - 0s - loss: 0.8597 - categorical_accuracy: 0.6625 - val_loss: 1.2340 - val_categorical_accuracy: 0.4440\b\b\b\b\b\b\b\b\b\b\b\b\b\b\b\b\b\b\b\b\b\b\b\b\b\b\b\b\b\b\b\b\b\b\b\b\b\b\b\b\b\b\b\b\b\b\b\b\b\n"
     ]
    },
    {
     "data": {
      "text/plain": [
       "<keras.callbacks.History at 0xb1f298d710>"
      ]
     },
     "execution_count": 62,
     "metadata": {},
     "output_type": "execute_result"
    }
   ],
   "source": [
    "model.fit(X_train, Y_train, nb_epoch=50, batch_size=50, validation_data=(X_validation, Y_validation))"
   ]
  },
  {
   "cell_type": "code",
   "execution_count": 63,
   "metadata": {
    "collapsed": false
   },
   "outputs": [
    {
     "name": "stdout",
     "output_type": "stream",
     "text": [
      "\r",
      " 50/250 [=====>........................] - ETA: 0s"
     ]
    },
    {
     "data": {
      "text/plain": [
       "[1.2788642168045044, 0.41999999880790712]"
      ]
     },
     "execution_count": 63,
     "metadata": {},
     "output_type": "execute_result"
    }
   ],
   "source": [
    "model.evaluate(X_test, Y_test, batch_size=50)"
   ]
  },
  {
   "cell_type": "code",
   "execution_count": 64,
   "metadata": {
    "collapsed": false
   },
   "outputs": [
    {
     "data": {
      "text/plain": [
       "['loss', 'categorical_accuracy']"
      ]
     },
     "execution_count": 64,
     "metadata": {},
     "output_type": "execute_result"
    }
   ],
   "source": [
    "model.metrics_names"
   ]
  },
  {
   "cell_type": "markdown",
   "metadata": {},
   "source": [
    "<strong>Using GloVe embeddings</strong>"
   ]
  },
  {
   "cell_type": "code",
   "execution_count": 65,
   "metadata": {
    "collapsed": true
   },
   "outputs": [],
   "source": [
    "x_train_glove = text_embedding(train_docs_tokenized, ted_glove)"
   ]
  },
  {
   "cell_type": "code",
   "execution_count": 67,
   "metadata": {
    "collapsed": false
   },
   "outputs": [],
   "source": [
    "X_train_g = np.array(x_train_glove)"
   ]
  },
  {
   "cell_type": "code",
   "execution_count": 68,
   "metadata": {
    "collapsed": false
   },
   "outputs": [
    {
     "data": {
      "text/plain": [
       "(1585, 50)"
      ]
     },
     "execution_count": 68,
     "metadata": {},
     "output_type": "execute_result"
    }
   ],
   "source": [
    "X_train_g.shape"
   ]
  },
  {
   "cell_type": "code",
   "execution_count": 69,
   "metadata": {
    "collapsed": true
   },
   "outputs": [],
   "source": [
    "x_validation_glove = text_embedding(validation_docs_tokenized, ted_glove)"
   ]
  },
  {
   "cell_type": "code",
   "execution_count": 70,
   "metadata": {
    "collapsed": true
   },
   "outputs": [],
   "source": [
    "X_validation_g = np.array(x_validation_glove)"
   ]
  },
  {
   "cell_type": "code",
   "execution_count": 71,
   "metadata": {
    "collapsed": true
   },
   "outputs": [],
   "source": [
    "x_test_glove = text_embedding(test_docs_tokenized, ted_glove)"
   ]
  },
  {
   "cell_type": "code",
   "execution_count": 72,
   "metadata": {
    "collapsed": true
   },
   "outputs": [],
   "source": [
    "X_test_g = np.array(x_test_glove)"
   ]
  },
  {
   "cell_type": "code",
   "execution_count": 73,
   "metadata": {
    "collapsed": true
   },
   "outputs": [],
   "source": [
    "model_2 = Sequential()"
   ]
  },
  {
   "cell_type": "code",
   "execution_count": 74,
   "metadata": {
    "collapsed": true
   },
   "outputs": [],
   "source": [
    "model_2.add(Dense(32, activation ='tanh', input_dim=50))\n",
    "model_2.add(Dense(8, activation='softmax'))"
   ]
  },
  {
   "cell_type": "code",
   "execution_count": 75,
   "metadata": {
    "collapsed": true
   },
   "outputs": [],
   "source": [
    "model.compile(loss='categorical_crossentropy', optimizer='adam', metrics=['categorical_accuracy'])"
   ]
  },
  {
   "cell_type": "code",
   "execution_count": 78,
   "metadata": {
    "collapsed": false
   },
   "outputs": [
    {
     "name": "stdout",
     "output_type": "stream",
     "text": [
      "Train on 1585 samples, validate on 250 samples\n",
      "Epoch 1/50\n",
      "1585/1585 [==============================] - 0s - loss: 1.3687 - categorical_accuracy: 0.5640 - val_loss: 1.6695 - val_categorical_accuracy: 0.3440\b\b\b\b\b\b\b\b\b\b\b\b\b\b\b\b\b\b\b\b\b\b\b\b\b\b\b\b\b\b\b\b\b\b\b\b\b\b\b\b\b\b\b\b\b\b\b\b\b\n",
      "Epoch 2/50\n",
      "1585/1585 [==============================] - 0s - loss: 1.1227 - categorical_accuracy: 0.6101 - val_loss: 1.5781 - val_categorical_accuracy: 0.3440\b\b\b\b\b\b\b\b\b\b\b\b\b\b\b\b\b\b\b\b\b\b\b\b\b\b\b\b\b\b\b\b\b\b\b\b\b\b\b\b\b\b\b\b\b\b\b\b\b\n",
      "Epoch 3/50\n",
      "1585/1585 [==============================] - 0s - loss: 1.0773 - categorical_accuracy: 0.6101 - val_loss: 1.5945 - val_categorical_accuracy: 0.3440\b\b\b\b\b\b\b\b\b\b\b\b\b\b\b\b\b\b\b\b\b\b\b\b\b\b\b\b\b\b\b\b\b\b\b\b\b\b\b\b\b\b\b\b\b\b\b\b\b\n",
      "Epoch 4/50\n",
      "1585/1585 [==============================] - 0s - loss: 1.0545 - categorical_accuracy: 0.6114 - val_loss: 1.4754 - val_categorical_accuracy: 0.3440\b\b\b\b\b\b\b\b\b\b\b\b\b\b\b\b\b\b\b\b\b\b\b\b\b\b\b\b\b\b\b\b\b\b\b\b\b\b\b\b\b\b\b\b\b\b\b\b\b\n",
      "Epoch 5/50\n",
      "1585/1585 [==============================] - 0s - loss: 1.0305 - categorical_accuracy: 0.6126 - val_loss: 1.4693 - val_categorical_accuracy: 0.3440\b\b\b\b\b\b\b\b\b\b\b\b\b\b\b\b\b\b\b\b\b\b\b\b\b\b\b\b\b\b\b\b\b\b\b\b\b\b\b\b\b\b\b\b\b\b\b\b\b\n",
      "Epoch 6/50\n",
      "1585/1585 [==============================] - 0s - loss: 1.0119 - categorical_accuracy: 0.6126 - val_loss: 1.4531 - val_categorical_accuracy: 0.3480\b\b\b\b\b\b\b\b\b\b\b\b\b\b\b\b\b\b\b\b\b\b\b\b\b\b\b\b\b\b\b\b\b\b\b\b\b\b\b\b\b\b\b\b\b\b\b\b\b\n",
      "Epoch 7/50\n",
      "1585/1585 [==============================] - 0s - loss: 0.9949 - categorical_accuracy: 0.6132 - val_loss: 1.4457 - val_categorical_accuracy: 0.3480\b\b\b\b\b\b\b\b\b\b\b\b\b\b\b\b\b\b\b\b\b\b\b\b\b\b\b\b\b\b\b\b\b\b\b\b\b\b\b\b\b\b\b\b\b\b\b\b\b\n",
      "Epoch 8/50\n",
      "1585/1585 [==============================] - 0s - loss: 0.9765 - categorical_accuracy: 0.6145 - val_loss: 1.3776 - val_categorical_accuracy: 0.3560\b\b\b\b\b\b\b\b\b\b\b\b\b\b\b\b\b\b\b\b\b\b\b\b\b\b\b\b\b\b\b\b\b\b\b\b\b\b\b\b\b\b\b\b\b\b\b\b\b\n",
      "Epoch 9/50\n",
      "1585/1585 [==============================] - 0s - loss: 0.9609 - categorical_accuracy: 0.6158 - val_loss: 1.3822 - val_categorical_accuracy: 0.3560\b\b\b\b\b\b\b\b\b\b\b\b\b\b\b\b\b\b\b\b\b\b\b\b\b\b\b\b\b\b\b\b\b\b\b\b\b\b\b\b\b\b\b\b\b\b\b\b\b\n",
      "Epoch 10/50\n",
      "1585/1585 [==============================] - 0s - loss: 0.9469 - categorical_accuracy: 0.6183 - val_loss: 1.3848 - val_categorical_accuracy: 0.3560\b\b\b\b\b\b\b\b\b\b\b\b\b\b\b\b\b\b\b\b\b\b\b\b\b\b\b\b\b\b\b\b\b\b\b\b\b\b\b\b\b\b\b\b\b\b\b\b\b\n",
      "Epoch 11/50\n",
      "1585/1585 [==============================] - 0s - loss: 0.9343 - categorical_accuracy: 0.6170 - val_loss: 1.3288 - val_categorical_accuracy: 0.3720\b\b\b\b\b\b\b\b\b\b\b\b\b\b\b\b\b\b\b\b\b\b\b\b\b\b\b\b\b\b\b\b\b\b\b\b\b\b\b\b\b\b\b\b\b\b\b\b\b\n",
      "Epoch 12/50\n",
      "1585/1585 [==============================] - 0s - loss: 0.9221 - categorical_accuracy: 0.6265 - val_loss: 1.2890 - val_categorical_accuracy: 0.3840\b\b\b\b\b\b\b\b\b\b\b\b\b\b\b\b\b\b\b\b\b\b\b\b\b\b\b\b\b\b\b\b\b\b\b\b\b\b\b\b\b\b\b\b\b\b\b\b\b\n",
      "Epoch 13/50\n",
      "1585/1585 [==============================] - 0s - loss: 0.9136 - categorical_accuracy: 0.6309 - val_loss: 1.2693 - val_categorical_accuracy: 0.3960\b\b\b\b\b\b\b\b\b\b\b\b\b\b\b\b\b\b\b\b\b\b\b\b\b\b\b\b\b\b\b\b\b\b\b\b\b\b\b\b\b\b\b\b\b\b\b\b\b\n",
      "Epoch 14/50\n",
      "1585/1585 [==============================] - 0s - loss: 0.9026 - categorical_accuracy: 0.6240 - val_loss: 1.2836 - val_categorical_accuracy: 0.4000\b\b\b\b\b\b\b\b\b\b\b\b\b\b\b\b\b\b\b\b\b\b\b\b\b\b\b\b\b\b\b\b\b\b\b\b\b\b\b\b\b\b\b\b\b\b\b\b\b\n",
      "Epoch 15/50\n",
      "1585/1585 [==============================] - 0s - loss: 0.8921 - categorical_accuracy: 0.6341 - val_loss: 1.2529 - val_categorical_accuracy: 0.3880\b\b\b\b\b\b\b\b\b\b\b\b\b\b\b\b\b\b\b\b\b\b\b\b\b\b\b\b\b\b\b\b\b\b\b\b\b\b\b\b\b\b\b\b\b\b\b\b\b\n",
      "Epoch 16/50\n",
      "1585/1585 [==============================] - 0s - loss: 0.8853 - categorical_accuracy: 0.6297 - val_loss: 1.2576 - val_categorical_accuracy: 0.4000\b\b\b\b\b\b\b\b\b\b\b\b\b\b\b\b\b\b\b\b\b\b\b\b\b\b\b\b\b\b\b\b\b\b\b\b\b\b\b\b\b\b\b\b\b\b\b\b\b\n",
      "Epoch 17/50\n",
      "1585/1585 [==============================] - 0s - loss: 0.8750 - categorical_accuracy: 0.6341 - val_loss: 1.2683 - val_categorical_accuracy: 0.4160\b\b\b\b\b\b\b\b\b\b\b\b\b\b\b\b\b\b\b\b\b\b\b\b\b\b\b\b\b\b\b\b\b\b\b\b\b\b\b\b\b\b\b\b\b\b\b\b\b\n",
      "Epoch 18/50\n",
      "1585/1585 [==============================] - 0s - loss: 0.8674 - categorical_accuracy: 0.6366 - val_loss: 1.3344 - val_categorical_accuracy: 0.4120\b\b\b\b\b\b\b\b\b\b\b\b\b\b\b\b\b\b\b\b\b\b\b\b\b\b\b\b\b\b\b\b\b\b\b\b\b\b\b\b\b\b\b\b\b\b\b\b\b\n",
      "Epoch 19/50\n",
      "1585/1585 [==============================] - 0s - loss: 0.8634 - categorical_accuracy: 0.6454 - val_loss: 1.2800 - val_categorical_accuracy: 0.4120\b\b\b\b\b\b\b\b\b\b\b\b\b\b\b\b\b\b\b\b\b\b\b\b\b\b\b\b\b\b\b\b\b\b\b\b\b\b\b\b\b\b\b\b\b\b\b\b\b\n",
      "Epoch 20/50\n",
      "1585/1585 [==============================] - 0s - loss: 0.8557 - categorical_accuracy: 0.6372 - val_loss: 1.2045 - val_categorical_accuracy: 0.4160\b\b\b\b\b\b\b\b\b\b\b\b\b\b\b\b\b\b\b\b\b\b\b\b\b\b\b\b\b\b\b\b\b\b\b\b\b\b\b\b\b\b\b\b\b\b\b\b\b\n",
      "Epoch 21/50\n",
      "1585/1585 [==============================] - 0s - loss: 0.8513 - categorical_accuracy: 0.6473 - val_loss: 1.2110 - val_categorical_accuracy: 0.4080\b\b\b\b\b\b\b\b\b\b\b\b\b\b\b\b\b\b\b\b\b\b\b\b\b\b\b\b\b\b\b\b\b\b\b\b\b\b\b\b\b\b\b\b\b\b\b\b\b\n",
      "Epoch 22/50\n",
      "1585/1585 [==============================] - 0s - loss: 0.8488 - categorical_accuracy: 0.6492 - val_loss: 1.2372 - val_categorical_accuracy: 0.4280\b\b\b\b\b\b\b\b\b\b\b\b\b\b\b\b\b\b\b\b\b\b\b\b\b\b\b\b\b\b\b\b\b\b\b\b\b\b\b\b\b\b\b\b\b\b\b\b\b\n",
      "Epoch 23/50\n",
      "1585/1585 [==============================] - 0s - loss: 0.8418 - categorical_accuracy: 0.6461 - val_loss: 1.2073 - val_categorical_accuracy: 0.4120\b\b\b\b\b\b\b\b\b\b\b\b\b\b\b\b\b\b\b\b\b\b\b\b\b\b\b\b\b\b\b\b\b\b\b\b\b\b\b\b\b\b\b\b\b\b\b\b\b\n",
      "Epoch 24/50\n",
      "1585/1585 [==============================] - 0s - loss: 0.8387 - categorical_accuracy: 0.6555 - val_loss: 1.1643 - val_categorical_accuracy: 0.4760\b\b\b\b\b\b\b\b\b\b\b\b\b\b\b\b\b\b\b\b\b\b\b\b\b\b\b\b\b\b\b\b\b\b\b\b\b\b\b\b\b\b\b\b\b\b\b\b\b\n",
      "Epoch 25/50\n",
      "1585/1585 [==============================] - 0s - loss: 0.8340 - categorical_accuracy: 0.6511 - val_loss: 1.2081 - val_categorical_accuracy: 0.4320\b\b\b\b\b\b\b\b\b\b\b\b\b\b\b\b\b\b\b\b\b\b\b\b\b\b\b\b\b\b\b\b\b\b\b\b\b\b\b\b\b\b\b\b\b\b\b\b\b\n",
      "Epoch 26/50\n",
      "1585/1585 [==============================] - 0s - loss: 0.8285 - categorical_accuracy: 0.6555 - val_loss: 1.1959 - val_categorical_accuracy: 0.4360\b\b\b\b\b\b\b\b\b\b\b\b\b\b\b\b\b\b\b\b\b\b\b\b\b\b\b\b\b\b\b\b\b\b\b\b\b\b\b\b\b\b\b\b\b\b\b\b\b\n",
      "Epoch 27/50\n",
      "1585/1585 [==============================] - 0s - loss: 0.8260 - categorical_accuracy: 0.6587 - val_loss: 1.2759 - val_categorical_accuracy: 0.4240\b\b\b\b\b\b\b\b\b\b\b\b\b\b\b\b\b\b\b\b\b\b\b\b\b\b\b\b\b\b\b\b\b\b\b\b\b\b\b\b\b\b\b\b\b\b\b\b\b\n",
      "Epoch 28/50\n",
      "1585/1585 [==============================] - 0s - loss: 0.8280 - categorical_accuracy: 0.6644 - val_loss: 1.1468 - val_categorical_accuracy: 0.4680\b\b\b\b\b\b\b\b\b\b\b\b\b\b\b\b\b\b\b\b\b\b\b\b\b\b\b\b\b\b\b\b\b\b\b\b\b\b\b\b\b\b\b\b\b\b\b\b\b\n",
      "Epoch 29/50\n",
      "1585/1585 [==============================] - 0s - loss: 0.8204 - categorical_accuracy: 0.6669 - val_loss: 1.1450 - val_categorical_accuracy: 0.4640\b\b\b\b\b\b\b\b\b\b\b\b\b\b\b\b\b\b\b\b\b\b\b\b\b\b\b\b\b\b\b\b\b\b\b\b\b\b\b\b\b\b\b\b\b\b\b\b\b\n",
      "Epoch 30/50\n",
      "1585/1585 [==============================] - 0s - loss: 0.8130 - categorical_accuracy: 0.6732 - val_loss: 1.2698 - val_categorical_accuracy: 0.4120\b\b\b\b\b\b\b\b\b\b\b\b\b\b\b\b\b\b\b\b\b\b\b\b\b\b\b\b\b\b\b\b\b\b\b\b\b\b\b\b\b\b\b\b\b\b\b\b\b\n",
      "Epoch 31/50\n",
      "1585/1585 [==============================] - 0s - loss: 0.8179 - categorical_accuracy: 0.6669 - val_loss: 1.2066 - val_categorical_accuracy: 0.4480\b\b\b\b\b\b\b\b\b\b\b\b\b\b\b\b\b\b\b\b\b\b\b\b\b\b\b\b\b\b\b\b\b\b\b\b\b\b\b\b\b\b\b\b\b\b\b\b\b\n",
      "Epoch 32/50\n",
      "1585/1585 [==============================] - 0s - loss: 0.8111 - categorical_accuracy: 0.6681 - val_loss: 1.2503 - val_categorical_accuracy: 0.4440\b\b\b\b\b\b\b\b\b\b\b\b\b\b\b\b\b\b\b\b\b\b\b\b\b\b\b\b\b\b\b\b\b\b\b\b\b\b\b\b\b\b\b\b\b\b\b\b\b\n",
      "Epoch 33/50\n",
      "1585/1585 [==============================] - 0s - loss: 0.8093 - categorical_accuracy: 0.6637 - val_loss: 1.2028 - val_categorical_accuracy: 0.4520\b\b\b\b\b\b\b\b\b\b\b\b\b\b\b\b\b\b\b\b\b\b\b\b\b\b\b\b\b\b\b\b\b\b\b\b\b\b\b\b\b\b\b\b\b\b\b\b\b\n",
      "Epoch 34/50\n",
      "1585/1585 [==============================] - 0s - loss: 0.8061 - categorical_accuracy: 0.6789 - val_loss: 1.2474 - val_categorical_accuracy: 0.4280\b\b\b\b\b\b\b\b\b\b\b\b\b\b\b\b\b\b\b\b\b\b\b\b\b\b\b\b\b\b\b\b\b\b\b\b\b\b\b\b\b\b\b\b\b\b\b\b\b\n",
      "Epoch 35/50\n",
      "1585/1585 [==============================] - 0s - loss: 0.8041 - categorical_accuracy: 0.6719 - val_loss: 1.1778 - val_categorical_accuracy: 0.4640\b\b\b\b\b\b\b\b\b\b\b\b\b\b\b\b\b\b\b\b\b\b\b\b\b\b\b\b\b\b\b\b\b\b\b\b\b\b\b\b\b\b\b\b\b\b\b\b\b\n",
      "Epoch 36/50\n",
      "1585/1585 [==============================] - 0s - loss: 0.8002 - categorical_accuracy: 0.6688 - val_loss: 1.1334 - val_categorical_accuracy: 0.4920\b\b\b\b\b\b\b\b\b\b\b\b\b\b\b\b\b\b\b\b\b\b\b\b\b\b\b\b\b\b\b\b\b\b\b\b\b\b\b\b\b\b\b\b\b\b\b\b\b\n",
      "Epoch 37/50\n",
      "1585/1585 [==============================] - 0s - loss: 0.7981 - categorical_accuracy: 0.6751 - val_loss: 1.1992 - val_categorical_accuracy: 0.4360\b\b\b\b\b\b\b\b\b\b\b\b\b\b\b\b\b\b\b\b\b\b\b\b\b\b\b\b\b\b\b\b\b\b\b\b\b\b\b\b\b\b\b\b\b\b\b\b\b\n",
      "Epoch 38/50\n",
      "1585/1585 [==============================] - 0s - loss: 0.7986 - categorical_accuracy: 0.6782 - val_loss: 1.1795 - val_categorical_accuracy: 0.4720\b\b\b\b\b\b\b\b\b\b\b\b\b\b\b\b\b\b\b\b\b\b\b\b\b\b\b\b\b\b\b\b\b\b\b\b\b\b\b\b\b\b\b\b\b\b\b\b\b\n",
      "Epoch 39/50\n",
      "1585/1585 [==============================] - 0s - loss: 0.7949 - categorical_accuracy: 0.6801 - val_loss: 1.1338 - val_categorical_accuracy: 0.4760\b\b\b\b\b\b\b\b\b\b\b\b\b\b\b\b\b\b\b\b\b\b\b\b\b\b\b\b\b\b\b\b\b\b\b\b\b\b\b\b\b\b\b\b\b\b\b\b\b\n",
      "Epoch 40/50\n",
      "1585/1585 [==============================] - 0s - loss: 0.7930 - categorical_accuracy: 0.6782 - val_loss: 1.1426 - val_categorical_accuracy: 0.4800\b\b\b\b\b\b\b\b\b\b\b\b\b\b\b\b\b\b\b\b\b\b\b\b\b\b\b\b\b\b\b\b\b\b\b\b\b\b\b\b\b\b\b\b\b\b\b\b\b\n",
      "Epoch 41/50\n",
      "1585/1585 [==============================] - 0s - loss: 0.7928 - categorical_accuracy: 0.6833 - val_loss: 1.1869 - val_categorical_accuracy: 0.4640\b\b\b\b\b\b\b\b\b\b\b\b\b\b\b\b\b\b\b\b\b\b\b\b\b\b\b\b\b\b\b\b\b\b\b\b\b\b\b\b\b\b\b\b\b\b\b\b\b\n",
      "Epoch 42/50\n",
      "1585/1585 [==============================] - 0s - loss: 0.7921 - categorical_accuracy: 0.6808 - val_loss: 1.1608 - val_categorical_accuracy: 0.5000\b\b\b\b\b\b\b\b\b\b\b\b\b\b\b\b\b\b\b\b\b\b\b\b\b\b\b\b\b\b\b\b\b\b\b\b\b\b\b\b\b\b\b\b\b\b\b\b\b\n",
      "Epoch 43/50\n",
      "1585/1585 [==============================] - 0s - loss: 0.7926 - categorical_accuracy: 0.6789 - val_loss: 1.2102 - val_categorical_accuracy: 0.4520\b\b\b\b\b\b\b\b\b\b\b\b\b\b\b\b\b\b\b\b\b\b\b\b\b\b\b\b\b\b\b\b\b\b\b\b\b\b\b\b\b\b\b\b\b\b\b\b\b\n",
      "Epoch 44/50\n",
      "1585/1585 [==============================] - 0s - loss: 0.7843 - categorical_accuracy: 0.6845 - val_loss: 1.1599 - val_categorical_accuracy: 0.4960\b\b\b\b\b\b\b\b\b\b\b\b\b\b\b\b\b\b\b\b\b\b\b\b\b\b\b\b\b\b\b\b\b\b\b\b\b\b\b\b\b\b\b\b\b\b\b\b\b\n",
      "Epoch 45/50\n",
      "1585/1585 [==============================] - 0s - loss: 0.7870 - categorical_accuracy: 0.6757 - val_loss: 1.1635 - val_categorical_accuracy: 0.4800\b\b\b\b\b\b\b\b\b\b\b\b\b\b\b\b\b\b\b\b\b\b\b\b\b\b\b\b\b\b\b\b\b\b\b\b\b\b\b\b\b\b\b\b\b\b\b\b\b\n",
      "Epoch 46/50\n",
      "1585/1585 [==============================] - 0s - loss: 0.7839 - categorical_accuracy: 0.6820 - val_loss: 1.1743 - val_categorical_accuracy: 0.4600\b\b\b\b\b\b\b\b\b\b\b\b\b\b\b\b\b\b\b\b\b\b\b\b\b\b\b\b\b\b\b\b\b\b\b\b\b\b\b\b\b\b\b\b\b\b\b\b\b\n",
      "Epoch 47/50\n",
      "1585/1585 [==============================] - 0s - loss: 0.7826 - categorical_accuracy: 0.6814 - val_loss: 1.1580 - val_categorical_accuracy: 0.4800\b\b\b\b\b\b\b\b\b\b\b\b\b\b\b\b\b\b\b\b\b\b\b\b\b\b\b\b\b\b\b\b\b\b\b\b\b\b\b\b\b\b\b\b\b\b\b\b\b\n",
      "Epoch 48/50\n",
      "1585/1585 [==============================] - 0s - loss: 0.7814 - categorical_accuracy: 0.6839 - val_loss: 1.1208 - val_categorical_accuracy: 0.5000\b\b\b\b\b\b\b\b\b\b\b\b\b\b\b\b\b\b\b\b\b\b\b\b\b\b\b\b\b\b\b\b\b\b\b\b\b\b\b\b\b\b\b\b\b\b\b\b\b\n",
      "Epoch 49/50\n",
      "1585/1585 [==============================] - 0s - loss: 0.7839 - categorical_accuracy: 0.6896 - val_loss: 1.1665 - val_categorical_accuracy: 0.4720\b\b\b\b\b\b\b\b\b\b\b\b\b\b\b\b\b\b\b\b\b\b\b\b\b\b\b\b\b\b\b\b\b\b\b\b\b\b\b\b\b\b\b\b\b\b\b\b\b\n",
      "Epoch 50/50\n",
      "1585/1585 [==============================] - 0s - loss: 0.7791 - categorical_accuracy: 0.6915 - val_loss: 1.1489 - val_categorical_accuracy: 0.4800\b\b\b\b\b\b\b\b\b\b\b\b\b\b\b\b\b\b\b\b\b\b\b\b\b\b\b\b\b\b\b\b\b\b\b\b\b\b\b\b\b\b\b\b\b\b\b\b\b\n"
     ]
    },
    {
     "data": {
      "text/plain": [
       "<keras.callbacks.History at 0xb1f4f06940>"
      ]
     },
     "execution_count": 78,
     "metadata": {},
     "output_type": "execute_result"
    }
   ],
   "source": [
    "model.fit(X_train_g, Y_train, nb_epoch=50, batch_size=50, validation_data=(X_validation_g, Y_validation))"
   ]
  },
  {
   "cell_type": "code",
   "execution_count": 79,
   "metadata": {
    "collapsed": false
   },
   "outputs": [
    {
     "name": "stdout",
     "output_type": "stream",
     "text": [
      "\r",
      " 50/250 [=====>........................] - ETA: 0s"
     ]
    },
    {
     "data": {
      "text/plain": [
       "[1.1764106750488281, 0.46800000071525572]"
      ]
     },
     "execution_count": 79,
     "metadata": {},
     "output_type": "execute_result"
    }
   ],
   "source": [
    "model.evaluate(X_test_g, Y_test, batch_size=50)"
   ]
  },
  {
   "cell_type": "markdown",
   "metadata": {},
   "source": [
    "<strong>Training the model with Relu instead of Tanh</strong>"
   ]
  },
  {
   "cell_type": "code",
   "execution_count": 80,
   "metadata": {
    "collapsed": true
   },
   "outputs": [],
   "source": [
    "model_3 = Sequential()"
   ]
  },
  {
   "cell_type": "code",
   "execution_count": 81,
   "metadata": {
    "collapsed": true
   },
   "outputs": [],
   "source": [
    "model_3.add(Dense(32, activation ='relu', input_dim=50))\n",
    "model_3.add(Dense(8, activation='softmax'))"
   ]
  },
  {
   "cell_type": "code",
   "execution_count": 82,
   "metadata": {
    "collapsed": true
   },
   "outputs": [],
   "source": [
    "model_3.compile(loss='categorical_crossentropy', optimizer='adam', metrics=['categorical_accuracy'])"
   ]
  },
  {
   "cell_type": "code",
   "execution_count": 83,
   "metadata": {
    "collapsed": false
   },
   "outputs": [
    {
     "name": "stdout",
     "output_type": "stream",
     "text": [
      "Train on 1585 samples, validate on 250 samples\n",
      "Epoch 1/50\n",
      "1585/1585 [==============================] - 0s - loss: 1.9638 - categorical_accuracy: 0.2215 - val_loss: 1.7112 - val_categorical_accuracy: 0.3480\b\b\b\b\b\b\b\b\b\b\b\b\b\b\b\b\b\b\b\b\b\b\b\b\b\b\b\b\b\b\b\b\b\b\b\b\b\b\b\b\b\b\b\b\b\b\b\b\b\b\b\b\b\b\b\b\b\n",
      "Epoch 2/50\n",
      "1585/1585 [==============================] - 0s - loss: 1.3304 - categorical_accuracy: 0.6114 - val_loss: 1.6014 - val_categorical_accuracy: 0.3440\b\b\b\b\b\b\b\b\b\b\b\b\b\b\b\b\b\b\b\b\b\b\b\b\b\b\b\b\b\b\b\b\b\b\b\b\b\b\b\b\b\b\b\b\b\b\b\b\b\n",
      "Epoch 3/50\n",
      "1585/1585 [==============================] - 0s - loss: 1.1370 - categorical_accuracy: 0.6114 - val_loss: 1.5683 - val_categorical_accuracy: 0.3440\b\b\b\b\b\b\b\b\b\b\b\b\b\b\b\b\b\b\b\b\b\b\b\b\b\b\b\b\b\b\b\b\b\b\b\b\b\b\b\b\b\b\b\b\b\b\b\b\b\n",
      "Epoch 4/50\n",
      "1585/1585 [==============================] - 0s - loss: 1.0988 - categorical_accuracy: 0.6114 - val_loss: 1.5266 - val_categorical_accuracy: 0.3440\b\b\b\b\b\b\b\b\b\b\b\b\b\b\b\b\b\b\b\b\b\b\b\b\b\b\b\b\b\b\b\b\b\b\b\b\b\b\b\b\b\b\b\b\b\b\b\b\b\n",
      "Epoch 5/50\n",
      "1585/1585 [==============================] - 0s - loss: 1.0787 - categorical_accuracy: 0.6114 - val_loss: 1.4902 - val_categorical_accuracy: 0.3440\b\b\b\b\b\b\b\b\b\b\b\b\b\b\b\b\b\b\b\b\b\b\b\b\b\b\b\b\b\b\b\b\b\b\b\b\b\b\b\b\b\b\b\b\b\b\b\b\b\n",
      "Epoch 6/50\n",
      "1585/1585 [==============================] - 0s - loss: 1.0615 - categorical_accuracy: 0.6114 - val_loss: 1.4724 - val_categorical_accuracy: 0.3440\b\b\b\b\b\b\b\b\b\b\b\b\b\b\b\b\b\b\b\b\b\b\b\b\b\b\b\b\b\b\b\b\b\b\b\b\b\b\b\b\b\b\b\b\b\b\b\b\b\n",
      "Epoch 7/50\n",
      "1585/1585 [==============================] - 0s - loss: 1.0446 - categorical_accuracy: 0.6114 - val_loss: 1.4376 - val_categorical_accuracy: 0.3440\b\b\b\b\b\b\b\b\b\b\b\b\b\b\b\b\b\b\b\b\b\b\b\b\b\b\b\b\b\b\b\b\b\b\b\b\b\b\b\b\b\b\b\b\b\b\b\b\b\n",
      "Epoch 8/50\n",
      "1585/1585 [==============================] - 0s - loss: 1.0298 - categorical_accuracy: 0.6114 - val_loss: 1.4395 - val_categorical_accuracy: 0.3440\b\b\b\b\b\b\b\b\b\b\b\b\b\b\b\b\b\b\b\b\b\b\b\b\b\b\b\b\b\b\b\b\b\b\b\b\b\b\b\b\b\b\b\b\b\b\b\b\b\n",
      "Epoch 9/50\n",
      "1585/1585 [==============================] - 0s - loss: 1.0125 - categorical_accuracy: 0.6114 - val_loss: 1.4110 - val_categorical_accuracy: 0.3440\b\b\b\b\b\b\b\b\b\b\b\b\b\b\b\b\b\b\b\b\b\b\b\b\b\b\b\b\b\b\b\b\b\b\b\b\b\b\b\b\b\b\b\b\b\b\b\b\b\n",
      "Epoch 10/50\n",
      "1585/1585 [==============================] - 0s - loss: 0.9977 - categorical_accuracy: 0.6120 - val_loss: 1.3901 - val_categorical_accuracy: 0.3520\b\b\b\b\b\b\b\b\b\b\b\b\b\b\b\b\b\b\b\b\b\b\b\b\b\b\b\b\b\b\b\b\b\b\b\b\b\b\b\b\b\b\b\b\b\b\b\b\b\n",
      "Epoch 11/50\n",
      "1585/1585 [==============================] - 0s - loss: 0.9814 - categorical_accuracy: 0.6120 - val_loss: 1.3531 - val_categorical_accuracy: 0.3560\b\b\b\b\b\b\b\b\b\b\b\b\b\b\b\b\b\b\b\b\b\b\b\b\b\b\b\b\b\b\b\b\b\b\b\b\b\b\b\b\b\b\b\b\b\b\b\b\b\n",
      "Epoch 12/50\n",
      "1585/1585 [==============================] - 0s - loss: 0.9668 - categorical_accuracy: 0.6170 - val_loss: 1.3674 - val_categorical_accuracy: 0.3560\b\b\b\b\b\b\b\b\b\b\b\b\b\b\b\b\b\b\b\b\b\b\b\b\b\b\b\b\b\b\b\b\b\b\b\b\b\b\b\b\b\b\b\b\b\b\b\b\b\n",
      "Epoch 13/50\n",
      "1585/1585 [==============================] - 0s - loss: 0.9549 - categorical_accuracy: 0.6164 - val_loss: 1.3532 - val_categorical_accuracy: 0.3560\b\b\b\b\b\b\b\b\b\b\b\b\b\b\b\b\b\b\b\b\b\b\b\b\b\b\b\b\b\b\b\b\b\b\b\b\b\b\b\b\b\b\b\b\b\b\b\b\b\n",
      "Epoch 14/50\n",
      "1585/1585 [==============================] - 0s - loss: 0.9445 - categorical_accuracy: 0.6227 - val_loss: 1.3593 - val_categorical_accuracy: 0.3600\b\b\b\b\b\b\b\b\b\b\b\b\b\b\b\b\b\b\b\b\b\b\b\b\b\b\b\b\b\b\b\b\b\b\b\b\b\b\b\b\b\b\b\b\b\b\b\b\b\n",
      "Epoch 15/50\n",
      "1585/1585 [==============================] - 0s - loss: 0.9344 - categorical_accuracy: 0.6215 - val_loss: 1.2763 - val_categorical_accuracy: 0.3640\b\b\b\b\b\b\b\b\b\b\b\b\b\b\b\b\b\b\b\b\b\b\b\b\b\b\b\b\b\b\b\b\b\b\b\b\b\b\b\b\b\b\b\b\b\b\b\b\b\n",
      "Epoch 16/50\n",
      "1585/1585 [==============================] - 0s - loss: 0.9293 - categorical_accuracy: 0.6290 - val_loss: 1.3102 - val_categorical_accuracy: 0.3520\b\b\b\b\b\b\b\b\b\b\b\b\b\b\b\b\b\b\b\b\b\b\b\b\b\b\b\b\b\b\b\b\b\b\b\b\b\b\b\b\b\b\b\b\b\b\b\b\b\n",
      "Epoch 17/50\n",
      "1585/1585 [==============================] - 0s - loss: 0.9211 - categorical_accuracy: 0.6303 - val_loss: 1.2754 - val_categorical_accuracy: 0.3640\b\b\b\b\b\b\b\b\b\b\b\b\b\b\b\b\b\b\b\b\b\b\b\b\b\b\b\b\b\b\b\b\b\b\b\b\b\b\b\b\b\b\b\b\b\b\b\b\b\n",
      "Epoch 18/50\n",
      "1585/1585 [==============================] - 0s - loss: 0.9196 - categorical_accuracy: 0.6221 - val_loss: 1.2692 - val_categorical_accuracy: 0.4160\b\b\b\b\b\b\b\b\b\b\b\b\b\b\b\b\b\b\b\b\b\b\b\b\b\b\b\b\b\b\b\b\b\b\b\b\b\b\b\b\b\b\b\b\b\b\b\b\b\n",
      "Epoch 19/50\n",
      "1585/1585 [==============================] - 0s - loss: 0.9124 - categorical_accuracy: 0.6303 - val_loss: 1.2699 - val_categorical_accuracy: 0.3720\b\b\b\b\b\b\b\b\b\b\b\b\b\b\b\b\b\b\b\b\b\b\b\b\b\b\b\b\b\b\b\b\b\b\b\b\b\b\b\b\b\b\b\b\b\b\b\b\b\n",
      "Epoch 20/50\n",
      "1585/1585 [==============================] - 0s - loss: 0.9076 - categorical_accuracy: 0.6353 - val_loss: 1.2682 - val_categorical_accuracy: 0.3960\b\b\b\b\b\b\b\b\b\b\b\b\b\b\b\b\b\b\b\b\b\b\b\b\b\b\b\b\b\b\b\b\b\b\b\b\b\b\b\b\b\b\b\b\b\b\b\b\b\n",
      "Epoch 21/50\n",
      "1585/1585 [==============================] - 0s - loss: 0.9056 - categorical_accuracy: 0.6347 - val_loss: 1.2672 - val_categorical_accuracy: 0.4040\b\b\b\b\b\b\b\b\b\b\b\b\b\b\b\b\b\b\b\b\b\b\b\b\b\b\b\b\b\b\b\b\b\b\b\b\b\b\b\b\b\b\b\b\b\b\b\b\b\n",
      "Epoch 22/50\n",
      "1585/1585 [==============================] - 0s - loss: 0.8982 - categorical_accuracy: 0.6360 - val_loss: 1.2481 - val_categorical_accuracy: 0.4080\b\b\b\b\b\b\b\b\b\b\b\b\b\b\b\b\b\b\b\b\b\b\b\b\b\b\b\b\b\b\b\b\b\b\b\b\b\b\b\b\b\b\b\b\b\b\b\b\b\n",
      "Epoch 23/50\n",
      "1585/1585 [==============================] - 0s - loss: 0.8948 - categorical_accuracy: 0.6435 - val_loss: 1.2886 - val_categorical_accuracy: 0.3960\b\b\b\b\b\b\b\b\b\b\b\b\b\b\b\b\b\b\b\b\b\b\b\b\b\b\b\b\b\b\b\b\b\b\b\b\b\b\b\b\b\b\b\b\b\b\b\b\b\n",
      "Epoch 24/50\n",
      "1585/1585 [==============================] - 0s - loss: 0.8971 - categorical_accuracy: 0.6341 - val_loss: 1.3000 - val_categorical_accuracy: 0.3760\b\b\b\b\b\b\b\b\b\b\b\b\b\b\b\b\b\b\b\b\b\b\b\b\b\b\b\b\b\b\b\b\b\b\b\b\b\b\b\b\b\b\b\b\b\b\b\b\b\n",
      "Epoch 25/50\n",
      "1585/1585 [==============================] - 0s - loss: 0.8900 - categorical_accuracy: 0.6397 - val_loss: 1.1994 - val_categorical_accuracy: 0.4320\b\b\b\b\b\b\b\b\b\b\b\b\b\b\b\b\b\b\b\b\b\b\b\b\b\b\b\b\b\b\b\b\b\b\b\b\b\b\b\b\b\b\b\b\b\b\b\b\b\n",
      "Epoch 26/50\n",
      "1585/1585 [==============================] - 0s - loss: 0.8885 - categorical_accuracy: 0.6410 - val_loss: 1.2464 - val_categorical_accuracy: 0.4000\b\b\b\b\b\b\b\b\b\b\b\b\b\b\b\b\b\b\b\b\b\b\b\b\b\b\b\b\b\b\b\b\b\b\b\b\b\b\b\b\b\b\b\b\b\b\b\b\b\n",
      "Epoch 27/50\n",
      "1585/1585 [==============================] - 0s - loss: 0.8871 - categorical_accuracy: 0.6435 - val_loss: 1.1842 - val_categorical_accuracy: 0.4560\b\b\b\b\b\b\b\b\b\b\b\b\b\b\b\b\b\b\b\b\b\b\b\b\b\b\b\b\b\b\b\b\b\b\b\b\b\b\b\b\b\b\b\b\b\b\b\b\b\n",
      "Epoch 28/50\n",
      "1585/1585 [==============================] - 0s - loss: 0.8913 - categorical_accuracy: 0.6543 - val_loss: 1.2186 - val_categorical_accuracy: 0.4240\b\b\b\b\b\b\b\b\b\b\b\b\b\b\b\b\b\b\b\b\b\b\b\b\b\b\b\b\b\b\b\b\b\b\b\b\b\b\b\b\b\b\b\b\b\b\b\b\b\n",
      "Epoch 29/50\n",
      "1585/1585 [==============================] - 0s - loss: 0.8831 - categorical_accuracy: 0.6505 - val_loss: 1.2574 - val_categorical_accuracy: 0.4240\b\b\b\b\b\b\b\b\b\b\b\b\b\b\b\b\b\b\b\b\b\b\b\b\b\b\b\b\b\b\b\b\b\b\b\b\b\b\b\b\b\b\b\b\b\b\b\b\b\n",
      "Epoch 30/50\n",
      "1585/1585 [==============================] - 0s - loss: 0.8830 - categorical_accuracy: 0.6448 - val_loss: 1.2475 - val_categorical_accuracy: 0.4200\b\b\b\b\b\b\b\b\b\b\b\b\b\b\b\b\b\b\b\b\b\b\b\b\b\b\b\b\b\b\b\b\b\b\b\b\b\b\b\b\b\b\b\b\b\b\b\b\b\n",
      "Epoch 31/50\n",
      "1585/1585 [==============================] - 0s - loss: 0.8804 - categorical_accuracy: 0.6454 - val_loss: 1.1849 - val_categorical_accuracy: 0.4680\b\b\b\b\b\b\b\b\b\b\b\b\b\b\b\b\b\b\b\b\b\b\b\b\b\b\b\b\b\b\b\b\b\b\b\b\b\b\b\b\b\b\b\b\b\b\b\b\b\n",
      "Epoch 32/50\n",
      "1585/1585 [==============================] - 0s - loss: 0.8790 - categorical_accuracy: 0.6486 - val_loss: 1.2595 - val_categorical_accuracy: 0.4240\b\b\b\b\b\b\b\b\b\b\b\b\b\b\b\b\b\b\b\b\b\b\b\b\b\b\b\b\b\b\b\b\b\b\b\b\b\b\b\b\b\b\b\b\b\b\b\b\b\n",
      "Epoch 33/50\n",
      "1585/1585 [==============================] - 0s - loss: 0.8763 - categorical_accuracy: 0.6511 - val_loss: 1.2202 - val_categorical_accuracy: 0.4320\b\b\b\b\b\b\b\b\b\b\b\b\b\b\b\b\b\b\b\b\b\b\b\b\b\b\b\b\b\b\b\b\b\b\b\b\b\b\b\b\b\b\b\b\b\b\b\b\b\n",
      "Epoch 34/50\n",
      "1585/1585 [==============================] - 0s - loss: 0.8752 - categorical_accuracy: 0.6505 - val_loss: 1.2210 - val_categorical_accuracy: 0.4200\b\b\b\b\b\b\b\b\b\b\b\b\b\b\b\b\b\b\b\b\b\b\b\b\b\b\b\b\b\b\b\b\b\b\b\b\b\b\b\b\b\b\b\b\b\b\b\b\b\n",
      "Epoch 35/50\n",
      "1585/1585 [==============================] - 0s - loss: 0.8756 - categorical_accuracy: 0.6517 - val_loss: 1.2324 - val_categorical_accuracy: 0.4400\b\b\b\b\b\b\b\b\b\b\b\b\b\b\b\b\b\b\b\b\b\b\b\b\b\b\b\b\b\b\b\b\b\b\b\b\b\b\b\b\b\b\b\b\b\b\b\b\b\n",
      "Epoch 36/50\n",
      "1585/1585 [==============================] - 0s - loss: 0.8716 - categorical_accuracy: 0.6530 - val_loss: 1.2406 - val_categorical_accuracy: 0.4240\b\b\b\b\b\b\b\b\b\b\b\b\b\b\b\b\b\b\b\b\b\b\b\b\b\b\b\b\b\b\b\b\b\b\b\b\b\b\b\b\b\b\b\b\b\b\b\b\b\n",
      "Epoch 37/50\n",
      "1585/1585 [==============================] - 0s - loss: 0.8700 - categorical_accuracy: 0.6498 - val_loss: 1.2303 - val_categorical_accuracy: 0.4280\b\b\b\b\b\b\b\b\b\b\b\b\b\b\b\b\b\b\b\b\b\b\b\b\b\b\b\b\b\b\b\b\b\b\b\b\b\b\b\b\b\b\b\b\b\b\b\b\b\n",
      "Epoch 38/50\n",
      "1585/1585 [==============================] - 0s - loss: 0.8693 - categorical_accuracy: 0.6511 - val_loss: 1.2554 - val_categorical_accuracy: 0.4320\b\b\b\b\b\b\b\b\b\b\b\b\b\b\b\b\b\b\b\b\b\b\b\b\b\b\b\b\b\b\b\b\b\b\b\b\b\b\b\b\b\b\b\b\b\b\b\b\b\n",
      "Epoch 39/50\n",
      "1585/1585 [==============================] - 0s - loss: 0.8734 - categorical_accuracy: 0.6429 - val_loss: 1.2560 - val_categorical_accuracy: 0.4240\b\b\b\b\b\b\b\b\b\b\b\b\b\b\b\b\b\b\b\b\b\b\b\b\b\b\b\b\b\b\b\b\b\b\b\b\b\b\b\b\b\b\b\b\b\b\b\b\b\n",
      "Epoch 40/50\n",
      "1585/1585 [==============================] - 0s - loss: 0.8658 - categorical_accuracy: 0.6562 - val_loss: 1.2723 - val_categorical_accuracy: 0.4200\b\b\b\b\b\b\b\b\b\b\b\b\b\b\b\b\b\b\b\b\b\b\b\b\b\b\b\b\b\b\b\b\b\b\b\b\b\b\b\b\b\b\b\b\b\b\b\b\b\n",
      "Epoch 41/50\n",
      "1585/1585 [==============================] - 0s - loss: 0.8698 - categorical_accuracy: 0.6536 - val_loss: 1.2079 - val_categorical_accuracy: 0.4400\b\b\b\b\b\b\b\b\b\b\b\b\b\b\b\b\b\b\b\b\b\b\b\b\b\b\b\b\b\b\b\b\b\b\b\b\b\b\b\b\b\b\b\b\b\b\b\b\b\n",
      "Epoch 42/50\n",
      "1585/1585 [==============================] - 0s - loss: 0.8630 - categorical_accuracy: 0.6549 - val_loss: 1.2440 - val_categorical_accuracy: 0.4160\b\b\b\b\b\b\b\b\b\b\b\b\b\b\b\b\b\b\b\b\b\b\b\b\b\b\b\b\b\b\b\b\b\b\b\b\b\b\b\b\b\b\b\b\b\b\b\b\b\n",
      "Epoch 43/50\n",
      "1585/1585 [==============================] - 0s - loss: 0.8627 - categorical_accuracy: 0.6580 - val_loss: 1.2397 - val_categorical_accuracy: 0.4360\b\b\b\b\b\b\b\b\b\b\b\b\b\b\b\b\b\b\b\b\b\b\b\b\b\b\b\b\b\b\b\b\b\b\b\b\b\b\b\b\b\b\b\b\b\b\b\b\b\n",
      "Epoch 44/50\n",
      "1585/1585 [==============================] - 0s - loss: 0.8611 - categorical_accuracy: 0.6612 - val_loss: 1.2583 - val_categorical_accuracy: 0.4280\b\b\b\b\b\b\b\b\b\b\b\b\b\b\b\b\b\b\b\b\b\b\b\b\b\b\b\b\b\b\b\b\b\b\b\b\b\b\b\b\b\b\b\b\b\b\b\b\b\n",
      "Epoch 45/50\n",
      "1585/1585 [==============================] - 0s - loss: 0.8606 - categorical_accuracy: 0.6562 - val_loss: 1.2381 - val_categorical_accuracy: 0.4400\b\b\b\b\b\b\b\b\b\b\b\b\b\b\b\b\b\b\b\b\b\b\b\b\b\b\b\b\b\b\b\b\b\b\b\b\b\b\b\b\b\b\b\b\b\b\b\b\b\n",
      "Epoch 46/50\n",
      "1585/1585 [==============================] - 0s - loss: 0.8594 - categorical_accuracy: 0.6587 - val_loss: 1.2632 - val_categorical_accuracy: 0.4160\b\b\b\b\b\b\b\b\b\b\b\b\b\b\b\b\b\b\b\b\b\b\b\b\b\b\b\b\b\b\b\b\b\b\b\b\b\b\b\b\b\b\b\b\b\b\b\b\b\n",
      "Epoch 47/50\n",
      "1585/1585 [==============================] - 0s - loss: 0.8603 - categorical_accuracy: 0.6644 - val_loss: 1.2175 - val_categorical_accuracy: 0.4520\b\b\b\b\b\b\b\b\b\b\b\b\b\b\b\b\b\b\b\b\b\b\b\b\b\b\b\b\b\b\b\b\b\b\b\b\b\b\b\b\b\b\b\b\b\b\b\b\b\n",
      "Epoch 48/50\n",
      "1585/1585 [==============================] - 0s - loss: 0.8567 - categorical_accuracy: 0.6618 - val_loss: 1.2514 - val_categorical_accuracy: 0.4400\b\b\b\b\b\b\b\b\b\b\b\b\b\b\b\b\b\b\b\b\b\b\b\b\b\b\b\b\b\b\b\b\b\b\b\b\b\b\b\b\b\b\b\b\b\b\b\b\b\n",
      "Epoch 49/50\n",
      "1585/1585 [==============================] - 0s - loss: 0.8571 - categorical_accuracy: 0.6543 - val_loss: 1.2267 - val_categorical_accuracy: 0.4600\b\b\b\b\b\b\b\b\b\b\b\b\b\b\b\b\b\b\b\b\b\b\b\b\b\b\b\b\b\b\b\b\b\b\b\b\b\b\b\b\b\b\b\b\b\b\b\b\b\n",
      "Epoch 50/50\n",
      "1585/1585 [==============================] - 0s - loss: 0.8546 - categorical_accuracy: 0.6555 - val_loss: 1.2049 - val_categorical_accuracy: 0.4640\b\b\b\b\b\b\b\b\b\b\b\b\b\b\b\b\b\b\b\b\b\b\b\b\b\b\b\b\b\b\b\b\b\b\b\b\b\b\b\b\b\b\b\b\b\b\b\b\b\n"
     ]
    },
    {
     "data": {
      "text/plain": [
       "<keras.callbacks.History at 0xb1f547bd68>"
      ]
     },
     "execution_count": 83,
     "metadata": {},
     "output_type": "execute_result"
    }
   ],
   "source": [
    "model_3.fit(X_train, Y_train, nb_epoch=50, batch_size=50, validation_data=(X_validation, Y_validation))"
   ]
  },
  {
   "cell_type": "code",
   "execution_count": 84,
   "metadata": {
    "collapsed": false
   },
   "outputs": [
    {
     "name": "stdout",
     "output_type": "stream",
     "text": [
      "\r",
      " 50/250 [=====>........................] - ETA: 0s"
     ]
    },
    {
     "data": {
      "text/plain": [
       "[1.2613336801528932, 0.42400000095367429]"
      ]
     },
     "execution_count": 84,
     "metadata": {},
     "output_type": "execute_result"
    }
   ],
   "source": [
    "model_3.evaluate(X_test, Y_test, batch_size=50)"
   ]
  },
  {
   "cell_type": "markdown",
   "metadata": {},
   "source": [
    "<strong>Adding Dropout</strong>"
   ]
  },
  {
   "cell_type": "code",
   "execution_count": 85,
   "metadata": {
    "collapsed": true
   },
   "outputs": [],
   "source": [
    "model_4 = Sequential()"
   ]
  },
  {
   "cell_type": "code",
   "execution_count": 86,
   "metadata": {
    "collapsed": false
   },
   "outputs": [],
   "source": [
    "model_4.add(Dense(32, activation ='tanh', input_dim=50))\n",
    "model_4.add(Dropout(0.3))\n",
    "model_4.add(Dense(8, activation='softmax'))"
   ]
  },
  {
   "cell_type": "code",
   "execution_count": 87,
   "metadata": {
    "collapsed": true
   },
   "outputs": [],
   "source": [
    "model_4.compile(loss='categorical_crossentropy', optimizer='adam', metrics=['categorical_accuracy'])"
   ]
  },
  {
   "cell_type": "code",
   "execution_count": 88,
   "metadata": {
    "collapsed": false
   },
   "outputs": [
    {
     "name": "stdout",
     "output_type": "stream",
     "text": [
      "Train on 1585 samples, validate on 250 samples\n",
      "Epoch 1/50\n",
      "1585/1585 [==============================] - 0s - loss: 1.4963 - categorical_accuracy: 0.5653 - val_loss: 1.7010 - val_categorical_accuracy: 0.3440\b\b\b\b\b\b\b\b\b\b\b\b\b\b\b\b\b\b\b\b\b\b\b\b\b\b\b\b\b\b\b\b\b\b\b\b\b\b\b\b\b\b\b\b\b\b\b\b\b\n",
      "Epoch 2/50\n",
      "1585/1585 [==============================] - 0s - loss: 1.1775 - categorical_accuracy: 0.6114 - val_loss: 1.5035 - val_categorical_accuracy: 0.3440\b\b\b\b\b\b\b\b\b\b\b\b\b\b\b\b\b\b\b\b\b\b\b\b\b\b\b\b\b\b\b\b\b\b\b\b\b\b\b\b\b\b\b\b\b\b\b\b\b\n",
      "Epoch 3/50\n",
      "1585/1585 [==============================] - 0s - loss: 1.1086 - categorical_accuracy: 0.6082 - val_loss: 1.4887 - val_categorical_accuracy: 0.3440\b\b\b\b\b\b\b\b\b\b\b\b\b\b\b\b\b\b\b\b\b\b\b\b\b\b\b\b\b\b\b\b\b\b\b\b\b\b\b\b\b\b\b\b\b\b\b\b\b\n",
      "Epoch 4/50\n",
      "1585/1585 [==============================] - 0s - loss: 1.0958 - categorical_accuracy: 0.6114 - val_loss: 1.4379 - val_categorical_accuracy: 0.3480\b\b\b\b\b\b\b\b\b\b\b\b\b\b\b\b\b\b\b\b\b\b\b\b\b\b\b\b\b\b\b\b\b\b\b\b\b\b\b\b\b\b\b\b\b\b\b\b\b\n",
      "Epoch 5/50\n",
      "1585/1585 [==============================] - 0s - loss: 1.0625 - categorical_accuracy: 0.6057 - val_loss: 1.3992 - val_categorical_accuracy: 0.3480\b\b\b\b\b\b\b\b\b\b\b\b\b\b\b\b\b\b\b\b\b\b\b\b\b\b\b\b\b\b\b\b\b\b\b\b\b\b\b\b\b\b\b\b\b\b\b\b\b\n",
      "Epoch 6/50\n",
      "1585/1585 [==============================] - 0s - loss: 1.0394 - categorical_accuracy: 0.6101 - val_loss: 1.3805 - val_categorical_accuracy: 0.3480\b\b\b\b\b\b\b\b\b\b\b\b\b\b\b\b\b\b\b\b\b\b\b\b\b\b\b\b\b\b\b\b\b\b\b\b\b\b\b\b\b\b\b\b\b\b\b\b\b\n",
      "Epoch 7/50\n",
      "1585/1585 [==============================] - 0s - loss: 1.0392 - categorical_accuracy: 0.6082 - val_loss: 1.3843 - val_categorical_accuracy: 0.3480\b\b\b\b\b\b\b\b\b\b\b\b\b\b\b\b\b\b\b\b\b\b\b\b\b\b\b\b\b\b\b\b\b\b\b\b\b\b\b\b\b\b\b\b\b\b\b\b\b\n",
      "Epoch 8/50\n",
      "1585/1585 [==============================] - 0s - loss: 1.0136 - categorical_accuracy: 0.6120 - val_loss: 1.3189 - val_categorical_accuracy: 0.3560\b\b\b\b\b\b\b\b\b\b\b\b\b\b\b\b\b\b\b\b\b\b\b\b\b\b\b\b\b\b\b\b\b\b\b\b\b\b\b\b\b\b\b\b\b\b\b\b\b\n",
      "Epoch 9/50\n",
      "1585/1585 [==============================] - 0s - loss: 0.9910 - categorical_accuracy: 0.6139 - val_loss: 1.3228 - val_categorical_accuracy: 0.3560\b\b\b\b\b\b\b\b\b\b\b\b\b\b\b\b\b\b\b\b\b\b\b\b\b\b\b\b\b\b\b\b\b\b\b\b\b\b\b\b\b\b\b\b\b\b\b\b\b\n",
      "Epoch 10/50\n",
      "1585/1585 [==============================] - 0s - loss: 0.9902 - categorical_accuracy: 0.6158 - val_loss: 1.2749 - val_categorical_accuracy: 0.3720\b\b\b\b\b\b\b\b\b\b\b\b\b\b\b\b\b\b\b\b\b\b\b\b\b\b\b\b\b\b\b\b\b\b\b\b\b\b\b\b\b\b\b\b\b\b\b\b\b\n",
      "Epoch 11/50\n",
      "1585/1585 [==============================] - 0s - loss: 0.9870 - categorical_accuracy: 0.6208 - val_loss: 1.3050 - val_categorical_accuracy: 0.3680\b\b\b\b\b\b\b\b\b\b\b\b\b\b\b\b\b\b\b\b\b\b\b\b\b\b\b\b\b\b\b\b\b\b\b\b\b\b\b\b\b\b\b\b\b\b\b\b\b\n",
      "Epoch 12/50\n",
      "1585/1585 [==============================] - 0s - loss: 0.9725 - categorical_accuracy: 0.6145 - val_loss: 1.3264 - val_categorical_accuracy: 0.3680\b\b\b\b\b\b\b\b\b\b\b\b\b\b\b\b\b\b\b\b\b\b\b\b\b\b\b\b\b\b\b\b\b\b\b\b\b\b\b\b\b\b\b\b\b\b\b\b\b\n",
      "Epoch 13/50\n",
      "1585/1585 [==============================] - 0s - loss: 0.9558 - categorical_accuracy: 0.6252 - val_loss: 1.3204 - val_categorical_accuracy: 0.3760\b\b\b\b\b\b\b\b\b\b\b\b\b\b\b\b\b\b\b\b\b\b\b\b\b\b\b\b\b\b\b\b\b\b\b\b\b\b\b\b\b\b\b\b\b\b\b\b\b\n",
      "Epoch 14/50\n",
      "1585/1585 [==============================] - 0s - loss: 0.9464 - categorical_accuracy: 0.6221 - val_loss: 1.2756 - val_categorical_accuracy: 0.3880\b\b\b\b\b\b\b\b\b\b\b\b\b\b\b\b\b\b\b\b\b\b\b\b\b\b\b\b\b\b\b\b\b\b\b\b\b\b\b\b\b\b\b\b\b\b\b\b\b\n",
      "Epoch 15/50\n",
      "1585/1585 [==============================] - 0s - loss: 0.9399 - categorical_accuracy: 0.6322 - val_loss: 1.2630 - val_categorical_accuracy: 0.3840\b\b\b\b\b\b\b\b\b\b\b\b\b\b\b\b\b\b\b\b\b\b\b\b\b\b\b\b\b\b\b\b\b\b\b\b\b\b\b\b\b\b\b\b\b\b\b\b\b\n",
      "Epoch 16/50\n",
      "1585/1585 [==============================] - 0s - loss: 0.9466 - categorical_accuracy: 0.6227 - val_loss: 1.3024 - val_categorical_accuracy: 0.3720\b\b\b\b\b\b\b\b\b\b\b\b\b\b\b\b\b\b\b\b\b\b\b\b\b\b\b\b\b\b\b\b\b\b\b\b\b\b\b\b\b\b\b\b\b\b\b\b\b\n",
      "Epoch 17/50\n",
      "1585/1585 [==============================] - 0s - loss: 0.9334 - categorical_accuracy: 0.6240 - val_loss: 1.2557 - val_categorical_accuracy: 0.4040\b\b\b\b\b\b\b\b\b\b\b\b\b\b\b\b\b\b\b\b\b\b\b\b\b\b\b\b\b\b\b\b\b\b\b\b\b\b\b\b\b\b\b\b\b\b\b\b\b\n",
      "Epoch 18/50\n",
      "1585/1585 [==============================] - 0s - loss: 0.9395 - categorical_accuracy: 0.6259 - val_loss: 1.2917 - val_categorical_accuracy: 0.3960\b\b\b\b\b\b\b\b\b\b\b\b\b\b\b\b\b\b\b\b\b\b\b\b\b\b\b\b\b\b\b\b\b\b\b\b\b\b\b\b\b\b\b\b\b\b\b\b\b\n",
      "Epoch 19/50\n",
      "1585/1585 [==============================] - 0s - loss: 0.9319 - categorical_accuracy: 0.6290 - val_loss: 1.3209 - val_categorical_accuracy: 0.3800\b\b\b\b\b\b\b\b\b\b\b\b\b\b\b\b\b\b\b\b\b\b\b\b\b\b\b\b\b\b\b\b\b\b\b\b\b\b\b\b\b\b\b\b\b\b\b\b\b\n",
      "Epoch 20/50\n",
      "1585/1585 [==============================] - 0s - loss: 0.9256 - categorical_accuracy: 0.6240 - val_loss: 1.3034 - val_categorical_accuracy: 0.3880\b\b\b\b\b\b\b\b\b\b\b\b\b\b\b\b\b\b\b\b\b\b\b\b\b\b\b\b\b\b\b\b\b\b\b\b\b\b\b\b\b\b\b\b\b\b\b\b\b\n",
      "Epoch 21/50\n",
      "1585/1585 [==============================] - 0s - loss: 0.9267 - categorical_accuracy: 0.6259 - val_loss: 1.3125 - val_categorical_accuracy: 0.4000\b\b\b\b\b\b\b\b\b\b\b\b\b\b\b\b\b\b\b\b\b\b\b\b\b\b\b\b\b\b\b\b\b\b\b\b\b\b\b\b\b\b\b\b\b\b\b\b\b\n",
      "Epoch 22/50\n",
      "1585/1585 [==============================] - 0s - loss: 0.9210 - categorical_accuracy: 0.6284 - val_loss: 1.2883 - val_categorical_accuracy: 0.3880\b\b\b\b\b\b\b\b\b\b\b\b\b\b\b\b\b\b\b\b\b\b\b\b\b\b\b\b\b\b\b\b\b\b\b\b\b\b\b\b\b\b\b\b\b\b\b\b\b\n",
      "Epoch 23/50\n",
      "1585/1585 [==============================] - 0s - loss: 0.9289 - categorical_accuracy: 0.6290 - val_loss: 1.2553 - val_categorical_accuracy: 0.4000\b\b\b\b\b\b\b\b\b\b\b\b\b\b\b\b\b\b\b\b\b\b\b\b\b\b\b\b\b\b\b\b\b\b\b\b\b\b\b\b\b\b\b\b\b\b\b\b\b\n",
      "Epoch 24/50\n",
      "1585/1585 [==============================] - 0s - loss: 0.9180 - categorical_accuracy: 0.6334 - val_loss: 1.2804 - val_categorical_accuracy: 0.3960\b\b\b\b\b\b\b\b\b\b\b\b\b\b\b\b\b\b\b\b\b\b\b\b\b\b\b\b\b\b\b\b\b\b\b\b\b\b\b\b\b\b\b\b\b\b\b\b\b\n",
      "Epoch 25/50\n",
      "1585/1585 [==============================] - 0s - loss: 0.9193 - categorical_accuracy: 0.6347 - val_loss: 1.2957 - val_categorical_accuracy: 0.4040\b\b\b\b\b\b\b\b\b\b\b\b\b\b\b\b\b\b\b\b\b\b\b\b\b\b\b\b\b\b\b\b\b\b\b\b\b\b\b\b\b\b\b\b\b\b\b\b\b\n",
      "Epoch 26/50\n",
      "1585/1585 [==============================] - 0s - loss: 0.9098 - categorical_accuracy: 0.6322 - val_loss: 1.2910 - val_categorical_accuracy: 0.4040\b\b\b\b\b\b\b\b\b\b\b\b\b\b\b\b\b\b\b\b\b\b\b\b\b\b\b\b\b\b\b\b\b\b\b\b\b\b\b\b\b\b\b\b\b\b\b\b\b\n",
      "Epoch 27/50\n",
      "1585/1585 [==============================] - 0s - loss: 0.9120 - categorical_accuracy: 0.6347 - val_loss: 1.2023 - val_categorical_accuracy: 0.4480\b\b\b\b\b\b\b\b\b\b\b\b\b\b\b\b\b\b\b\b\b\b\b\b\b\b\b\b\b\b\b\b\b\b\b\b\b\b\b\b\b\b\b\b\b\b\b\b\b\n",
      "Epoch 28/50\n",
      "1585/1585 [==============================] - 0s - loss: 0.9087 - categorical_accuracy: 0.6467 - val_loss: 1.2874 - val_categorical_accuracy: 0.4080\b\b\b\b\b\b\b\b\b\b\b\b\b\b\b\b\b\b\b\b\b\b\b\b\b\b\b\b\b\b\b\b\b\b\b\b\b\b\b\b\b\b\b\b\b\b\b\b\b\n",
      "Epoch 29/50\n",
      "1585/1585 [==============================] - 0s - loss: 0.9133 - categorical_accuracy: 0.6265 - val_loss: 1.2874 - val_categorical_accuracy: 0.4080\b\b\b\b\b\b\b\b\b\b\b\b\b\b\b\b\b\b\b\b\b\b\b\b\b\b\b\b\b\b\b\b\b\b\b\b\b\b\b\b\b\b\b\b\b\b\b\b\b\n",
      "Epoch 30/50\n",
      "1585/1585 [==============================] - 0s - loss: 0.9032 - categorical_accuracy: 0.6448 - val_loss: 1.2495 - val_categorical_accuracy: 0.4320\b\b\b\b\b\b\b\b\b\b\b\b\b\b\b\b\b\b\b\b\b\b\b\b\b\b\b\b\b\b\b\b\b\b\b\b\b\b\b\b\b\b\b\b\b\b\b\b\b\n",
      "Epoch 31/50\n",
      "1585/1585 [==============================] - 0s - loss: 0.9097 - categorical_accuracy: 0.6347 - val_loss: 1.2632 - val_categorical_accuracy: 0.4280\b\b\b\b\b\b\b\b\b\b\b\b\b\b\b\b\b\b\b\b\b\b\b\b\b\b\b\b\b\b\b\b\b\b\b\b\b\b\b\b\b\b\b\b\b\b\b\b\b\n",
      "Epoch 32/50\n",
      "1585/1585 [==============================] - 0s - loss: 0.9043 - categorical_accuracy: 0.6297 - val_loss: 1.2889 - val_categorical_accuracy: 0.4120\b\b\b\b\b\b\b\b\b\b\b\b\b\b\b\b\b\b\b\b\b\b\b\b\b\b\b\b\b\b\b\b\b\b\b\b\b\b\b\b\b\b\b\b\b\b\b\b\b\n",
      "Epoch 33/50\n",
      "1585/1585 [==============================] - 0s - loss: 0.9099 - categorical_accuracy: 0.6334 - val_loss: 1.2638 - val_categorical_accuracy: 0.4160\b\b\b\b\b\b\b\b\b\b\b\b\b\b\b\b\b\b\b\b\b\b\b\b\b\b\b\b\b\b\b\b\b\b\b\b\b\b\b\b\b\b\b\b\b\b\b\b\b\n",
      "Epoch 34/50\n",
      "1585/1585 [==============================] - 0s - loss: 0.9026 - categorical_accuracy: 0.6372 - val_loss: 1.2183 - val_categorical_accuracy: 0.4440\b\b\b\b\b\b\b\b\b\b\b\b\b\b\b\b\b\b\b\b\b\b\b\b\b\b\b\b\b\b\b\b\b\b\b\b\b\b\b\b\b\b\b\b\b\b\b\b\b\n",
      "Epoch 35/50\n",
      "1585/1585 [==============================] - 0s - loss: 0.8954 - categorical_accuracy: 0.6461 - val_loss: 1.2966 - val_categorical_accuracy: 0.4200\b\b\b\b\b\b\b\b\b\b\b\b\b\b\b\b\b\b\b\b\b\b\b\b\b\b\b\b\b\b\b\b\b\b\b\b\b\b\b\b\b\b\b\b\b\b\b\b\b\n",
      "Epoch 36/50\n",
      "1585/1585 [==============================] - 0s - loss: 0.8970 - categorical_accuracy: 0.6442 - val_loss: 1.2443 - val_categorical_accuracy: 0.4240\b\b\b\b\b\b\b\b\b\b\b\b\b\b\b\b\b\b\b\b\b\b\b\b\b\b\b\b\b\b\b\b\b\b\b\b\b\b\b\b\b\b\b\b\b\b\b\b\b\n",
      "Epoch 37/50\n",
      "1585/1585 [==============================] - 0s - loss: 0.8992 - categorical_accuracy: 0.6454 - val_loss: 1.2188 - val_categorical_accuracy: 0.4480\b\b\b\b\b\b\b\b\b\b\b\b\b\b\b\b\b\b\b\b\b\b\b\b\b\b\b\b\b\b\b\b\b\b\b\b\b\b\b\b\b\b\b\b\b\b\b\b\b\n",
      "Epoch 38/50\n",
      "1585/1585 [==============================] - 0s - loss: 0.8915 - categorical_accuracy: 0.6372 - val_loss: 1.2486 - val_categorical_accuracy: 0.4360\b\b\b\b\b\b\b\b\b\b\b\b\b\b\b\b\b\b\b\b\b\b\b\b\b\b\b\b\b\b\b\b\b\b\b\b\b\b\b\b\b\b\b\b\b\b\b\b\b\n",
      "Epoch 39/50\n",
      "1585/1585 [==============================] - 0s - loss: 0.8937 - categorical_accuracy: 0.6442 - val_loss: 1.2559 - val_categorical_accuracy: 0.4120\b\b\b\b\b\b\b\b\b\b\b\b\b\b\b\b\b\b\b\b\b\b\b\b\b\b\b\b\b\b\b\b\b\b\b\b\b\b\b\b\b\b\b\b\b\b\b\b\b\n",
      "Epoch 40/50\n",
      "1585/1585 [==============================] - 0s - loss: 0.8964 - categorical_accuracy: 0.6467 - val_loss: 1.2922 - val_categorical_accuracy: 0.4320\b\b\b\b\b\b\b\b\b\b\b\b\b\b\b\b\b\b\b\b\b\b\b\b\b\b\b\b\b\b\b\b\b\b\b\b\b\b\b\b\b\b\b\b\b\b\b\b\b\n",
      "Epoch 41/50\n",
      "1585/1585 [==============================] - 0s - loss: 0.8986 - categorical_accuracy: 0.6435 - val_loss: 1.2151 - val_categorical_accuracy: 0.4480\b\b\b\b\b\b\b\b\b\b\b\b\b\b\b\b\b\b\b\b\b\b\b\b\b\b\b\b\b\b\b\b\b\b\b\b\b\b\b\b\b\b\b\b\b\b\b\b\b\n",
      "Epoch 42/50\n",
      "1585/1585 [==============================] - 0s - loss: 0.8943 - categorical_accuracy: 0.6423 - val_loss: 1.2252 - val_categorical_accuracy: 0.4520\b\b\b\b\b\b\b\b\b\b\b\b\b\b\b\b\b\b\b\b\b\b\b\b\b\b\b\b\b\b\b\b\b\b\b\b\b\b\b\b\b\b\b\b\b\b\b\b\b\n",
      "Epoch 43/50\n",
      "1585/1585 [==============================] - 0s - loss: 0.8861 - categorical_accuracy: 0.6498 - val_loss: 1.2511 - val_categorical_accuracy: 0.4280\b\b\b\b\b\b\b\b\b\b\b\b\b\b\b\b\b\b\b\b\b\b\b\b\b\b\b\b\b\b\b\b\b\b\b\b\b\b\b\b\b\b\b\b\b\b\b\b\b\n",
      "Epoch 44/50\n",
      "1585/1585 [==============================] - 0s - loss: 0.8945 - categorical_accuracy: 0.6353 - val_loss: 1.2803 - val_categorical_accuracy: 0.4200\b\b\b\b\b\b\b\b\b\b\b\b\b\b\b\b\b\b\b\b\b\b\b\b\b\b\b\b\b\b\b\b\b\b\b\b\b\b\b\b\b\b\b\b\b\b\b\b\b\n",
      "Epoch 45/50\n",
      "1585/1585 [==============================] - 0s - loss: 0.8908 - categorical_accuracy: 0.6568 - val_loss: 1.2524 - val_categorical_accuracy: 0.4360\b\b\b\b\b\b\b\b\b\b\b\b\b\b\b\b\b\b\b\b\b\b\b\b\b\b\b\b\b\b\b\b\b\b\b\b\b\b\b\b\b\b\b\b\b\b\b\b\b\n",
      "Epoch 46/50\n",
      "1585/1585 [==============================] - 0s - loss: 0.8895 - categorical_accuracy: 0.6435 - val_loss: 1.2055 - val_categorical_accuracy: 0.4600\b\b\b\b\b\b\b\b\b\b\b\b\b\b\b\b\b\b\b\b\b\b\b\b\b\b\b\b\b\b\b\b\b\b\b\b\b\b\b\b\b\b\b\b\b\b\b\b\b\n",
      "Epoch 47/50\n",
      "1585/1585 [==============================] - 0s - loss: 0.8856 - categorical_accuracy: 0.6486 - val_loss: 1.2352 - val_categorical_accuracy: 0.4360\b\b\b\b\b\b\b\b\b\b\b\b\b\b\b\b\b\b\b\b\b\b\b\b\b\b\b\b\b\b\b\b\b\b\b\b\b\b\b\b\b\b\b\b\b\b\b\b\b\n",
      "Epoch 48/50\n",
      "1585/1585 [==============================] - 0s - loss: 0.8876 - categorical_accuracy: 0.6511 - val_loss: 1.1957 - val_categorical_accuracy: 0.4560\b\b\b\b\b\b\b\b\b\b\b\b\b\b\b\b\b\b\b\b\b\b\b\b\b\b\b\b\b\b\b\b\b\b\b\b\b\b\b\b\b\b\b\b\b\b\b\b\b\n",
      "Epoch 49/50\n",
      "1585/1585 [==============================] - 0s - loss: 0.8890 - categorical_accuracy: 0.6423 - val_loss: 1.2376 - val_categorical_accuracy: 0.4400\b\b\b\b\b\b\b\b\b\b\b\b\b\b\b\b\b\b\b\b\b\b\b\b\b\b\b\b\b\b\b\b\b\b\b\b\b\b\b\b\b\b\b\b\b\b\b\b\b\n",
      "Epoch 50/50\n",
      "1585/1585 [==============================] - 0s - loss: 0.8837 - categorical_accuracy: 0.6530 - val_loss: 1.2106 - val_categorical_accuracy: 0.4600\b\b\b\b\b\b\b\b\b\b\b\b\b\b\b\b\b\b\b\b\b\b\b\b\b\b\b\b\b\b\b\b\b\b\b\b\b\b\b\b\b\b\b\b\b\b\b\b\b\n"
     ]
    },
    {
     "data": {
      "text/plain": [
       "<keras.callbacks.History at 0xb1f58dff28>"
      ]
     },
     "execution_count": 88,
     "metadata": {},
     "output_type": "execute_result"
    }
   ],
   "source": [
    "model_4.fit(X_train, Y_train, nb_epoch=50, batch_size=50, validation_data=(X_validation, Y_validation))"
   ]
  },
  {
   "cell_type": "code",
   "execution_count": 89,
   "metadata": {
    "collapsed": false
   },
   "outputs": [
    {
     "name": "stdout",
     "output_type": "stream",
     "text": [
      "\r",
      " 50/250 [=====>........................] - ETA: 0s"
     ]
    },
    {
     "data": {
      "text/plain": [
       "[1.2630130052566528, 0.42400000095367429]"
      ]
     },
     "execution_count": 89,
     "metadata": {},
     "output_type": "execute_result"
    }
   ],
   "source": [
    "model_4.evaluate(X_test, Y_test, batch_size=50)"
   ]
  },
  {
   "cell_type": "markdown",
   "metadata": {},
   "source": [
    "<strong>Visualizing the lables</strong>"
   ]
  },
  {
   "cell_type": "code",
   "execution_count": 90,
   "metadata": {
    "collapsed": false
   },
   "outputs": [
    {
     "data": {
      "text/html": [
       "\n",
       "    <div class=\"bk-root\">\n",
       "        <a href=\"http://bokeh.pydata.org\" target=\"_blank\" class=\"bk-logo bk-logo-small bk-logo-notebook\"></a>\n",
       "        <span id=\"607fedca-8c3c-4f29-8f91-b5c125addf88\">Loading BokehJS ...</span>\n",
       "    </div>"
      ]
     },
     "metadata": {},
     "output_type": "display_data"
    },
    {
     "data": {
      "application/javascript": [
       "\n",
       "(function(global) {\n",
       "  function now() {\n",
       "    return new Date();\n",
       "  }\n",
       "\n",
       "  var force = true;\n",
       "\n",
       "  if (typeof (window._bokeh_onload_callbacks) === \"undefined\" || force === true) {\n",
       "    window._bokeh_onload_callbacks = [];\n",
       "    window._bokeh_is_loading = undefined;\n",
       "  }\n",
       "\n",
       "\n",
       "  \n",
       "  if (typeof (window._bokeh_timeout) === \"undefined\" || force === true) {\n",
       "    window._bokeh_timeout = Date.now() + 5000;\n",
       "    window._bokeh_failed_load = false;\n",
       "  }\n",
       "\n",
       "  var NB_LOAD_WARNING = {'data': {'text/html':\n",
       "     \"<div style='background-color: #fdd'>\\n\"+\n",
       "     \"<p>\\n\"+\n",
       "     \"BokehJS does not appear to have successfully loaded. If loading BokehJS from CDN, this \\n\"+\n",
       "     \"may be due to a slow or bad network connection. Possible fixes:\\n\"+\n",
       "     \"</p>\\n\"+\n",
       "     \"<ul>\\n\"+\n",
       "     \"<li>re-rerun `output_notebook()` to attempt to load from CDN again, or</li>\\n\"+\n",
       "     \"<li>use INLINE resources instead, as so:</li>\\n\"+\n",
       "     \"</ul>\\n\"+\n",
       "     \"<code>\\n\"+\n",
       "     \"from bokeh.resources import INLINE\\n\"+\n",
       "     \"output_notebook(resources=INLINE)\\n\"+\n",
       "     \"</code>\\n\"+\n",
       "     \"</div>\"}};\n",
       "\n",
       "  function display_loaded() {\n",
       "    if (window.Bokeh !== undefined) {\n",
       "      document.getElementById(\"607fedca-8c3c-4f29-8f91-b5c125addf88\").textContent = \"BokehJS successfully loaded.\";\n",
       "    } else if (Date.now() < window._bokeh_timeout) {\n",
       "      setTimeout(display_loaded, 100)\n",
       "    }\n",
       "  }\n",
       "\n",
       "  function run_callbacks() {\n",
       "    window._bokeh_onload_callbacks.forEach(function(callback) { callback() });\n",
       "    delete window._bokeh_onload_callbacks\n",
       "    console.info(\"Bokeh: all callbacks have finished\");\n",
       "  }\n",
       "\n",
       "  function load_libs(js_urls, callback) {\n",
       "    window._bokeh_onload_callbacks.push(callback);\n",
       "    if (window._bokeh_is_loading > 0) {\n",
       "      console.log(\"Bokeh: BokehJS is being loaded, scheduling callback at\", now());\n",
       "      return null;\n",
       "    }\n",
       "    if (js_urls == null || js_urls.length === 0) {\n",
       "      run_callbacks();\n",
       "      return null;\n",
       "    }\n",
       "    console.log(\"Bokeh: BokehJS not loaded, scheduling load and callback at\", now());\n",
       "    window._bokeh_is_loading = js_urls.length;\n",
       "    for (var i = 0; i < js_urls.length; i++) {\n",
       "      var url = js_urls[i];\n",
       "      var s = document.createElement('script');\n",
       "      s.src = url;\n",
       "      s.async = false;\n",
       "      s.onreadystatechange = s.onload = function() {\n",
       "        window._bokeh_is_loading--;\n",
       "        if (window._bokeh_is_loading === 0) {\n",
       "          console.log(\"Bokeh: all BokehJS libraries loaded\");\n",
       "          run_callbacks()\n",
       "        }\n",
       "      };\n",
       "      s.onerror = function() {\n",
       "        console.warn(\"failed to load library \" + url);\n",
       "      };\n",
       "      console.log(\"Bokeh: injecting script tag for BokehJS library: \", url);\n",
       "      document.getElementsByTagName(\"head\")[0].appendChild(s);\n",
       "    }\n",
       "  };var element = document.getElementById(\"607fedca-8c3c-4f29-8f91-b5c125addf88\");\n",
       "  if (element == null) {\n",
       "    console.log(\"Bokeh: ERROR: autoload.js configured with elementid '607fedca-8c3c-4f29-8f91-b5c125addf88' but no matching script tag was found. \")\n",
       "    return false;\n",
       "  }\n",
       "\n",
       "  var js_urls = [\"https://cdn.pydata.org/bokeh/release/bokeh-0.12.4.min.js\", \"https://cdn.pydata.org/bokeh/release/bokeh-widgets-0.12.4.min.js\"];\n",
       "\n",
       "  var inline_js = [\n",
       "    function(Bokeh) {\n",
       "      Bokeh.set_log_level(\"info\");\n",
       "    },\n",
       "    \n",
       "    function(Bokeh) {\n",
       "      \n",
       "      document.getElementById(\"607fedca-8c3c-4f29-8f91-b5c125addf88\").textContent = \"BokehJS is loading...\";\n",
       "    },\n",
       "    function(Bokeh) {\n",
       "      console.log(\"Bokeh: injecting CSS: https://cdn.pydata.org/bokeh/release/bokeh-0.12.4.min.css\");\n",
       "      Bokeh.embed.inject_css(\"https://cdn.pydata.org/bokeh/release/bokeh-0.12.4.min.css\");\n",
       "      console.log(\"Bokeh: injecting CSS: https://cdn.pydata.org/bokeh/release/bokeh-widgets-0.12.4.min.css\");\n",
       "      Bokeh.embed.inject_css(\"https://cdn.pydata.org/bokeh/release/bokeh-widgets-0.12.4.min.css\");\n",
       "    }\n",
       "  ];\n",
       "\n",
       "  function run_inline_js() {\n",
       "    \n",
       "    if ((window.Bokeh !== undefined) || (force === true)) {\n",
       "      for (var i = 0; i < inline_js.length; i++) {\n",
       "        inline_js[i](window.Bokeh);\n",
       "      }if (force === true) {\n",
       "        display_loaded();\n",
       "      }} else if (Date.now() < window._bokeh_timeout) {\n",
       "      setTimeout(run_inline_js, 100);\n",
       "    } else if (!window._bokeh_failed_load) {\n",
       "      console.log(\"Bokeh: BokehJS failed to load within specified timeout.\");\n",
       "      window._bokeh_failed_load = true;\n",
       "    } else if (force !== true) {\n",
       "      var cell = $(document.getElementById(\"607fedca-8c3c-4f29-8f91-b5c125addf88\")).parents('.cell').data().cell;\n",
       "      cell.output_area.append_execute_result(NB_LOAD_WARNING)\n",
       "    }\n",
       "\n",
       "  }\n",
       "\n",
       "  if (window._bokeh_is_loading === 0) {\n",
       "    console.log(\"Bokeh: BokehJS loaded, going straight to plotting\");\n",
       "    run_inline_js();\n",
       "  } else {\n",
       "    load_libs(js_urls, function() {\n",
       "      console.log(\"Bokeh: BokehJS plotting callback run at\", now());\n",
       "      run_inline_js();\n",
       "    });\n",
       "  }\n",
       "}(this));"
      ]
     },
     "metadata": {},
     "output_type": "display_data"
    }
   ],
   "source": [
    "from bokeh.models import ColumnDataSource ,LabelSet\n",
    "from bokeh.plotting import figure, show, output_file\n",
    "from bokeh.io import output_notebook\n",
    "output_notebook()"
   ]
  },
  {
   "cell_type": "code",
   "execution_count": 91,
   "metadata": {
    "collapsed": false
   },
   "outputs": [],
   "source": [
    "from sklearn.manifold import TSNE\n",
    "tsne = TSNE(n_components=2, random_state=0)\n",
    "ted_labels_tsne = tsne.fit_transform(Y)"
   ]
  },
  {
   "cell_type": "code",
   "execution_count": 92,
   "metadata": {
    "collapsed": false
   },
   "outputs": [
    {
     "data": {
      "text/html": [
       "\n",
       "\n",
       "    <div class=\"bk-root\">\n",
       "        <div class=\"bk-plotdiv\" id=\"678a20ac-0131-474e-8ae1-bb6204f50846\"></div>\n",
       "    </div>\n",
       "<script type=\"text/javascript\">\n",
       "  \n",
       "  (function(global) {\n",
       "    function now() {\n",
       "      return new Date();\n",
       "    }\n",
       "  \n",
       "    var force = false;\n",
       "  \n",
       "    if (typeof (window._bokeh_onload_callbacks) === \"undefined\" || force === true) {\n",
       "      window._bokeh_onload_callbacks = [];\n",
       "      window._bokeh_is_loading = undefined;\n",
       "    }\n",
       "  \n",
       "  \n",
       "    \n",
       "    if (typeof (window._bokeh_timeout) === \"undefined\" || force === true) {\n",
       "      window._bokeh_timeout = Date.now() + 0;\n",
       "      window._bokeh_failed_load = false;\n",
       "    }\n",
       "  \n",
       "    var NB_LOAD_WARNING = {'data': {'text/html':\n",
       "       \"<div style='background-color: #fdd'>\\n\"+\n",
       "       \"<p>\\n\"+\n",
       "       \"BokehJS does not appear to have successfully loaded. If loading BokehJS from CDN, this \\n\"+\n",
       "       \"may be due to a slow or bad network connection. Possible fixes:\\n\"+\n",
       "       \"</p>\\n\"+\n",
       "       \"<ul>\\n\"+\n",
       "       \"<li>re-rerun `output_notebook()` to attempt to load from CDN again, or</li>\\n\"+\n",
       "       \"<li>use INLINE resources instead, as so:</li>\\n\"+\n",
       "       \"</ul>\\n\"+\n",
       "       \"<code>\\n\"+\n",
       "       \"from bokeh.resources import INLINE\\n\"+\n",
       "       \"output_notebook(resources=INLINE)\\n\"+\n",
       "       \"</code>\\n\"+\n",
       "       \"</div>\"}};\n",
       "  \n",
       "    function display_loaded() {\n",
       "      if (window.Bokeh !== undefined) {\n",
       "        document.getElementById(\"678a20ac-0131-474e-8ae1-bb6204f50846\").textContent = \"BokehJS successfully loaded.\";\n",
       "      } else if (Date.now() < window._bokeh_timeout) {\n",
       "        setTimeout(display_loaded, 100)\n",
       "      }\n",
       "    }\n",
       "  \n",
       "    function run_callbacks() {\n",
       "      window._bokeh_onload_callbacks.forEach(function(callback) { callback() });\n",
       "      delete window._bokeh_onload_callbacks\n",
       "      console.info(\"Bokeh: all callbacks have finished\");\n",
       "    }\n",
       "  \n",
       "    function load_libs(js_urls, callback) {\n",
       "      window._bokeh_onload_callbacks.push(callback);\n",
       "      if (window._bokeh_is_loading > 0) {\n",
       "        console.log(\"Bokeh: BokehJS is being loaded, scheduling callback at\", now());\n",
       "        return null;\n",
       "      }\n",
       "      if (js_urls == null || js_urls.length === 0) {\n",
       "        run_callbacks();\n",
       "        return null;\n",
       "      }\n",
       "      console.log(\"Bokeh: BokehJS not loaded, scheduling load and callback at\", now());\n",
       "      window._bokeh_is_loading = js_urls.length;\n",
       "      for (var i = 0; i < js_urls.length; i++) {\n",
       "        var url = js_urls[i];\n",
       "        var s = document.createElement('script');\n",
       "        s.src = url;\n",
       "        s.async = false;\n",
       "        s.onreadystatechange = s.onload = function() {\n",
       "          window._bokeh_is_loading--;\n",
       "          if (window._bokeh_is_loading === 0) {\n",
       "            console.log(\"Bokeh: all BokehJS libraries loaded\");\n",
       "            run_callbacks()\n",
       "          }\n",
       "        };\n",
       "        s.onerror = function() {\n",
       "          console.warn(\"failed to load library \" + url);\n",
       "        };\n",
       "        console.log(\"Bokeh: injecting script tag for BokehJS library: \", url);\n",
       "        document.getElementsByTagName(\"head\")[0].appendChild(s);\n",
       "      }\n",
       "    };var element = document.getElementById(\"678a20ac-0131-474e-8ae1-bb6204f50846\");\n",
       "    if (element == null) {\n",
       "      console.log(\"Bokeh: ERROR: autoload.js configured with elementid '678a20ac-0131-474e-8ae1-bb6204f50846' but no matching script tag was found. \")\n",
       "      return false;\n",
       "    }\n",
       "  \n",
       "    var js_urls = [];\n",
       "  \n",
       "    var inline_js = [\n",
       "      function(Bokeh) {\n",
       "        (function() {\n",
       "          var fn = function() {\n",
       "            var docs_json = {\"76dd5abb-dc60-4627-8560-33ac0e27f987\":{\"roots\":{\"references\":[{\"attributes\":{\"plot\":{\"id\":\"77e3e0ab-5001-4f85-9933-fdf0c4f7bd59\",\"subtype\":\"Figure\",\"type\":\"Plot\"}},\"id\":\"41644d24-caa1-414c-8e2b-566b16a0a946\",\"type\":\"PanTool\"},{\"attributes\":{\"plot\":{\"id\":\"77e3e0ab-5001-4f85-9933-fdf0c4f7bd59\",\"subtype\":\"Figure\",\"type\":\"Plot\"}},\"id\":\"a509d01f-f6bc-4191-b195-33a949e6b1ce\",\"type\":\"WheelZoomTool\"},{\"attributes\":{\"plot\":{\"id\":\"77e3e0ab-5001-4f85-9933-fdf0c4f7bd59\",\"subtype\":\"Figure\",\"type\":\"Plot\"}},\"id\":\"f16cf6f3-1ba1-4f0a-afb2-fd00b3c0c511\",\"type\":\"ResetTool\"},{\"attributes\":{\"plot\":{\"id\":\"77e3e0ab-5001-4f85-9933-fdf0c4f7bd59\",\"subtype\":\"Figure\",\"type\":\"Plot\"}},\"id\":\"5c5ef15d-7d70-472d-a767-02aeaed3c484\",\"type\":\"SaveTool\"},{\"attributes\":{\"data_source\":{\"id\":\"7677ec93-4c22-42e2-81de-e3fd28aa752e\",\"type\":\"ColumnDataSource\"},\"glyph\":{\"id\":\"c8ede0fd-8430-46f2-8e40-2e0ade0e8aba\",\"type\":\"Circle\"},\"hover_glyph\":null,\"nonselection_glyph\":{\"id\":\"3e35057f-0607-4f98-9497-15949c7ee772\",\"type\":\"Circle\"},\"selection_glyph\":null},\"id\":\"6cf222af-766b-47dd-9a58-6158969f7164\",\"type\":\"GlyphRenderer\"},{\"attributes\":{},\"id\":\"bb6768f5-1308-4dec-a870-be4d4902136c\",\"type\":\"BasicTickFormatter\"},{\"attributes\":{\"fill_alpha\":{\"value\":0.1},\"fill_color\":{\"value\":\"#1f77b4\"},\"line_alpha\":{\"value\":0.1},\"line_color\":{\"value\":\"#1f77b4\"},\"size\":{\"units\":\"screen\",\"value\":8},\"x\":{\"field\":\"x1\"},\"y\":{\"field\":\"x2\"}},\"id\":\"3e35057f-0607-4f98-9497-15949c7ee772\",\"type\":\"Circle\"},{\"attributes\":{\"below\":[{\"id\":\"e3ef34a8-0ff1-4345-967c-42577480983c\",\"type\":\"LinearAxis\"}],\"left\":[{\"id\":\"ca295137-c9a0-4385-975c-8eb0daf55244\",\"type\":\"LinearAxis\"}],\"renderers\":[{\"id\":\"e3ef34a8-0ff1-4345-967c-42577480983c\",\"type\":\"LinearAxis\"},{\"id\":\"d18f6441-23fe-455c-9ef8-e9a1a55caa28\",\"type\":\"Grid\"},{\"id\":\"ca295137-c9a0-4385-975c-8eb0daf55244\",\"type\":\"LinearAxis\"},{\"id\":\"056a5488-db11-4a43-b7e6-aa283b370fe0\",\"type\":\"Grid\"},{\"id\":\"6cf222af-766b-47dd-9a58-6158969f7164\",\"type\":\"GlyphRenderer\"},{\"id\":\"2240b7d0-4b56-4b61-93a5-10ecb02fc9e1\",\"type\":\"LabelSet\"}],\"title\":{\"id\":\"d221f3a4-9595-49e8-a61f-461608268fb2\",\"type\":\"Title\"},\"tool_events\":{\"id\":\"39562c4d-0db9-422b-8f96-875ef32eda0a\",\"type\":\"ToolEvents\"},\"toolbar\":{\"id\":\"fad4df56-336f-421b-a084-60c626f47884\",\"type\":\"Toolbar\"},\"toolbar_location\":\"above\",\"x_range\":{\"id\":\"7418ea29-6a41-4b8f-a2ee-2e27f6b2c5e7\",\"type\":\"DataRange1d\"},\"y_range\":{\"id\":\"97024dfe-02d2-415d-b4f4-34cb90eb2a6f\",\"type\":\"DataRange1d\"}},\"id\":\"77e3e0ab-5001-4f85-9933-fdf0c4f7bd59\",\"subtype\":\"Figure\",\"type\":\"Plot\"},{\"attributes\":{\"plot\":{\"id\":\"77e3e0ab-5001-4f85-9933-fdf0c4f7bd59\",\"subtype\":\"Figure\",\"type\":\"Plot\"},\"source\":{\"id\":\"7677ec93-4c22-42e2-81de-e3fd28aa752e\",\"type\":\"ColumnDataSource\"},\"text\":{\"field\":\"names\"},\"text_align\":\"center\",\"text_color\":{\"value\":\"#555555\"},\"text_font_size\":{\"value\":\"8pt\"},\"x\":{\"field\":\"x1\"},\"y\":{\"field\":\"x2\"},\"y_offset\":{\"value\":6}},\"id\":\"2240b7d0-4b56-4b61-93a5-10ecb02fc9e1\",\"type\":\"LabelSet\"},{\"attributes\":{\"callback\":null,\"column_names\":[\"x1\",\"x2\",\"names\"],\"data\":{\"names\":[\"ooo\",\"ooo\",\"ooo\",\"ted\",\"ted\",\"ooo\",\"ooo\",\"ooo\",\"ooo\",\"ted\",\"ooo\",\"ted\",\"teo\",\"ted\",\"ooo\",\"ooo\",\"ted\",\"ooo\",\"ted\",\"ooo\",\"too\",\"ooo\",\"ooo\",\"teo\",\"ooo\",\"ted\",\"ooo\",\"ooo\",\"ooo\",\"ooo\",\"ted\",\"too\",\"ooo\",\"ooo\",\"ooo\",\"ooo\",\"ooo\",\"too\",\"ted\",\"ooo\",\"ooo\",\"ooo\",\"ooo\",\"ooo\",\"ted\",\"ooo\",\"ted\",\"too\",\"ooo\",\"ooo\",\"ooo\",\"ted\",\"too\",\"ooo\",\"too\",\"ted\",\"ooo\",\"ooo\",\"ooo\",\"too\",\"ted\",\"too\",\"too\",\"too\",\"ooo\",\"ted\",\"too\",\"ooo\",\"ooo\",\"ted\",\"ooo\",\"ooo\",\"teo\",\"ted\",\"ted\",\"ooo\",\"ooo\",\"ted\",\"ooo\",\"ooo\",\"ooo\",\"ooo\",\"ooo\",\"ooo\",\"ooo\",\"ooo\",\"ooo\",\"ooo\",\"ooo\",\"ooo\",\"too\",\"ooo\",\"ooo\",\"ted\",\"ooo\",\"ooo\",\"too\",\"ooo\",\"too\",\"ooo\",\"ted\",\"ooo\",\"ooo\",\"ted\",\"ooo\",\"ooo\",\"ooo\",\"ooo\",\"ooo\",\"ted\",\"ooo\",\"ooo\",\"ooo\",\"ted\",\"ooo\",\"ooo\",\"ooo\",\"ooo\",\"ooo\",\"ooo\",\"ooo\",\"ooo\",\"ooo\",\"ooo\",\"ooo\",\"ooo\",\"ooo\",\"ooo\",\"ooo\",\"ooo\",\"ooo\",\"ooo\",\"ooo\",\"ooo\",\"ooo\",\"ooo\",\"ooo\",\"ooo\",\"ooo\",\"too\",\"ooo\",\"ooo\",\"ooo\",\"too\",\"ooo\",\"ted\",\"ooo\",\"ooo\",\"ooo\",\"ooo\",\"ooo\",\"ooo\",\"ooo\",\"ooo\",\"ooo\",\"too\",\"ooo\",\"ooo\",\"ooo\",\"ooo\",\"ooo\",\"ooo\",\"ooo\",\"ooo\",\"too\",\"ooo\",\"ooo\",\"ooo\",\"ooo\",\"too\",\"ooo\",\"ted\",\"ooo\",\"teo\",\"ooo\",\"ooo\",\"ooo\",\"too\",\"ooo\",\"ooo\",\"ooo\",\"ooo\",\"ooo\",\"ooo\",\"ted\",\"ooo\",\"too\",\"ooo\",\"ooo\",\"ooo\",\"ooo\",\"ooo\",\"ooo\",\"ooo\",\"ooo\",\"too\",\"ooo\",\"ted\",\"ted\",\"ooo\",\"ooo\",\"ooo\",\"teo\",\"too\",\"ooo\",\"ooo\",\"ooo\",\"ooo\",\"too\",\"ooo\",\"ooo\",\"teo\",\"ooo\",\"ooo\",\"ooo\",\"ooo\",\"ted\",\"ooo\",\"ooo\",\"too\",\"ooo\",\"ooo\",\"ooo\",\"ooo\",\"ooo\",\"ooo\",\"ooo\",\"ted\",\"too\",\"ted\",\"ooo\",\"ooo\",\"too\",\"too\",\"ted\",\"too\",\"ooo\",\"ooo\",\"ooo\",\"ted\",\"ooo\",\"ted\",\"ooo\",\"ooo\",\"too\",\"ooo\",\"too\",\"too\",\"teo\",\"too\",\"ooo\",\"ooo\",\"ooo\",\"ooo\",\"ted\",\"ooo\",\"ooo\",\"ooo\",\"ooo\",\"ted\",\"ooo\",\"ooo\",\"ooo\",\"ted\",\"ooo\",\"ooo\",\"too\",\"ooo\",\"ooo\",\"ooo\",\"ooo\",\"ooo\",\"ooo\",\"too\",\"ooo\",\"ooo\",\"ooo\",\"ooo\",\"ooo\",\"ooo\",\"ooo\",\"ooo\",\"ted\",\"ooo\",\"too\",\"ooo\",\"ooo\",\"ooo\",\"ooo\",\"too\",\"ooo\",\"ooo\",\"ooo\",\"teo\",\"ooo\",\"ooo\",\"ooo\",\"ooo\",\"ooo\",\"ooo\",\"ooo\",\"ooo\",\"ooo\",\"ooo\",\"ooo\",\"ooo\",\"ooo\",\"too\",\"ooo\",\"ooo\",\"ooo\",\"ooo\",\"ooo\",\"ooo\",\"ooo\",\"ted\",\"ooo\",\"ooo\",\"too\",\"too\",\"ooo\",\"ooo\",\"too\",\"ooo\",\"too\",\"ooo\",\"ooo\",\"ooo\",\"ooo\",\"ooo\",\"ooo\",\"too\",\"ooo\",\"ooo\",\"ooo\",\"ooo\",\"too\",\"ooo\",\"ooo\",\"ooo\",\"ooo\",\"ooo\",\"ooo\",\"ooo\",\"ted\",\"ooo\",\"ooo\",\"too\",\"ooo\",\"ooo\",\"too\",\"ooo\",\"too\",\"ooo\",\"ooo\",\"ooo\",\"ooo\",\"ooo\",\"ooo\",\"ooo\",\"ooo\",\"ooo\",\"ooo\",\"too\",\"ooo\",\"ooo\",\"ooo\",\"ooo\",\"ooo\",\"ooo\",\"ooo\",\"ooo\",\"ooo\",\"ooo\",\"ooo\",\"ooo\",\"ooo\",\"ooo\",\"too\",\"ooo\",\"ted\",\"too\",\"teo\",\"ooo\",\"ooo\",\"ted\",\"ooo\",\"teo\",\"ooo\",\"ooo\",\"ted\",\"too\",\"ooo\",\"ooo\",\"ooo\",\"ooo\",\"too\",\"ooo\",\"too\",\"ooo\",\"too\",\"ooo\",\"ooo\",\"ooo\",\"ooo\",\"ooo\",\"ooo\",\"teo\",\"ooo\",\"ooo\",\"ooo\",\"ooo\",\"ooo\",\"ted\",\"ooo\",\"ooo\",\"too\",\"ooo\",\"ooo\",\"ooo\",\"ooo\",\"ooo\",\"ooo\",\"too\",\"ooo\",\"ooo\",\"ooo\",\"teo\",\"ooo\",\"ooo\",\"ooo\",\"ooo\",\"ooo\",\"ooo\",\"ooo\",\"teo\",\"ooo\",\"ooo\",\"ooo\",\"ooo\",\"ooo\",\"ooo\",\"ooo\",\"ted\",\"ted\",\"ooo\",\"ooo\",\"ted\",\"too\",\"ooo\",\"ooo\",\"ooo\",\"ooo\",\"too\",\"ooo\",\"ooo\",\"ooo\",\"ooo\",\"too\",\"ooo\",\"ooo\",\"ooo\",\"ooo\",\"too\",\"too\",\"ooo\",\"ted\",\"ooo\",\"ooo\",\"ooo\",\"ooo\",\"ooo\",\"ooo\",\"ooo\",\"ooo\",\"ooo\",\"too\",\"ooo\",\"ooo\",\"too\",\"ooo\",\"ooo\",\"ooo\",\"ooo\",\"ooo\",\"ooo\",\"ooo\",\"ooo\",\"ooo\",\"ooo\",\"ooo\",\"ooo\",\"ooo\",\"too\",\"ooo\",\"too\",\"ooo\",\"ted\",\"ooo\",\"ted\",\"ooo\",\"ted\",\"too\",\"ooo\",\"ooo\",\"ooo\",\"ooo\",\"ooo\",\"too\",\"teo\",\"ooo\",\"ooo\",\"ooo\",\"teo\",\"ted\",\"ooo\",\"too\",\"ooo\",\"teo\",\"too\",\"ooo\",\"ooo\",\"ooo\",\"teo\",\"ooo\",\"ooo\",\"ooo\",\"ted\",\"ooo\",\"too\",\"ooo\",\"ooo\",\"ooo\",\"ooo\",\"ooo\",\"ooo\",\"ted\",\"too\",\"teo\",\"ooo\",\"ooo\",\"ooo\",\"ooo\",\"ooo\",\"ooo\",\"too\",\"too\",\"too\",\"ooo\",\"teo\",\"ooo\",\"ooo\",\"ted\",\"ooo\",\"teo\",\"too\",\"too\",\"ooo\",\"ooo\",\"ooo\",\"ooo\",\"teo\",\"ooo\",\"too\",\"ted\",\"ooo\",\"ooo\",\"ooo\",\"ted\",\"ooo\",\"too\",\"ted\",\"ooo\",\"ted\",\"too\",\"ooo\",\"ooo\",\"ted\",\"ooo\",\"ooo\",\"too\",\"ooo\",\"too\",\"ooo\",\"teo\",\"ooo\",\"ooo\",\"ooo\",\"ooo\",\"ooo\",\"ooo\",\"ooo\",\"too\",\"ooo\",\"too\",\"teo\",\"ooo\",\"ted\",\"ted\",\"ooo\",\"ted\",\"ooo\",\"ooo\",\"ooo\",\"ooo\",\"ooo\",\"ooo\",\"ooo\",\"ooo\",\"ooo\",\"ooo\",\"ted\",\"ted\",\"ooo\",\"teo\",\"too\",\"teo\",\"ooo\",\"ted\",\"ooo\",\"ooo\",\"ooo\",\"ted\",\"ooo\",\"ooo\",\"ooo\",\"ooo\",\"ooo\",\"ooo\",\"ooo\",\"ooo\",\"too\",\"ted\",\"ooo\",\"teo\",\"ted\",\"too\",\"ooo\",\"ooo\",\"ooo\",\"ted\",\"ooo\",\"ooo\",\"teo\",\"ted\",\"ooo\",\"too\",\"ooo\",\"ooo\",\"teo\",\"ooo\",\"too\",\"ooo\",\"teo\",\"ooo\",\"ooo\",\"ooo\",\"ooo\",\"teo\",\"ooo\",\"ooo\",\"ted\",\"teo\",\"ted\",\"ooo\",\"ooo\",\"ooo\",\"ted\",\"too\",\"ooo\",\"too\",\"ooo\",\"ooo\",\"ooo\",\"ooo\",\"ooo\",\"ooo\",\"ooo\",\"too\",\"ooo\",\"ooo\",\"ooo\",\"ooo\",\"too\",\"ooo\",\"too\",\"ooo\",\"too\",\"too\",\"too\",\"too\",\"too\",\"teo\",\"ooo\",\"ooo\",\"ooo\",\"ooo\",\"too\",\"too\",\"ooo\",\"too\",\"too\",\"teo\",\"ted\",\"ooo\",\"too\",\"ooo\",\"ooo\",\"too\",\"too\",\"ted\",\"teo\",\"ooo\",\"ooo\",\"too\",\"too\",\"ted\",\"ooo\",\"too\",\"ooo\",\"ooo\",\"ooo\",\"ooo\",\"ooo\",\"too\",\"ooo\",\"teo\",\"ooo\",\"too\",\"ooo\",\"ooo\",\"ooo\",\"ooo\",\"ooo\",\"ooo\",\"too\",\"ooo\",\"ooo\",\"ooo\",\"too\",\"ooo\",\"ooo\",\"ooo\",\"ooo\",\"ooo\",\"ooo\",\"too\",\"ooo\",\"too\",\"too\",\"ooo\",\"too\",\"ooo\",\"ooo\",\"ooo\",\"ooo\",\"ooo\",\"too\",\"ooo\",\"ooo\",\"ooo\",\"ted\",\"ooo\",\"ooo\",\"ooo\",\"too\",\"teo\",\"ted\",\"ooo\",\"ooo\",\"ooo\",\"ooo\",\"ooo\",\"ooo\",\"teo\",\"ooo\",\"ooo\",\"ooo\",\"too\",\"ooo\",\"ooo\",\"ooo\",\"ted\",\"ooo\",\"ooo\",\"ooo\",\"ooo\",\"ooo\",\"ooo\",\"teo\",\"ted\",\"ooo\",\"ooo\",\"ted\",\"ooo\",\"ooo\",\"teo\",\"too\",\"ooo\",\"ooo\",\"ooo\",\"ooo\",\"ooo\",\"ooo\",\"ooo\",\"ooo\",\"ooo\",\"too\",\"ted\",\"ooo\",\"ooo\",\"ooo\",\"ted\",\"ooo\",\"ooo\",\"ooo\",\"too\",\"too\",\"ooo\",\"teo\",\"ted\",\"ted\",\"ooo\",\"too\",\"ooo\",\"ooo\",\"ooo\",\"ooo\",\"ted\",\"ooo\",\"ooo\",\"too\",\"ooo\",\"too\",\"ooo\",\"ooo\",\"too\",\"too\",\"ted\",\"ooo\",\"ooo\",\"ooo\",\"ooo\",\"too\",\"ooo\",\"ooo\",\"ooo\",\"ted\",\"too\",\"ooo\",\"too\",\"ooo\",\"teo\",\"ted\",\"ooo\",\"ooo\",\"ooo\",\"ooo\",\"ooo\",\"ooo\",\"ooo\",\"too\",\"ooo\",\"ooo\",\"ooo\",\"ooo\",\"ooo\",\"ooo\",\"too\",\"ooo\",\"ted\",\"too\",\"teo\",\"too\",\"ooo\",\"too\",\"too\",\"ted\",\"ted\",\"ooo\",\"ooo\",\"ooo\",\"ted\",\"too\",\"ooo\",\"too\",\"too\",\"ooo\",\"teo\",\"teo\",\"ooo\",\"teo\",\"ooo\",\"too\",\"ooo\",\"too\",\"too\",\"teo\",\"ooo\",\"ooo\",\"too\",\"teo\",\"ooo\",\"too\",\"ooo\",\"ooo\",\"ooo\",\"ooo\",\"ooo\",\"too\",\"ooo\",\"ooo\",\"ted\",\"ooo\",\"ted\",\"too\",\"ooo\",\"ooo\",\"ooo\",\"too\",\"too\",\"teo\",\"ted\",\"ooo\",\"ooo\",\"ooo\",\"ooo\",\"teo\",\"ooo\",\"teo\",\"ooo\",\"ooo\",\"ted\",\"ooo\",\"too\",\"ted\",\"ooo\",\"ooo\",\"ooo\",\"too\",\"ooo\",\"ooo\",\"ooo\",\"teo\",\"teo\",\"ooo\",\"too\",\"ted\",\"too\",\"ooo\",\"ooo\",\"teo\",\"ooo\",\"too\",\"ooo\",\"ooo\",\"ooo\",\"ooo\",\"ooo\",\"ooo\",\"ooo\",\"teo\",\"too\",\"ooo\",\"ooo\",\"ted\",\"ooo\",\"ted\",\"ted\",\"ted\",\"too\",\"ted\",\"too\",\"ooo\",\"too\",\"too\",\"ooo\",\"teo\",\"too\",\"ooo\",\"too\",\"ooo\",\"teo\",\"ooo\",\"ooo\",\"teo\",\"too\",\"ooo\",\"teo\",\"ooo\",\"ooo\",\"too\",\"too\",\"too\",\"ooo\",\"ooo\",\"teo\",\"too\",\"ooo\",\"ooo\",\"ooo\",\"teo\",\"ooo\",\"ooo\",\"too\",\"ooo\",\"too\",\"ooo\",\"ooo\",\"ooo\",\"too\",\"ooo\",\"ooo\",\"too\",\"ooo\",\"teo\",\"too\",\"ted\",\"ooo\",\"too\",\"ooo\",\"too\",\"ooo\",\"ooo\",\"ooo\",\"ted\",\"ooo\",\"too\",\"ooo\",\"too\",\"too\",\"ooo\",\"ted\",\"ooo\",\"ooo\",\"ooo\",\"ooo\",\"ooo\",\"ooo\",\"ooo\",\"teo\",\"ooo\",\"ooo\",\"ooo\",\"too\",\"ooo\",\"ooo\",\"ooo\",\"ooo\",\"too\",\"ted\",\"teo\",\"too\",\"too\",\"too\",\"ooo\",\"ooo\",\"too\",\"teo\",\"ooo\",\"ooo\",\"teo\",\"ted\",\"ted\",\"ted\",\"too\",\"teo\",\"too\",\"teo\",\"ted\",\"ted\",\"teo\",\"too\",\"too\",\"too\",\"ooo\",\"teo\",\"ooo\",\"ted\",\"ooo\",\"ooo\",\"ooo\",\"ooo\",\"ooo\",\"ooo\",\"ooo\",\"ted\",\"too\",\"too\",\"ooo\",\"ted\",\"ooo\",\"too\",\"ted\",\"ooo\",\"teo\",\"too\",\"ted\",\"ooo\",\"ooo\",\"teo\",\"ooo\",\"teo\",\"ted\",\"ooo\",\"ooo\",\"ooo\",\"ooo\",\"ted\",\"ooo\",\"teo\",\"too\",\"ooo\",\"too\",\"ooo\",\"ted\",\"ooo\",\"teo\",\"ted\",\"ooo\",\"ted\",\"teo\",\"ooo\",\"too\",\"ted\",\"too\",\"ooo\",\"ooo\",\"ted\",\"ooo\",\"ooo\",\"ooo\",\"ooo\",\"too\",\"too\",\"ooo\",\"ooo\",\"ooo\",\"ooo\",\"ooo\",\"ted\",\"too\",\"teo\",\"too\",\"ooo\",\"ooo\",\"ooo\",\"ooo\",\"ooo\",\"too\",\"ooo\",\"ted\",\"ooo\",\"ooo\",\"too\",\"ooo\",\"ooo\",\"teo\",\"ted\",\"ooo\",\"ooo\",\"ted\",\"ted\",\"ted\",\"ooo\",\"ooo\",\"ted\",\"ted\",\"ooo\",\"ooo\",\"ted\",\"ted\",\"ooo\",\"too\",\"ted\",\"ooo\",\"ted\",\"ted\",\"teo\",\"ooo\",\"ooo\",\"ooo\",\"ted\",\"teo\",\"ooo\",\"ooo\",\"ted\",\"too\",\"ooo\",\"ted\",\"ooo\",\"ted\",\"ted\",\"ooo\",\"ooo\",\"ted\",\"ted\",\"ooo\",\"too\",\"ted\",\"ted\",\"ooo\",\"too\",\"too\",\"ooo\",\"too\",\"ted\",\"ooo\",\"ooo\",\"too\",\"too\",\"ooo\",\"ooo\",\"ooo\",\"teo\",\"ooo\",\"ted\",\"ooo\",\"ooo\",\"ooo\",\"too\",\"teo\",\"too\",\"ted\",\"too\",\"ooo\",\"teo\",\"ted\",\"ooo\",\"ooo\",\"ooo\",\"teo\",\"ted\",\"ooo\",\"ooo\",\"ooo\",\"ooo\",\"ooo\",\"ooo\",\"ooo\",\"ooo\",\"ooo\",\"ooo\",\"ooo\",\"too\",\"teo\",\"ooo\",\"ooo\",\"ted\",\"ooo\",\"ooo\",\"too\",\"ooo\",\"too\",\"ooo\",\"teo\",\"ted\",\"ooo\",\"ted\",\"ooo\",\"ooo\",\"teo\",\"teo\",\"ted\",\"ted\",\"ooo\",\"too\",\"ooo\",\"ted\",\"ooo\",\"teo\",\"too\",\"ooo\",\"too\",\"ooo\",\"too\",\"ooo\",\"ted\",\"too\",\"ooo\",\"ooo\",\"too\",\"teo\",\"ooo\",\"teo\",\"ooo\",\"ooo\",\"ooo\",\"too\",\"ooo\",\"too\",\"teo\",\"ooo\",\"ooo\",\"ooo\",\"ooo\",\"ooo\",\"teo\",\"too\",\"ooo\",\"ooo\",\"ooo\",\"ted\",\"ted\",\"ooo\",\"ooo\",\"ooo\",\"ted\",\"ooo\",\"ted\",\"too\",\"ted\",\"ooo\",\"ooo\",\"ooo\",\"ted\",\"teo\",\"ooo\",\"ooo\",\"ted\",\"teo\",\"ted\",\"too\",\"ooo\",\"ooo\",\"ted\",\"ooo\",\"ooo\",\"ooo\",\"too\",\"ooo\",\"too\",\"ted\",\"too\",\"ooo\",\"ooo\",\"ooo\",\"ooo\",\"too\",\"ooo\",\"ted\",\"ooo\",\"ooo\",\"too\",\"ted\",\"ted\",\"ted\",\"ooo\",\"ooo\",\"too\",\"ted\",\"too\",\"ooo\",\"ooo\",\"too\",\"too\",\"teo\",\"ooo\",\"ted\",\"too\",\"ooo\",\"ooo\",\"ooo\",\"ooo\",\"ooo\",\"ooo\",\"ooo\",\"teo\",\"ooo\",\"ted\",\"teo\",\"teo\",\"teo\",\"ted\",\"ooo\",\"ooo\",\"ooo\",\"ted\",\"too\",\"ooo\",\"ted\",\"ted\",\"too\",\"ooo\",\"too\",\"ooo\",\"too\",\"ted\",\"ooo\",\"ooo\",\"ooo\",\"ooo\",\"ooo\",\"ted\",\"too\",\"ooo\",\"ted\",\"too\",\"ted\",\"too\",\"ooo\",\"ted\",\"ooo\",\"ooo\",\"ooo\",\"ooo\",\"teo\",\"ooo\",\"ooo\",\"ooo\",\"ted\",\"ooo\",\"ooo\",\"teo\",\"ooo\",\"ooo\",\"ooo\",\"ted\",\"too\",\"ooo\",\"ooo\",\"ted\",\"ooo\",\"too\",\"too\",\"ooo\",\"ooo\",\"too\",\"ooo\",\"ooo\",\"ooo\",\"too\",\"ooo\",\"teo\",\"ooo\",\"ooo\",\"ooo\",\"ooo\",\"teo\",\"ted\",\"teo\",\"ooo\",\"ooo\",\"ooo\",\"ted\",\"ooo\",\"ooo\",\"ted\",\"ted\",\"too\",\"ooo\",\"ooo\",\"ooo\",\"ooo\",\"too\",\"ted\",\"ooo\",\"ooo\",\"teo\",\"ooo\",\"ooo\",\"ooo\",\"teo\",\"too\",\"ooo\",\"ooo\",\"ooo\",\"teo\",\"ooo\",\"ted\",\"too\",\"ooo\",\"teo\",\"ooo\",\"ted\",\"ooo\",\"teo\",\"teo\",\"ted\",\"teo\",\"ooo\",\"ted\",\"ooo\",\"ted\",\"too\",\"ted\",\"too\",\"too\",\"ooo\",\"ooo\",\"ted\",\"ooo\",\"ooo\",\"ooo\",\"too\",\"too\",\"ooo\",\"too\",\"ooo\",\"ted\",\"ooo\",\"ted\",\"too\",\"too\",\"ted\",\"ooo\",\"ooo\",\"ted\",\"ooo\",\"ooo\",\"ooo\",\"ooo\",\"ooo\",\"ooo\",\"ooo\",\"too\",\"ooo\",\"ooo\",\"ooo\",\"ooo\",\"ooo\",\"teo\",\"ooo\",\"ooo\",\"teo\",\"ted\",\"ooo\",\"ooo\",\"ooo\",\"ted\",\"ted\",\"too\",\"ooo\",\"teo\",\"teo\",\"ted\",\"too\",\"too\",\"too\",\"ooo\",\"ooo\",\"ted\",\"ted\",\"teo\",\"ted\",\"ooo\",\"ted\",\"too\",\"ooo\",\"ooo\",\"ted\",\"too\",\"too\",\"ted\",\"ooo\",\"ted\",\"ooo\",\"teo\",\"too\",\"ooo\",\"ted\",\"too\",\"ted\",\"ooo\",\"ooo\",\"ooo\",\"ooo\",\"ted\",\"too\",\"ooo\",\"ted\",\"ooo\",\"ooo\",\"ooo\",\"ooo\",\"too\",\"too\",\"teo\",\"ooo\",\"ooo\",\"ted\",\"ooo\",\"too\",\"ooo\",\"too\",\"teo\",\"ted\",\"ted\",\"ted\",\"ooo\",\"ooo\",\"too\",\"too\",\"ooo\",\"teo\",\"ted\",\"ooo\",\"ted\",\"ooo\",\"ooo\",\"ted\",\"ooo\",\"too\",\"ooo\",\"ooo\",\"too\",\"ted\",\"ooo\",\"too\",\"ooo\",\"ted\",\"ted\",\"ted\",\"ooo\",\"ooo\",\"ooo\",\"ooo\",\"ooo\",\"ooo\",\"ted\",\"ooo\",\"too\",\"ooo\",\"ooo\",\"ted\",\"ooo\",\"ted\",\"ted\",\"ooo\",\"teo\",\"ooo\",\"too\",\"ooo\",\"ooo\",\"ooo\",\"ooo\",\"ooo\",\"ooo\",\"ted\",\"too\",\"ooo\",\"ooo\",\"ted\",\"teo\",\"too\",\"ooo\",\"ooo\",\"too\",\"ted\",\"ted\",\"too\",\"ooo\",\"too\",\"too\",\"ooo\",\"ooo\",\"ooo\",\"ooo\",\"too\",\"ooo\",\"ted\",\"ted\",\"teo\",\"ooo\",\"too\",\"too\",\"too\",\"ooo\",\"teo\",\"ooo\",\"too\",\"ted\",\"ted\",\"ted\",\"ted\",\"ted\",\"teo\",\"ooo\",\"ooo\",\"too\",\"ooo\",\"ooo\",\"too\",\"teo\",\"teo\",\"ooo\",\"ooo\",\"ted\",\"teo\",\"ted\",\"ted\",\"ted\",\"teo\",\"ooo\",\"ooo\",\"ted\",\"teo\",\"teo\",\"too\",\"ooo\",\"teo\",\"ooo\",\"ooo\",\"teo\",\"teo\",\"too\",\"ooo\",\"ted\",\"ted\",\"teo\",\"too\",\"too\",\"teo\",\"too\",\"ted\",\"ooo\",\"ted\",\"ooo\",\"too\",\"too\",\"ted\",\"ted\",\"ooo\",\"ooo\",\"ted\",\"ted\",\"ted\",\"ted\",\"ooo\",\"ted\",\"too\",\"ooo\",\"ted\",\"too\",\"too\",\"teo\",\"teo\",\"ted\",\"ooo\",\"ted\",\"teo\",\"ted\",\"ted\",\"teo\",\"ooo\",\"too\",\"ted\",\"teo\",\"too\",\"ted\",\"teo\",\"ted\",\"ted\",\"ted\",\"ted\",\"ooo\",\"ooo\",\"too\",\"ted\",\"ooo\",\"teo\",\"ted\",\"ooo\",\"ooo\",\"ooo\",\"ooo\",\"ooo\",\"ooo\",\"teo\",\"ted\",\"ted\",\"too\",\"ooo\",\"ooo\",\"ted\",\"teo\",\"ooo\",\"teo\",\"ted\",\"too\",\"teo\",\"ted\",\"teo\",\"ted\",\"ted\",\"ted\",\"ooo\",\"ted\",\"ted\",\"ooo\",\"ted\",\"ooo\",\"ooo\",\"too\",\"too\",\"too\",\"ooo\",\"ooo\",\"teo\",\"teo\",\"too\",\"ted\",\"too\",\"ooo\",\"too\",\"too\",\"ted\",\"too\",\"teo\",\"too\",\"ooo\",\"teo\",\"teo\",\"ooo\",\"teo\",\"ted\",\"ooo\",\"ooo\",\"teo\",\"ted\",\"ted\",\"too\",\"ted\",\"teo\",\"ooo\",\"teo\",\"ted\",\"too\",\"teo\",\"teo\",\"too\",\"too\",\"too\",\"teo\",\"too\",\"ooo\",\"ted\",\"ooo\",\"teo\",\"ooo\",\"too\",\"teo\",\"ted\",\"teo\",\"ooo\",\"ted\",\"ted\",\"ooo\",\"ooo\",\"too\",\"ooo\",\"ooo\",\"teo\",\"ted\",\"ooo\",\"ted\",\"ted\",\"ted\",\"ooo\",\"ooo\",\"teo\",\"ted\",\"teo\",\"ooo\",\"ted\",\"too\",\"teo\",\"too\",\"ooo\",\"teo\",\"ooo\",\"too\",\"ted\",\"ted\",\"ooo\",\"ooo\",\"ted\",\"too\",\"ted\",\"too\",\"too\",\"ooo\",\"too\",\"ooo\",\"ted\",\"ted\",\"ooo\",\"ted\",\"too\",\"ted\",\"too\",\"ted\",\"ooo\",\"teo\",\"teo\",\"ted\",\"too\",\"too\",\"ooo\",\"ooo\",\"ted\",\"ted\",\"too\",\"too\",\"teo\",\"teo\",\"teo\",\"ooo\",\"teo\",\"ted\",\"ted\",\"too\",\"teo\",\"ted\",\"ooo\",\"teo\",\"ted\",\"ooo\",\"ooo\",\"teo\",\"too\",\"too\",\"ted\",\"ted\",\"ted\",\"ooo\",\"too\",\"too\",\"ooo\",\"teo\",\"ooo\",\"too\",\"too\",\"too\",\"ted\",\"ted\",\"ted\",\"teo\",\"teo\",\"ted\",\"ted\",\"too\",\"ted\",\"ooo\",\"teo\",\"ooo\",\"ooo\",\"ted\",\"too\",\"teo\",\"too\",\"teo\",\"teo\",\"ooo\",\"teo\",\"ooo\",\"ooo\",\"ted\",\"ooo\",\"ooo\",\"ooo\",\"ted\",\"teo\",\"ted\",\"ooo\",\"ted\",\"ted\",\"ooo\",\"too\",\"ooo\",\"ted\",\"too\",\"ted\",\"ooo\",\"ted\",\"ooo\",\"too\",\"too\",\"too\",\"too\",\"too\",\"ted\",\"ted\",\"teo\",\"ted\",\"teo\",\"teo\",\"teo\",\"ooo\",\"ooo\",\"ooo\",\"teo\",\"teo\",\"teo\",\"too\",\"ted\",\"teo\",\"teo\",\"teo\",\"ooo\",\"ooo\",\"ooo\",\"too\",\"ted\",\"ted\",\"too\",\"ted\",\"ted\",\"ted\",\"ted\",\"teo\",\"ted\",\"ted\",\"too\",\"ted\",\"too\",\"teo\",\"ooo\",\"ted\",\"too\",\"too\",\"too\",\"ooo\",\"ooo\",\"ted\",\"too\",\"teo\",\"ted\",\"ted\",\"too\",\"ooo\",\"ooo\",\"ted\",\"ooo\",\"ooo\",\"teo\",\"teo\",\"ooo\",\"ooo\",\"too\",\"too\",\"too\",\"teo\",\"teo\",\"ted\",\"too\",\"ted\",\"too\",\"ooo\",\"ooo\",\"too\",\"ooo\",\"too\",\"too\",\"ooo\",\"ooo\",\"ooo\",\"ooo\",\"too\",\"ooo\",\"ooo\",\"teo\",\"teo\",\"ted\",\"too\",\"too\",\"ted\",\"ted\",\"teo\",\"teo\",\"ted\",\"ted\",\"ted\",\"teo\",\"too\",\"ooo\",\"ooo\",\"ooo\",\"ted\",\"ooo\",\"teo\",\"ooo\",\"too\",\"ted\",\"ooo\"],\"x1\":{\"__ndarray__\":\"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\",\"dtype\":\"float64\",\"shape\":[2085]},\"x2\":{\"__ndarray__\":\"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\",\"dtype\":\"float64\",\"shape\":[2085]}}},\"id\":\"7677ec93-4c22-42e2-81de-e3fd28aa752e\",\"type\":\"ColumnDataSource\"},{\"attributes\":{},\"id\":\"ee28302e-1c1d-431e-9f29-c8a07423347e\",\"type\":\"BasicTickFormatter\"},{\"attributes\":{\"plot\":null,\"text\":\"Ted labels T-SNE\"},\"id\":\"d221f3a4-9595-49e8-a61f-461608268fb2\",\"type\":\"Title\"},{\"attributes\":{\"callback\":null},\"id\":\"97024dfe-02d2-415d-b4f4-34cb90eb2a6f\",\"type\":\"DataRange1d\"},{\"attributes\":{},\"id\":\"39562c4d-0db9-422b-8f96-875ef32eda0a\",\"type\":\"ToolEvents\"},{\"attributes\":{\"active_drag\":\"auto\",\"active_scroll\":\"auto\",\"active_tap\":\"auto\",\"tools\":[{\"id\":\"41644d24-caa1-414c-8e2b-566b16a0a946\",\"type\":\"PanTool\"},{\"id\":\"a509d01f-f6bc-4191-b195-33a949e6b1ce\",\"type\":\"WheelZoomTool\"},{\"id\":\"f16cf6f3-1ba1-4f0a-afb2-fd00b3c0c511\",\"type\":\"ResetTool\"},{\"id\":\"5c5ef15d-7d70-472d-a767-02aeaed3c484\",\"type\":\"SaveTool\"}]},\"id\":\"fad4df56-336f-421b-a084-60c626f47884\",\"type\":\"Toolbar\"},{\"attributes\":{\"callback\":null},\"id\":\"7418ea29-6a41-4b8f-a2ee-2e27f6b2c5e7\",\"type\":\"DataRange1d\"},{\"attributes\":{\"fill_color\":{\"value\":\"#1f77b4\"},\"line_color\":{\"value\":\"#1f77b4\"},\"size\":{\"units\":\"screen\",\"value\":8},\"x\":{\"field\":\"x1\"},\"y\":{\"field\":\"x2\"}},\"id\":\"c8ede0fd-8430-46f2-8e40-2e0ade0e8aba\",\"type\":\"Circle\"},{\"attributes\":{\"formatter\":{\"id\":\"bb6768f5-1308-4dec-a870-be4d4902136c\",\"type\":\"BasicTickFormatter\"},\"plot\":{\"id\":\"77e3e0ab-5001-4f85-9933-fdf0c4f7bd59\",\"subtype\":\"Figure\",\"type\":\"Plot\"},\"ticker\":{\"id\":\"1855656a-1f2e-43b1-8f12-4a71de90d175\",\"type\":\"BasicTicker\"}},\"id\":\"e3ef34a8-0ff1-4345-967c-42577480983c\",\"type\":\"LinearAxis\"},{\"attributes\":{},\"id\":\"1855656a-1f2e-43b1-8f12-4a71de90d175\",\"type\":\"BasicTicker\"},{\"attributes\":{\"plot\":{\"id\":\"77e3e0ab-5001-4f85-9933-fdf0c4f7bd59\",\"subtype\":\"Figure\",\"type\":\"Plot\"},\"ticker\":{\"id\":\"1855656a-1f2e-43b1-8f12-4a71de90d175\",\"type\":\"BasicTicker\"}},\"id\":\"d18f6441-23fe-455c-9ef8-e9a1a55caa28\",\"type\":\"Grid\"},{\"attributes\":{\"formatter\":{\"id\":\"ee28302e-1c1d-431e-9f29-c8a07423347e\",\"type\":\"BasicTickFormatter\"},\"plot\":{\"id\":\"77e3e0ab-5001-4f85-9933-fdf0c4f7bd59\",\"subtype\":\"Figure\",\"type\":\"Plot\"},\"ticker\":{\"id\":\"d99273d6-f215-4d3a-9368-a00d7c361c28\",\"type\":\"BasicTicker\"}},\"id\":\"ca295137-c9a0-4385-975c-8eb0daf55244\",\"type\":\"LinearAxis\"},{\"attributes\":{},\"id\":\"d99273d6-f215-4d3a-9368-a00d7c361c28\",\"type\":\"BasicTicker\"},{\"attributes\":{\"dimension\":1,\"plot\":{\"id\":\"77e3e0ab-5001-4f85-9933-fdf0c4f7bd59\",\"subtype\":\"Figure\",\"type\":\"Plot\"},\"ticker\":{\"id\":\"d99273d6-f215-4d3a-9368-a00d7c361c28\",\"type\":\"BasicTicker\"}},\"id\":\"056a5488-db11-4a43-b7e6-aa283b370fe0\",\"type\":\"Grid\"}],\"root_ids\":[\"77e3e0ab-5001-4f85-9933-fdf0c4f7bd59\"]},\"title\":\"Bokeh Application\",\"version\":\"0.12.4\"}};\n",
       "            var render_items = [{\"docid\":\"76dd5abb-dc60-4627-8560-33ac0e27f987\",\"elementid\":\"678a20ac-0131-474e-8ae1-bb6204f50846\",\"modelid\":\"77e3e0ab-5001-4f85-9933-fdf0c4f7bd59\"}];\n",
       "            \n",
       "            Bokeh.embed.embed_items(docs_json, render_items);\n",
       "          };\n",
       "          if (document.readyState != \"loading\") fn();\n",
       "          else document.addEventListener(\"DOMContentLoaded\", fn);\n",
       "        })();\n",
       "      },\n",
       "      function(Bokeh) {\n",
       "      }\n",
       "    ];\n",
       "  \n",
       "    function run_inline_js() {\n",
       "      \n",
       "      if ((window.Bokeh !== undefined) || (force === true)) {\n",
       "        for (var i = 0; i < inline_js.length; i++) {\n",
       "          inline_js[i](window.Bokeh);\n",
       "        }if (force === true) {\n",
       "          display_loaded();\n",
       "        }} else if (Date.now() < window._bokeh_timeout) {\n",
       "        setTimeout(run_inline_js, 100);\n",
       "      } else if (!window._bokeh_failed_load) {\n",
       "        console.log(\"Bokeh: BokehJS failed to load within specified timeout.\");\n",
       "        window._bokeh_failed_load = true;\n",
       "      } else if (force !== true) {\n",
       "        var cell = $(document.getElementById(\"678a20ac-0131-474e-8ae1-bb6204f50846\")).parents('.cell').data().cell;\n",
       "        cell.output_area.append_execute_result(NB_LOAD_WARNING)\n",
       "      }\n",
       "  \n",
       "    }\n",
       "  \n",
       "    if (window._bokeh_is_loading === 0) {\n",
       "      console.log(\"Bokeh: BokehJS loaded, going straight to plotting\");\n",
       "      run_inline_js();\n",
       "    } else {\n",
       "      load_libs(js_urls, function() {\n",
       "        console.log(\"Bokeh: BokehJS plotting callback run at\", now());\n",
       "        run_inline_js();\n",
       "      });\n",
       "    }\n",
       "  }(this));\n",
       "</script>"
      ]
     },
     "metadata": {},
     "output_type": "display_data"
    }
   ],
   "source": [
    "p = figure(tools=\"pan,wheel_zoom,reset,save\",\n",
    "           toolbar_location=\"above\",\n",
    "           title=\"Ted labels T-SNE\")\n",
    "\n",
    "source = ColumnDataSource(data=dict(x1=ted_labels_tsne[:,0],\n",
    "                                    x2=ted_labels_tsne[:,1],\n",
    "                                    names=labels_new))\n",
    "\n",
    "p.scatter(x=\"x1\", y=\"x2\", size=8, source=source)\n",
    "\n",
    "labels = LabelSet(x=\"x1\", y=\"x2\", text=\"names\", y_offset=6,\n",
    "                  text_font_size=\"8pt\", text_color=\"#555555\",\n",
    "                  source=source, text_align='center')\n",
    "p.add_layout(labels)\n",
    "\n",
    "show(p)"
   ]
  },
  {
   "cell_type": "code",
   "execution_count": null,
   "metadata": {
    "collapsed": true
   },
   "outputs": [],
   "source": []
  }
 ],
 "metadata": {
  "kernelspec": {
   "display_name": "Python 3",
   "language": "python",
   "name": "python3"
  },
  "language_info": {
   "codemirror_mode": {
    "name": "ipython",
    "version": 3
   },
   "file_extension": ".py",
   "mimetype": "text/x-python",
   "name": "python",
   "nbconvert_exporter": "python",
   "pygments_lexer": "ipython3",
   "version": "3.6.0"
  }
 },
 "nbformat": 4,
 "nbformat_minor": 2
}
