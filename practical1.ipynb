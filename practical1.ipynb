{
 "cells": [
  {
   "cell_type": "markdown",
   "metadata": {},
   "source": [
    "## Practical 1: word2vec\n",
    "<p>Oxford CS - Deep NLP 2017<br>\n",
    "https://www.cs.ox.ac.uk/teaching/courses/2016-2017/dl/</p>\n",
    "<p>[Yannis Assael, Brendan Shillingford, Chris Dyer]</p>"
   ]
  },
  {
   "cell_type": "markdown",
   "metadata": {},
   "source": [
    "This practical is presented as an IPython Notebook, with the code written for recent versions of **Python 3**. The code in this practical will not work with Python 2 unless you modify it. If you are using your own Python installation, ensure you have a setup identical to that described in the installation shell script (which is intended for use with the department lab machines). We will be unable to support installation on personal machines due to time constraints, so please use the lab machines and the setup script if you are unfamiliar with how to install Anaconda.\n",
    "\n",
    "To execute a notebook cell, press `shift-enter`. The return value of the last command will be displayed, if it is not `None`.\n",
    "\n",
    "Potentially useful library documentation, references, and resources:\n",
    "\n",
    "* IPython notebooks: <https://ipython.org/ipython-doc/3/notebook/notebook.html#introduction>\n",
    "* Numpy numerical array library: <https://docs.scipy.org/doc/>\n",
    "* Gensim's word2vec: <https://radimrehurek.com/gensim/models/word2vec.html>\n",
    "* Bokeh interactive plots: <http://bokeh.pydata.org/en/latest/> (we provide plotting code here, but click the thumbnails for more examples to copy-paste)\n",
    "* scikit-learn ML library (aka `sklearn`): <http://scikit-learn.org/stable/documentation.html>\n",
    "* nltk NLP toolkit: <http://www.nltk.org/>\n",
    "* tutorial for processing xml in python using `lxml`: <http://lxml.de/tutorial.html> (we did this for you below, but in case you need it in the future)"
   ]
  },
  {
   "cell_type": "code",
   "execution_count": 1,
   "metadata": {
    "collapsed": false
   },
   "outputs": [],
   "source": [
    "import numpy as np\n",
    "import os\n",
    "from random import shuffle\n",
    "import re"
   ]
  },
  {
   "cell_type": "code",
   "execution_count": 2,
   "metadata": {
    "collapsed": false
   },
   "outputs": [
    {
     "data": {
      "text/html": [
       "\n",
       "    <div class=\"bk-root\">\n",
       "        <a href=\"http://bokeh.pydata.org\" target=\"_blank\" class=\"bk-logo bk-logo-small bk-logo-notebook\"></a>\n",
       "        <span id=\"d080ed7a-303e-4fce-b354-9d64e8a80a90\">Loading BokehJS ...</span>\n",
       "    </div>"
      ]
     },
     "metadata": {},
     "output_type": "display_data"
    },
    {
     "data": {
      "application/javascript": [
       "\n",
       "(function(global) {\n",
       "  function now() {\n",
       "    return new Date();\n",
       "  }\n",
       "\n",
       "  var force = true;\n",
       "\n",
       "  if (typeof (window._bokeh_onload_callbacks) === \"undefined\" || force === true) {\n",
       "    window._bokeh_onload_callbacks = [];\n",
       "    window._bokeh_is_loading = undefined;\n",
       "  }\n",
       "\n",
       "\n",
       "  \n",
       "  if (typeof (window._bokeh_timeout) === \"undefined\" || force === true) {\n",
       "    window._bokeh_timeout = Date.now() + 5000;\n",
       "    window._bokeh_failed_load = false;\n",
       "  }\n",
       "\n",
       "  var NB_LOAD_WARNING = {'data': {'text/html':\n",
       "     \"<div style='background-color: #fdd'>\\n\"+\n",
       "     \"<p>\\n\"+\n",
       "     \"BokehJS does not appear to have successfully loaded. If loading BokehJS from CDN, this \\n\"+\n",
       "     \"may be due to a slow or bad network connection. Possible fixes:\\n\"+\n",
       "     \"</p>\\n\"+\n",
       "     \"<ul>\\n\"+\n",
       "     \"<li>re-rerun `output_notebook()` to attempt to load from CDN again, or</li>\\n\"+\n",
       "     \"<li>use INLINE resources instead, as so:</li>\\n\"+\n",
       "     \"</ul>\\n\"+\n",
       "     \"<code>\\n\"+\n",
       "     \"from bokeh.resources import INLINE\\n\"+\n",
       "     \"output_notebook(resources=INLINE)\\n\"+\n",
       "     \"</code>\\n\"+\n",
       "     \"</div>\"}};\n",
       "\n",
       "  function display_loaded() {\n",
       "    if (window.Bokeh !== undefined) {\n",
       "      document.getElementById(\"d080ed7a-303e-4fce-b354-9d64e8a80a90\").textContent = \"BokehJS successfully loaded.\";\n",
       "    } else if (Date.now() < window._bokeh_timeout) {\n",
       "      setTimeout(display_loaded, 100)\n",
       "    }\n",
       "  }\n",
       "\n",
       "  function run_callbacks() {\n",
       "    window._bokeh_onload_callbacks.forEach(function(callback) { callback() });\n",
       "    delete window._bokeh_onload_callbacks\n",
       "    console.info(\"Bokeh: all callbacks have finished\");\n",
       "  }\n",
       "\n",
       "  function load_libs(js_urls, callback) {\n",
       "    window._bokeh_onload_callbacks.push(callback);\n",
       "    if (window._bokeh_is_loading > 0) {\n",
       "      console.log(\"Bokeh: BokehJS is being loaded, scheduling callback at\", now());\n",
       "      return null;\n",
       "    }\n",
       "    if (js_urls == null || js_urls.length === 0) {\n",
       "      run_callbacks();\n",
       "      return null;\n",
       "    }\n",
       "    console.log(\"Bokeh: BokehJS not loaded, scheduling load and callback at\", now());\n",
       "    window._bokeh_is_loading = js_urls.length;\n",
       "    for (var i = 0; i < js_urls.length; i++) {\n",
       "      var url = js_urls[i];\n",
       "      var s = document.createElement('script');\n",
       "      s.src = url;\n",
       "      s.async = false;\n",
       "      s.onreadystatechange = s.onload = function() {\n",
       "        window._bokeh_is_loading--;\n",
       "        if (window._bokeh_is_loading === 0) {\n",
       "          console.log(\"Bokeh: all BokehJS libraries loaded\");\n",
       "          run_callbacks()\n",
       "        }\n",
       "      };\n",
       "      s.onerror = function() {\n",
       "        console.warn(\"failed to load library \" + url);\n",
       "      };\n",
       "      console.log(\"Bokeh: injecting script tag for BokehJS library: \", url);\n",
       "      document.getElementsByTagName(\"head\")[0].appendChild(s);\n",
       "    }\n",
       "  };var element = document.getElementById(\"d080ed7a-303e-4fce-b354-9d64e8a80a90\");\n",
       "  if (element == null) {\n",
       "    console.log(\"Bokeh: ERROR: autoload.js configured with elementid 'd080ed7a-303e-4fce-b354-9d64e8a80a90' but no matching script tag was found. \")\n",
       "    return false;\n",
       "  }\n",
       "\n",
       "  var js_urls = [\"https://cdn.pydata.org/bokeh/release/bokeh-0.12.4.min.js\", \"https://cdn.pydata.org/bokeh/release/bokeh-widgets-0.12.4.min.js\"];\n",
       "\n",
       "  var inline_js = [\n",
       "    function(Bokeh) {\n",
       "      Bokeh.set_log_level(\"info\");\n",
       "    },\n",
       "    \n",
       "    function(Bokeh) {\n",
       "      \n",
       "      document.getElementById(\"d080ed7a-303e-4fce-b354-9d64e8a80a90\").textContent = \"BokehJS is loading...\";\n",
       "    },\n",
       "    function(Bokeh) {\n",
       "      console.log(\"Bokeh: injecting CSS: https://cdn.pydata.org/bokeh/release/bokeh-0.12.4.min.css\");\n",
       "      Bokeh.embed.inject_css(\"https://cdn.pydata.org/bokeh/release/bokeh-0.12.4.min.css\");\n",
       "      console.log(\"Bokeh: injecting CSS: https://cdn.pydata.org/bokeh/release/bokeh-widgets-0.12.4.min.css\");\n",
       "      Bokeh.embed.inject_css(\"https://cdn.pydata.org/bokeh/release/bokeh-widgets-0.12.4.min.css\");\n",
       "    }\n",
       "  ];\n",
       "\n",
       "  function run_inline_js() {\n",
       "    \n",
       "    if ((window.Bokeh !== undefined) || (force === true)) {\n",
       "      for (var i = 0; i < inline_js.length; i++) {\n",
       "        inline_js[i](window.Bokeh);\n",
       "      }if (force === true) {\n",
       "        display_loaded();\n",
       "      }} else if (Date.now() < window._bokeh_timeout) {\n",
       "      setTimeout(run_inline_js, 100);\n",
       "    } else if (!window._bokeh_failed_load) {\n",
       "      console.log(\"Bokeh: BokehJS failed to load within specified timeout.\");\n",
       "      window._bokeh_failed_load = true;\n",
       "    } else if (force !== true) {\n",
       "      var cell = $(document.getElementById(\"d080ed7a-303e-4fce-b354-9d64e8a80a90\")).parents('.cell').data().cell;\n",
       "      cell.output_area.append_execute_result(NB_LOAD_WARNING)\n",
       "    }\n",
       "\n",
       "  }\n",
       "\n",
       "  if (window._bokeh_is_loading === 0) {\n",
       "    console.log(\"Bokeh: BokehJS loaded, going straight to plotting\");\n",
       "    run_inline_js();\n",
       "  } else {\n",
       "    load_libs(js_urls, function() {\n",
       "      console.log(\"Bokeh: BokehJS plotting callback run at\", now());\n",
       "      run_inline_js();\n",
       "    });\n",
       "  }\n",
       "}(this));"
      ]
     },
     "metadata": {},
     "output_type": "display_data"
    }
   ],
   "source": [
    "from bokeh.models import ColumnDataSource ,LabelSet\n",
    "from bokeh.plotting import figure, show, output_file\n",
    "from bokeh.io import output_notebook\n",
    "output_notebook()"
   ]
  },
  {
   "cell_type": "markdown",
   "metadata": {},
   "source": [
    "### Part 0: Download the TED dataset"
   ]
  },
  {
   "cell_type": "code",
   "execution_count": 3,
   "metadata": {
    "collapsed": false
   },
   "outputs": [],
   "source": [
    "import urllib.request\n",
    "import zipfile\n",
    "import lxml.etree"
   ]
  },
  {
   "cell_type": "code",
   "execution_count": 4,
   "metadata": {
    "collapsed": false
   },
   "outputs": [],
   "source": [
    "# Download the dataset if it's not already there: this may take a minute as it is 75MB\n",
    "if not os.path.isfile('ted_en-20160408.zip'):\n",
    "    urllib.request.urlretrieve(\"https://wit3.fbk.eu/get.php?path=XML_releases/xml/ted_en-20160408.zip&filename=ted_en-20160408.zip\", filename=\"ted_en-20160408.zip\")"
   ]
  },
  {
   "cell_type": "code",
   "execution_count": 5,
   "metadata": {
    "collapsed": true
   },
   "outputs": [],
   "source": [
    "# For now, we're only interested in the subtitle text, so let's extract that from the XML:\n",
    "with zipfile.ZipFile('ted_en-20160408.zip', 'r') as z:\n",
    "    doc = lxml.etree.parse(z.open('ted_en-20160408.xml', 'r'))\n",
    "input_text = '\\n'.join(doc.xpath('//content/text()'))\n",
    "del doc"
   ]
  },
  {
   "cell_type": "markdown",
   "metadata": {},
   "source": [
    "### Part 1: Preprocessing\n",
    "\n",
    "In this part, we attempt to clean up the raw subtitles a bit, so that we get only sentences. The following substring shows examples of what we're trying to get rid of. Since it's hard to define precisely what we want to get rid of, we'll just use some simple heuristics."
   ]
  },
  {
   "cell_type": "code",
   "execution_count": 6,
   "metadata": {
    "collapsed": false,
    "scrolled": false
   },
   "outputs": [
    {
     "data": {
      "text/plain": [
       "' baby does.\\n(Video) Hyowon Gweon: See this? (Ball squeaks) Did you see that? (Ball squeaks) Cool. See this one? (Ball squeaks) Wow.\\nLaura Schulz: Told you. (Laughs)\\n(Vide'"
      ]
     },
     "execution_count": 6,
     "metadata": {},
     "output_type": "execute_result"
    }
   ],
   "source": [
    "i = input_text.find(\"Hyowon Gweon: See this?\")\n",
    "input_text[i-20:i+150]"
   ]
  },
  {
   "cell_type": "markdown",
   "metadata": {},
   "source": [
    "Let's start by removing all parenthesized strings using a regex:"
   ]
  },
  {
   "cell_type": "code",
   "execution_count": 7,
   "metadata": {
    "collapsed": true
   },
   "outputs": [],
   "source": [
    "input_text_noparens = re.sub(r'\\([^)]*\\)', '', input_text)"
   ]
  },
  {
   "cell_type": "markdown",
   "metadata": {},
   "source": [
    "We can verify the same location in the text is now clean as follows. We won't worry about the irregular spaces since we'll later split the text into sentences and tokenize it anyway."
   ]
  },
  {
   "cell_type": "code",
   "execution_count": 8,
   "metadata": {
    "collapsed": false
   },
   "outputs": [
    {
     "data": {
      "text/plain": [
       "\"hat the baby does.\\n Hyowon Gweon: See this?  Did you see that?  Cool. See this one?  Wow.\\nLaura Schulz: Told you. \\n HG: See this one?  Hey Clara, this one's for you. You \""
      ]
     },
     "execution_count": 8,
     "metadata": {},
     "output_type": "execute_result"
    }
   ],
   "source": [
    "i = input_text_noparens.find(\"Hyowon Gweon: See this?\")\n",
    "input_text_noparens[i-20:i+150]"
   ]
  },
  {
   "cell_type": "markdown",
   "metadata": {},
   "source": [
    "Now, let's attempt to remove speakers' names that occur at the beginning of a line, by deleting pieces of the form \"`<up to 20 characters>:`\", as shown in this example. Of course, this is an imperfect heuristic. "
   ]
  },
  {
   "cell_type": "code",
   "execution_count": 9,
   "metadata": {
    "collapsed": false
   },
   "outputs": [
    {
     "data": {
      "text/plain": [
       "[\"Here are two reasons companies fail: they only do more of the same, or they only do what's new\",\n",
       " 'To me the real, real solution to quality growth is figuring out the balance between two activities: exploration and exploitation',\n",
       " ' Both are necessary, but it can be too much of a good thing',\n",
       " 'Consider Facit',\n",
       " \" I'm actually old enough to remember them\"]"
      ]
     },
     "execution_count": 9,
     "metadata": {},
     "output_type": "execute_result"
    }
   ],
   "source": [
    "sentences_strings_ted = []\n",
    "for line in input_text_noparens.split('\\n'):\n",
    "    m = re.match(r'^(?:(?P<precolon>[^:]{,20}):)?(?P<postcolon>.*)$', line)\n",
    "    sentences_strings_ted.extend(sent for sent in m.groupdict()['postcolon'].split('.') if sent)\n",
    "\n",
    "# Uncomment if you need to save some RAM: these strings are about 50MB.\n",
    "del input_text, input_text_noparens\n",
    "\n",
    "# Let's view the first few:\n",
    "sentences_strings_ted[:5]"
   ]
  },
  {
   "cell_type": "markdown",
   "metadata": {},
   "source": [
    "Now that we have sentences, we're ready to tokenize each of them into words. This tokenization is imperfect, of course. For instance, how many tokens is \"can't\", and where/how do we split it? We'll take the simplest naive approach of splitting on spaces. Before splitting, we remove non-alphanumeric characters, such as punctuation. You may want to consider the following question: why do we replace these characters with spaces rather than deleting them? Think of a case where this yields a different answer."
   ]
  },
  {
   "cell_type": "code",
   "execution_count": 10,
   "metadata": {
    "collapsed": false
   },
   "outputs": [],
   "source": [
    "sentences_ted = []\n",
    "for sent_str in sentences_strings_ted:\n",
    "    tokens = re.sub(r\"[^a-z0-9]+\", \" \", sent_str.lower()).split()\n",
    "    sentences_ted.append(tokens)"
   ]
  },
  {
   "cell_type": "markdown",
   "metadata": {},
   "source": [
    "Two sample processed sentences:"
   ]
  },
  {
   "cell_type": "code",
   "execution_count": 11,
   "metadata": {
    "collapsed": false
   },
   "outputs": [
    {
     "data": {
      "text/plain": [
       "266694"
      ]
     },
     "execution_count": 11,
     "metadata": {},
     "output_type": "execute_result"
    }
   ],
   "source": [
    "len(sentences_ted)"
   ]
  },
  {
   "cell_type": "code",
   "execution_count": 12,
   "metadata": {
    "collapsed": false
   },
   "outputs": [
    {
     "name": "stdout",
     "output_type": "stream",
     "text": [
      "['here', 'are', 'two', 'reasons', 'companies', 'fail', 'they', 'only', 'do', 'more', 'of', 'the', 'same', 'or', 'they', 'only', 'do', 'what', 's', 'new']\n",
      "['to', 'me', 'the', 'real', 'real', 'solution', 'to', 'quality', 'growth', 'is', 'figuring', 'out', 'the', 'balance', 'between', 'two', 'activities', 'exploration', 'and', 'exploitation']\n"
     ]
    }
   ],
   "source": [
    "print(sentences_ted[0])\n",
    "print(sentences_ted[1])"
   ]
  },
  {
   "cell_type": "markdown",
   "metadata": {},
   "source": [
    "### Part 2: Word Frequencies"
   ]
  },
  {
   "cell_type": "markdown",
   "metadata": {},
   "source": [
    "If you store the counts of the top 1000 words in a list called `counts_ted_top1000`, the code below will plot the histogram requested in the writeup."
   ]
  },
  {
   "cell_type": "code",
   "execution_count": 13,
   "metadata": {
    "collapsed": false
   },
   "outputs": [],
   "source": [
    "#...\n",
    "from collections import Counter\n",
    "count = Counter()\n",
    "for sen in sentences_ted: \n",
    "    count.update(Counter(sen))\n",
    "counts_ted_top1000 = list(count.values())\n",
    "counts_ted_top1000.sort(reverse=True)\n",
    "counts_ted_top1000 = counts_ted_top1000[0:1000]\n",
    "#counts_ted_top1000"
   ]
  },
  {
   "cell_type": "markdown",
   "metadata": {},
   "source": [
    "Plot distribution of top-1000 words"
   ]
  },
  {
   "cell_type": "code",
   "execution_count": 14,
   "metadata": {
    "collapsed": false
   },
   "outputs": [
    {
     "data": {
      "text/html": [
       "\n",
       "\n",
       "    <div class=\"bk-root\">\n",
       "        <div class=\"bk-plotdiv\" id=\"4071372f-28f8-4541-b249-1277303fcf2f\"></div>\n",
       "    </div>\n",
       "<script type=\"text/javascript\">\n",
       "  \n",
       "  (function(global) {\n",
       "    function now() {\n",
       "      return new Date();\n",
       "    }\n",
       "  \n",
       "    var force = false;\n",
       "  \n",
       "    if (typeof (window._bokeh_onload_callbacks) === \"undefined\" || force === true) {\n",
       "      window._bokeh_onload_callbacks = [];\n",
       "      window._bokeh_is_loading = undefined;\n",
       "    }\n",
       "  \n",
       "  \n",
       "    \n",
       "    if (typeof (window._bokeh_timeout) === \"undefined\" || force === true) {\n",
       "      window._bokeh_timeout = Date.now() + 0;\n",
       "      window._bokeh_failed_load = false;\n",
       "    }\n",
       "  \n",
       "    var NB_LOAD_WARNING = {'data': {'text/html':\n",
       "       \"<div style='background-color: #fdd'>\\n\"+\n",
       "       \"<p>\\n\"+\n",
       "       \"BokehJS does not appear to have successfully loaded. If loading BokehJS from CDN, this \\n\"+\n",
       "       \"may be due to a slow or bad network connection. Possible fixes:\\n\"+\n",
       "       \"</p>\\n\"+\n",
       "       \"<ul>\\n\"+\n",
       "       \"<li>re-rerun `output_notebook()` to attempt to load from CDN again, or</li>\\n\"+\n",
       "       \"<li>use INLINE resources instead, as so:</li>\\n\"+\n",
       "       \"</ul>\\n\"+\n",
       "       \"<code>\\n\"+\n",
       "       \"from bokeh.resources import INLINE\\n\"+\n",
       "       \"output_notebook(resources=INLINE)\\n\"+\n",
       "       \"</code>\\n\"+\n",
       "       \"</div>\"}};\n",
       "  \n",
       "    function display_loaded() {\n",
       "      if (window.Bokeh !== undefined) {\n",
       "        document.getElementById(\"4071372f-28f8-4541-b249-1277303fcf2f\").textContent = \"BokehJS successfully loaded.\";\n",
       "      } else if (Date.now() < window._bokeh_timeout) {\n",
       "        setTimeout(display_loaded, 100)\n",
       "      }\n",
       "    }\n",
       "  \n",
       "    function run_callbacks() {\n",
       "      window._bokeh_onload_callbacks.forEach(function(callback) { callback() });\n",
       "      delete window._bokeh_onload_callbacks\n",
       "      console.info(\"Bokeh: all callbacks have finished\");\n",
       "    }\n",
       "  \n",
       "    function load_libs(js_urls, callback) {\n",
       "      window._bokeh_onload_callbacks.push(callback);\n",
       "      if (window._bokeh_is_loading > 0) {\n",
       "        console.log(\"Bokeh: BokehJS is being loaded, scheduling callback at\", now());\n",
       "        return null;\n",
       "      }\n",
       "      if (js_urls == null || js_urls.length === 0) {\n",
       "        run_callbacks();\n",
       "        return null;\n",
       "      }\n",
       "      console.log(\"Bokeh: BokehJS not loaded, scheduling load and callback at\", now());\n",
       "      window._bokeh_is_loading = js_urls.length;\n",
       "      for (var i = 0; i < js_urls.length; i++) {\n",
       "        var url = js_urls[i];\n",
       "        var s = document.createElement('script');\n",
       "        s.src = url;\n",
       "        s.async = false;\n",
       "        s.onreadystatechange = s.onload = function() {\n",
       "          window._bokeh_is_loading--;\n",
       "          if (window._bokeh_is_loading === 0) {\n",
       "            console.log(\"Bokeh: all BokehJS libraries loaded\");\n",
       "            run_callbacks()\n",
       "          }\n",
       "        };\n",
       "        s.onerror = function() {\n",
       "          console.warn(\"failed to load library \" + url);\n",
       "        };\n",
       "        console.log(\"Bokeh: injecting script tag for BokehJS library: \", url);\n",
       "        document.getElementsByTagName(\"head\")[0].appendChild(s);\n",
       "      }\n",
       "    };var element = document.getElementById(\"4071372f-28f8-4541-b249-1277303fcf2f\");\n",
       "    if (element == null) {\n",
       "      console.log(\"Bokeh: ERROR: autoload.js configured with elementid '4071372f-28f8-4541-b249-1277303fcf2f' but no matching script tag was found. \")\n",
       "      return false;\n",
       "    }\n",
       "  \n",
       "    var js_urls = [];\n",
       "  \n",
       "    var inline_js = [\n",
       "      function(Bokeh) {\n",
       "        (function() {\n",
       "          var fn = function() {\n",
       "            var docs_json = {\"dd6dd9a3-da81-4805-93b4-ce851601384f\":{\"roots\":{\"references\":[{\"attributes\":{},\"id\":\"b0e740d8-e0ad-43d3-9861-2db989092cb5\",\"type\":\"BasicTickFormatter\"},{\"attributes\":{\"bottom\":{\"value\":0},\"fill_alpha\":{\"value\":0.1},\"fill_color\":{\"value\":\"#1f77b4\"},\"left\":{\"field\":\"left\"},\"line_alpha\":{\"value\":0.1},\"line_color\":{\"value\":\"#1f77b4\"},\"right\":{\"field\":\"right\"},\"top\":{\"field\":\"top\"}},\"id\":\"018652dd-36b5-43a4-a168-8a430ff44be0\",\"type\":\"Quad\"},{\"attributes\":{\"below\":[{\"id\":\"507297a6-ed31-490a-a87a-dd7cc0c239ff\",\"type\":\"LinearAxis\"}],\"left\":[{\"id\":\"d4fd846b-a18e-4ccf-9b3f-13950a9fa157\",\"type\":\"LinearAxis\"}],\"renderers\":[{\"id\":\"507297a6-ed31-490a-a87a-dd7cc0c239ff\",\"type\":\"LinearAxis\"},{\"id\":\"dce361c1-293f-44c4-9019-9d58aec78d4c\",\"type\":\"Grid\"},{\"id\":\"d4fd846b-a18e-4ccf-9b3f-13950a9fa157\",\"type\":\"LinearAxis\"},{\"id\":\"698c0477-3a71-41d1-ab43-d0a810c276d7\",\"type\":\"Grid\"},{\"id\":\"e576fdce-7152-4a95-a448-e5d97dcc631a\",\"type\":\"GlyphRenderer\"}],\"title\":{\"id\":\"b0434c9a-21e0-4ec1-89f5-75c29adcea8c\",\"type\":\"Title\"},\"tool_events\":{\"id\":\"840b27e7-4bdc-43e7-a97d-2d4912e8f519\",\"type\":\"ToolEvents\"},\"toolbar\":{\"id\":\"d7106a4a-c376-449e-aff5-953b9bc8f58c\",\"type\":\"Toolbar\"},\"toolbar_location\":\"above\",\"x_range\":{\"id\":\"7fa0f09e-0913-4b1e-bb35-560d5e1615fe\",\"type\":\"DataRange1d\"},\"y_range\":{\"id\":\"dc1efe3f-fdc2-4590-be59-d8f7e8913b05\",\"type\":\"DataRange1d\"}},\"id\":\"e8ed7572-08f2-47a5-b590-97c914134245\",\"subtype\":\"Figure\",\"type\":\"Plot\"},{\"attributes\":{\"callback\":null,\"column_names\":[\"left\",\"right\",\"top\"],\"data\":{\"left\":{\"__ndarray__\":\"AAAAAABAeUB7FK5H4VqjQHsUrkfhxrFAuB6F61HguUB7FK5H4fzAQJqZmZmZCcVAuB6F61EWyUDXo3A9CiPNQHsUrkfhl9BACtejcD2e0kCamZmZmaTUQClcj8L1qtZAuB6F61Gx2EBI4XoUrrfaQNejcD0KvtxAZ2ZmZmbE3kB7FK5HYWXgQMP1KFyPaOFACtejcL1r4kBSuB6F627jQJqZmZkZcuRA4XoUrkd15UApXI/CdXjmQHE9Cteje+dAuB6F69F+6EAAAAAAAILpQEjhehQuhepAkML1KFyI60DXo3A9iovsQB+F61G4ju1AZ2ZmZuaR7kCuR+F6FJXvQHsUrkchTPBAH4XrUbjN8EDD9ShcT0/xQGdmZmbm0PFACtejcH1S8kCuR+F6FNTyQFK4HoWrVfNA9ihcj0LX80CamZmZ2Vj0QD4K16Nw2vRA4XoUrgdc9UCF61G4nt31QClcj8I1X/ZAzczMzMzg9kBxPQrXY2L3QBWuR+H64/dAuB6F65Fl+EBcj8L1KOf4QAAAAADAaPlApHA9Clfq+UBI4XoU7mv6QOxRuB6F7fpAkML1KBxv+0AzMzMzs/D7QNejcD1KcvxAexSuR+Hz/EAfhetReHX9QMP1KFwP9/1AZ2ZmZqZ4/kAK16NwPfr+QK5H4XrUe/9AUrgehWv9/0B7FK5HgT8AQc3MzMxMgABBH4XrURjBAEFxPQrX4wEBQcP1KFyvQgFBFa5H4XqDAUFnZmZmRsQBQbgehesRBQJBCtejcN1FAkFcj8L1qIYCQa5H4Xp0xwJBAAAAAEAIA0FSuB6FC0kDQaRwPQrXiQNB9ihcj6LKA0FI4XoUbgsEQZqZmZk5TARB7FG4HgWNBEE+Ctej0M0EQZDC9SicDgVB4XoUrmdPBUEzMzMzM5AFQYXrUbj+0AVB16NwPcoRBkEpXI/ClVIGQXsUrkdhkwZBzczMzCzUBkEfhetR+BQHQXE9CtfDVQdBw/UoXI+WB0EVrkfhWtcHQWdmZmYmGAhBuB6F6/FYCEEK16NwvZkIQVyPwvWI2ghBrkfhelQbCUE=\",\"dtype\":\"float64\",\"shape\":[100]},\"right\":{\"__ndarray__\":\"exSuR+Fao0B7FK5H4caxQLgehetR4LlAexSuR+H8wECamZmZmQnFQLgehetRFslA16NwPQojzUB7FK5H4ZfQQArXo3A9ntJAmpmZmZmk1EApXI/C9arWQLgehetRsdhASOF6FK632kDXo3A9Cr7cQGdmZmZmxN5AexSuR2Fl4EDD9Shcj2jhQArXo3C9a+JAUrgehetu40CamZmZGXLkQOF6FK5HdeVAKVyPwnV45kBxPQrXo3vnQLgehevRfuhAAAAAAACC6UBI4XoULoXqQJDC9ShciOtA16NwPYqL7EAfhetRuI7tQGdmZmbmke5ArkfhehSV70B7FK5HIUzwQB+F61G4zfBAw/UoXE9P8UBnZmZm5tDxQArXo3B9UvJArkfhehTU8kBSuB6Fq1XzQPYoXI9C1/NAmpmZmdlY9EA+CtejcNr0QOF6FK4HXPVAhetRuJ7d9UApXI/CNV/2QM3MzMzM4PZAcT0K12Ni90AVrkfh+uP3QLgeheuRZfhAXI/C9Sjn+EAAAAAAwGj5QKRwPQpX6vlASOF6FO5r+kDsUbgehe36QJDC9Sgcb/tAMzMzM7Pw+0DXo3A9SnL8QHsUrkfh8/xAH4XrUXh1/UDD9ShcD/f9QGdmZmameP5ACtejcD36/kCuR+F61Hv/QFK4HoVr/f9AexSuR4E/AEHNzMzMTIAAQR+F61EYwQBBcT0K1+MBAUHD9Shcr0IBQRWuR+F6gwFBZ2ZmZkbEAUG4HoXrEQUCQQrXo3DdRQJBXI/C9aiGAkGuR+F6dMcCQQAAAABACANBUrgehQtJA0GkcD0K14kDQfYoXI+iygNBSOF6FG4LBEGamZmZOUwEQexRuB4FjQRBPgrXo9DNBEGQwvUonA4FQeF6FK5nTwVBMzMzMzOQBUGF61G4/tAFQdejcD3KEQZBKVyPwpVSBkF7FK5HYZMGQc3MzMws1AZBH4XrUfgUB0FxPQrXw1UHQcP1KFyPlgdBFa5H4VrXB0FnZmZmJhgIQbgehevxWAhBCtejcL2ZCEFcj8L1iNoIQa5H4XpUGwlBAAAAACBcCUE=\",\"dtype\":\"float64\",\"shape\":[100]},\"top\":{\"__ndarray__\":\"50H1zNSBOT/ypb1tgHIBPwsriUb5Uew+zuTFiLI04j78kGUPxTHhPh40R25oQNY+zuTFiLI00j4pPQWW1y7APsTbB2FDRsg+JT0FltcuwD4tPQWW1y6wPi09BZbXLrA+JT0FltcuwD4tPQWW1y6gPiU9BZbXLrA+LT0FltcuoD4AAAAAAAAAADU9BZbXLqA+AAAAAAAAAAAAAAAAAAAAAAAAAAAAAAAAAAAAAAAAAAAAAAAAAAAAADU9BZbXLqA+AAAAAAAAAAAAAAAAAAAAAAAAAAAAAAAANT0FltcuoD4AAAAAAAAAAAAAAAAAAAAANT0FltcuoD4AAAAAAAAAACU9BZbXLqA+AAAAAAAAAAAlPQWW1y6gPkU9BZbXLqA+AAAAAAAAAAAlPQWW1y6gPgAAAAAAAAAAJT0FltcuoD4AAAAAAAAAAAAAAAAAAAAAAAAAAAAAAAAAAAAAAAAAAAAAAAAAAAAAJT0FltcuoD4AAAAAAAAAAAAAAAAAAAAAAAAAAAAAAAAAAAAAAAAAACU9BZbXLqA+AAAAAAAAAAAAAAAAAAAAAAAAAAAAAAAAAAAAAAAAAAAlPQWW1y6gPgAAAAAAAAAAAAAAAAAAAAAAAAAAAAAAAAAAAAAAAAAART0FltcuoD4AAAAAAAAAAAAAAAAAAAAAAAAAAAAAAAAAAAAAAAAAAAAAAAAAAAAAAAAAAAAAAAAAAAAAAAAAAAAAAAAAAAAAAAAAAAAAAAAAAAAAAAAAACU9BZbXLqA+AAAAAAAAAAAAAAAAAAAAAAAAAAAAAAAAAAAAAAAAAAAAAAAAAAAAAAAAAAAAAAAAAAAAAAAAAAAAAAAAAAAAAAAAAAAAAAAAAAAAAAAAAAAAAAAAAAAAAAAAAAAAAAAAAAAAAAAAAAAAAAAAAAAAAAAAAAAAAAAAAAAAAAAAAAAAAAAAAAAAAAAAAAAAAAAAAAAAAAAAAAAAAAAAAAAAAAAAAAAAAAAAAAAAAAAAAAAAAAAAAAAAAAAAAAAAAAAAAAAAAAAAAAAAAAAAAAAAAAAAAAAAAAAAJT0FltcuoD4=\",\"dtype\":\"float64\",\"shape\":[100]}}},\"id\":\"db32ad89-0a27-4fa0-bc86-93f9be8af782\",\"type\":\"ColumnDataSource\"},{\"attributes\":{\"plot\":null,\"text\":\"Top-1000 words distribution\"},\"id\":\"b0434c9a-21e0-4ec1-89f5-75c29adcea8c\",\"type\":\"Title\"},{\"attributes\":{\"callback\":null},\"id\":\"7fa0f09e-0913-4b1e-bb35-560d5e1615fe\",\"type\":\"DataRange1d\"},{\"attributes\":{},\"id\":\"840b27e7-4bdc-43e7-a97d-2d4912e8f519\",\"type\":\"ToolEvents\"},{\"attributes\":{\"active_drag\":\"auto\",\"active_scroll\":\"auto\",\"active_tap\":\"auto\",\"tools\":[{\"id\":\"6fddb7ac-47fa-4fa2-84bc-ffc36359517c\",\"type\":\"PanTool\"},{\"id\":\"f0b94e90-9b50-4de4-845b-7e027b8ff3d0\",\"type\":\"WheelZoomTool\"},{\"id\":\"ad9fd7c9-655c-4524-b901-fff6242da15a\",\"type\":\"ResetTool\"},{\"id\":\"3ab55c24-1d3a-48bd-a7d9-4206aa6b38e9\",\"type\":\"SaveTool\"}]},\"id\":\"d7106a4a-c376-449e-aff5-953b9bc8f58c\",\"type\":\"Toolbar\"},{\"attributes\":{\"formatter\":{\"id\":\"b0e740d8-e0ad-43d3-9861-2db989092cb5\",\"type\":\"BasicTickFormatter\"},\"plot\":{\"id\":\"e8ed7572-08f2-47a5-b590-97c914134245\",\"subtype\":\"Figure\",\"type\":\"Plot\"},\"ticker\":{\"id\":\"f561bcbb-8d68-49e8-9744-f8d011d912cb\",\"type\":\"BasicTicker\"}},\"id\":\"507297a6-ed31-490a-a87a-dd7cc0c239ff\",\"type\":\"LinearAxis\"},{\"attributes\":{\"callback\":null},\"id\":\"dc1efe3f-fdc2-4590-be59-d8f7e8913b05\",\"type\":\"DataRange1d\"},{\"attributes\":{\"bottom\":{\"value\":0},\"fill_color\":{\"value\":\"#1f77b4\"},\"left\":{\"field\":\"left\"},\"line_color\":{\"value\":\"#555555\"},\"right\":{\"field\":\"right\"},\"top\":{\"field\":\"top\"}},\"id\":\"c51b137c-99e8-4f23-acc3-7953d434b74a\",\"type\":\"Quad\"},{\"attributes\":{},\"id\":\"f561bcbb-8d68-49e8-9744-f8d011d912cb\",\"type\":\"BasicTicker\"},{\"attributes\":{\"plot\":{\"id\":\"e8ed7572-08f2-47a5-b590-97c914134245\",\"subtype\":\"Figure\",\"type\":\"Plot\"},\"ticker\":{\"id\":\"f561bcbb-8d68-49e8-9744-f8d011d912cb\",\"type\":\"BasicTicker\"}},\"id\":\"dce361c1-293f-44c4-9019-9d58aec78d4c\",\"type\":\"Grid\"},{\"attributes\":{\"formatter\":{\"id\":\"d8221fa8-035a-4681-b4ad-efb3f10d563c\",\"type\":\"BasicTickFormatter\"},\"plot\":{\"id\":\"e8ed7572-08f2-47a5-b590-97c914134245\",\"subtype\":\"Figure\",\"type\":\"Plot\"},\"ticker\":{\"id\":\"7a1298ba-59ee-48c5-b884-3fb779872812\",\"type\":\"BasicTicker\"}},\"id\":\"d4fd846b-a18e-4ccf-9b3f-13950a9fa157\",\"type\":\"LinearAxis\"},{\"attributes\":{},\"id\":\"7a1298ba-59ee-48c5-b884-3fb779872812\",\"type\":\"BasicTicker\"},{\"attributes\":{\"dimension\":1,\"plot\":{\"id\":\"e8ed7572-08f2-47a5-b590-97c914134245\",\"subtype\":\"Figure\",\"type\":\"Plot\"},\"ticker\":{\"id\":\"7a1298ba-59ee-48c5-b884-3fb779872812\",\"type\":\"BasicTicker\"}},\"id\":\"698c0477-3a71-41d1-ab43-d0a810c276d7\",\"type\":\"Grid\"},{\"attributes\":{},\"id\":\"d8221fa8-035a-4681-b4ad-efb3f10d563c\",\"type\":\"BasicTickFormatter\"},{\"attributes\":{\"plot\":{\"id\":\"e8ed7572-08f2-47a5-b590-97c914134245\",\"subtype\":\"Figure\",\"type\":\"Plot\"}},\"id\":\"6fddb7ac-47fa-4fa2-84bc-ffc36359517c\",\"type\":\"PanTool\"},{\"attributes\":{\"plot\":{\"id\":\"e8ed7572-08f2-47a5-b590-97c914134245\",\"subtype\":\"Figure\",\"type\":\"Plot\"}},\"id\":\"f0b94e90-9b50-4de4-845b-7e027b8ff3d0\",\"type\":\"WheelZoomTool\"},{\"attributes\":{\"plot\":{\"id\":\"e8ed7572-08f2-47a5-b590-97c914134245\",\"subtype\":\"Figure\",\"type\":\"Plot\"}},\"id\":\"ad9fd7c9-655c-4524-b901-fff6242da15a\",\"type\":\"ResetTool\"},{\"attributes\":{\"plot\":{\"id\":\"e8ed7572-08f2-47a5-b590-97c914134245\",\"subtype\":\"Figure\",\"type\":\"Plot\"}},\"id\":\"3ab55c24-1d3a-48bd-a7d9-4206aa6b38e9\",\"type\":\"SaveTool\"},{\"attributes\":{\"data_source\":{\"id\":\"db32ad89-0a27-4fa0-bc86-93f9be8af782\",\"type\":\"ColumnDataSource\"},\"glyph\":{\"id\":\"c51b137c-99e8-4f23-acc3-7953d434b74a\",\"type\":\"Quad\"},\"hover_glyph\":null,\"nonselection_glyph\":{\"id\":\"018652dd-36b5-43a4-a168-8a430ff44be0\",\"type\":\"Quad\"},\"selection_glyph\":null},\"id\":\"e576fdce-7152-4a95-a448-e5d97dcc631a\",\"type\":\"GlyphRenderer\"}],\"root_ids\":[\"e8ed7572-08f2-47a5-b590-97c914134245\"]},\"title\":\"Bokeh Application\",\"version\":\"0.12.4\"}};\n",
       "            var render_items = [{\"docid\":\"dd6dd9a3-da81-4805-93b4-ce851601384f\",\"elementid\":\"4071372f-28f8-4541-b249-1277303fcf2f\",\"modelid\":\"e8ed7572-08f2-47a5-b590-97c914134245\"}];\n",
       "            \n",
       "            Bokeh.embed.embed_items(docs_json, render_items);\n",
       "          };\n",
       "          if (document.readyState != \"loading\") fn();\n",
       "          else document.addEventListener(\"DOMContentLoaded\", fn);\n",
       "        })();\n",
       "      },\n",
       "      function(Bokeh) {\n",
       "      }\n",
       "    ];\n",
       "  \n",
       "    function run_inline_js() {\n",
       "      \n",
       "      if ((window.Bokeh !== undefined) || (force === true)) {\n",
       "        for (var i = 0; i < inline_js.length; i++) {\n",
       "          inline_js[i](window.Bokeh);\n",
       "        }if (force === true) {\n",
       "          display_loaded();\n",
       "        }} else if (Date.now() < window._bokeh_timeout) {\n",
       "        setTimeout(run_inline_js, 100);\n",
       "      } else if (!window._bokeh_failed_load) {\n",
       "        console.log(\"Bokeh: BokehJS failed to load within specified timeout.\");\n",
       "        window._bokeh_failed_load = true;\n",
       "      } else if (force !== true) {\n",
       "        var cell = $(document.getElementById(\"4071372f-28f8-4541-b249-1277303fcf2f\")).parents('.cell').data().cell;\n",
       "        cell.output_area.append_execute_result(NB_LOAD_WARNING)\n",
       "      }\n",
       "  \n",
       "    }\n",
       "  \n",
       "    if (window._bokeh_is_loading === 0) {\n",
       "      console.log(\"Bokeh: BokehJS loaded, going straight to plotting\");\n",
       "      run_inline_js();\n",
       "    } else {\n",
       "      load_libs(js_urls, function() {\n",
       "        console.log(\"Bokeh: BokehJS plotting callback run at\", now());\n",
       "        run_inline_js();\n",
       "      });\n",
       "    }\n",
       "  }(this));\n",
       "</script>"
      ]
     },
     "metadata": {},
     "output_type": "display_data"
    }
   ],
   "source": [
    "hist, edges = np.histogram(counts_ted_top1000, density=True, bins=100, normed=True)\n",
    "\n",
    "p = figure(tools=\"pan,wheel_zoom,reset,save\",\n",
    "           toolbar_location=\"above\",\n",
    "           title=\"Top-1000 words distribution\")\n",
    "p.quad(top=hist, bottom=0, left=edges[:-1], right=edges[1:], line_color=\"#555555\")\n",
    "show(p)"
   ]
  },
  {
   "cell_type": "markdown",
   "metadata": {},
   "source": [
    "### Part 3: Train Word2Vec"
   ]
  },
  {
   "cell_type": "code",
   "execution_count": 15,
   "metadata": {
    "collapsed": false
   },
   "outputs": [
    {
     "name": "stderr",
     "output_type": "stream",
     "text": [
      "C:\\Users\\Zero\\Anaconda3\\lib\\site-packages\\gensim\\utils.py:855: UserWarning: detected Windows; aliasing chunkize to chunkize_serial\n",
      "  warnings.warn(\"detected Windows; aliasing chunkize to chunkize_serial\")\n"
     ]
    }
   ],
   "source": [
    "from gensim.models import Word2Vec"
   ]
  },
  {
   "cell_type": "code",
   "execution_count": 16,
   "metadata": {
    "collapsed": false
   },
   "outputs": [],
   "source": [
    "# ...\n",
    "model_ted = Word2Vec(sentences_ted)"
   ]
  },
  {
   "cell_type": "code",
   "execution_count": 17,
   "metadata": {
    "collapsed": true
   },
   "outputs": [],
   "source": [
    "#...\n",
    "model_ted.save(\"ted_model\")"
   ]
  },
  {
   "cell_type": "markdown",
   "metadata": {},
   "source": [
    "### Part 4: Ted Learnt Representations"
   ]
  },
  {
   "cell_type": "markdown",
   "metadata": {},
   "source": [
    "Finding similar words: (see gensim docs for more functionality of `most_similar`)"
   ]
  },
  {
   "cell_type": "code",
   "execution_count": 18,
   "metadata": {
    "collapsed": false
   },
   "outputs": [
    {
     "data": {
      "text/plain": [
       "[('woman', 0.8565927743911743),\n",
       " ('guy', 0.804593026638031),\n",
       " ('lady', 0.7847238779067993),\n",
       " ('soldier', 0.7786100506782532),\n",
       " ('boy', 0.7775810360908508),\n",
       " ('girl', 0.7700307369232178),\n",
       " ('gentleman', 0.7296218276023865),\n",
       " ('kid', 0.7018178701400757),\n",
       " ('poet', 0.6871657967567444),\n",
       " ('david', 0.6780068874359131)]"
      ]
     },
     "execution_count": 18,
     "metadata": {},
     "output_type": "execute_result"
    }
   ],
   "source": [
    "model_ted.most_similar(\"man\")"
   ]
  },
  {
   "cell_type": "code",
   "execution_count": 19,
   "metadata": {
    "collapsed": false
   },
   "outputs": [
    {
     "data": {
      "text/plain": [
       "[('software', 0.7348511219024658),\n",
       " ('robot', 0.7098621129989624),\n",
       " ('machine', 0.7012984752655029),\n",
       " ('device', 0.690358579158783),\n",
       " ('3d', 0.6808463931083679),\n",
       " ('chip', 0.6804128885269165),\n",
       " ('video', 0.6625047922134399),\n",
       " ('interface', 0.6470680832862854),\n",
       " ('camera', 0.6469748616218567),\n",
       " ('printer', 0.6310129165649414)]"
      ]
     },
     "execution_count": 19,
     "metadata": {},
     "output_type": "execute_result"
    }
   ],
   "source": [
    "model_ted.most_similar(\"computer\")"
   ]
  },
  {
   "cell_type": "code",
   "execution_count": 20,
   "metadata": {
    "collapsed": false
   },
   "outputs": [],
   "source": [
    "# ...\n",
    "#words_top_ted = sorted(count.values(), reverse=True)\n",
    "words_top_ted = sorted(count, key=count.get, reverse = True)\n",
    "words_top_ted = words_top_ted[0:1000]"
   ]
  },
  {
   "cell_type": "markdown",
   "metadata": {},
   "source": [
    "#### t-SNE visualization\n",
    "To use the t-SNE code below, first put a list of the top 1000 words (as strings) into a variable `words_top_ted`. The following code gets the corresponding vectors from the model, assuming it's called `model_ted`:"
   ]
  },
  {
   "cell_type": "code",
   "execution_count": 21,
   "metadata": {
    "collapsed": false
   },
   "outputs": [],
   "source": [
    "# This assumes words_top_ted is a list of strings, the top 1000 words\n",
    "words_top_vec_ted = model_ted[words_top_ted]"
   ]
  },
  {
   "cell_type": "code",
   "execution_count": 22,
   "metadata": {
    "collapsed": false
   },
   "outputs": [],
   "source": [
    "from sklearn.manifold import TSNE\n",
    "tsne = TSNE(n_components=2, random_state=0)\n",
    "words_top_ted_tsne = tsne.fit_transform(words_top_vec_ted)"
   ]
  },
  {
   "cell_type": "code",
   "execution_count": 23,
   "metadata": {
    "collapsed": false
   },
   "outputs": [
    {
     "data": {
      "text/html": [
       "\n",
       "\n",
       "    <div class=\"bk-root\">\n",
       "        <div class=\"bk-plotdiv\" id=\"d55c543e-23f2-471d-8d86-5cfd678f205d\"></div>\n",
       "    </div>\n",
       "<script type=\"text/javascript\">\n",
       "  \n",
       "  (function(global) {\n",
       "    function now() {\n",
       "      return new Date();\n",
       "    }\n",
       "  \n",
       "    var force = false;\n",
       "  \n",
       "    if (typeof (window._bokeh_onload_callbacks) === \"undefined\" || force === true) {\n",
       "      window._bokeh_onload_callbacks = [];\n",
       "      window._bokeh_is_loading = undefined;\n",
       "    }\n",
       "  \n",
       "  \n",
       "    \n",
       "    if (typeof (window._bokeh_timeout) === \"undefined\" || force === true) {\n",
       "      window._bokeh_timeout = Date.now() + 0;\n",
       "      window._bokeh_failed_load = false;\n",
       "    }\n",
       "  \n",
       "    var NB_LOAD_WARNING = {'data': {'text/html':\n",
       "       \"<div style='background-color: #fdd'>\\n\"+\n",
       "       \"<p>\\n\"+\n",
       "       \"BokehJS does not appear to have successfully loaded. If loading BokehJS from CDN, this \\n\"+\n",
       "       \"may be due to a slow or bad network connection. Possible fixes:\\n\"+\n",
       "       \"</p>\\n\"+\n",
       "       \"<ul>\\n\"+\n",
       "       \"<li>re-rerun `output_notebook()` to attempt to load from CDN again, or</li>\\n\"+\n",
       "       \"<li>use INLINE resources instead, as so:</li>\\n\"+\n",
       "       \"</ul>\\n\"+\n",
       "       \"<code>\\n\"+\n",
       "       \"from bokeh.resources import INLINE\\n\"+\n",
       "       \"output_notebook(resources=INLINE)\\n\"+\n",
       "       \"</code>\\n\"+\n",
       "       \"</div>\"}};\n",
       "  \n",
       "    function display_loaded() {\n",
       "      if (window.Bokeh !== undefined) {\n",
       "        document.getElementById(\"d55c543e-23f2-471d-8d86-5cfd678f205d\").textContent = \"BokehJS successfully loaded.\";\n",
       "      } else if (Date.now() < window._bokeh_timeout) {\n",
       "        setTimeout(display_loaded, 100)\n",
       "      }\n",
       "    }\n",
       "  \n",
       "    function run_callbacks() {\n",
       "      window._bokeh_onload_callbacks.forEach(function(callback) { callback() });\n",
       "      delete window._bokeh_onload_callbacks\n",
       "      console.info(\"Bokeh: all callbacks have finished\");\n",
       "    }\n",
       "  \n",
       "    function load_libs(js_urls, callback) {\n",
       "      window._bokeh_onload_callbacks.push(callback);\n",
       "      if (window._bokeh_is_loading > 0) {\n",
       "        console.log(\"Bokeh: BokehJS is being loaded, scheduling callback at\", now());\n",
       "        return null;\n",
       "      }\n",
       "      if (js_urls == null || js_urls.length === 0) {\n",
       "        run_callbacks();\n",
       "        return null;\n",
       "      }\n",
       "      console.log(\"Bokeh: BokehJS not loaded, scheduling load and callback at\", now());\n",
       "      window._bokeh_is_loading = js_urls.length;\n",
       "      for (var i = 0; i < js_urls.length; i++) {\n",
       "        var url = js_urls[i];\n",
       "        var s = document.createElement('script');\n",
       "        s.src = url;\n",
       "        s.async = false;\n",
       "        s.onreadystatechange = s.onload = function() {\n",
       "          window._bokeh_is_loading--;\n",
       "          if (window._bokeh_is_loading === 0) {\n",
       "            console.log(\"Bokeh: all BokehJS libraries loaded\");\n",
       "            run_callbacks()\n",
       "          }\n",
       "        };\n",
       "        s.onerror = function() {\n",
       "          console.warn(\"failed to load library \" + url);\n",
       "        };\n",
       "        console.log(\"Bokeh: injecting script tag for BokehJS library: \", url);\n",
       "        document.getElementsByTagName(\"head\")[0].appendChild(s);\n",
       "      }\n",
       "    };var element = document.getElementById(\"d55c543e-23f2-471d-8d86-5cfd678f205d\");\n",
       "    if (element == null) {\n",
       "      console.log(\"Bokeh: ERROR: autoload.js configured with elementid 'd55c543e-23f2-471d-8d86-5cfd678f205d' but no matching script tag was found. \")\n",
       "      return false;\n",
       "    }\n",
       "  \n",
       "    var js_urls = [];\n",
       "  \n",
       "    var inline_js = [\n",
       "      function(Bokeh) {\n",
       "        (function() {\n",
       "          var fn = function() {\n",
       "            var docs_json = {\"69ec81c0-563c-4894-88f0-6cc0590406f2\":{\"roots\":{\"references\":[{\"attributes\":{\"plot\":{\"id\":\"b895dbb2-a4fa-4c15-9584-58bf19a17adc\",\"subtype\":\"Figure\",\"type\":\"Plot\"},\"source\":{\"id\":\"940388f1-a607-4cb0-bbf2-c5fd5b211cbc\",\"type\":\"ColumnDataSource\"},\"text\":{\"field\":\"names\"},\"text_align\":\"center\",\"text_color\":{\"value\":\"#555555\"},\"text_font_size\":{\"value\":\"8pt\"},\"x\":{\"field\":\"x1\"},\"y\":{\"field\":\"x2\"},\"y_offset\":{\"value\":6}},\"id\":\"fc6b1084-40d7-4352-9c2f-7106ae1f59f0\",\"type\":\"LabelSet\"},{\"attributes\":{\"below\":[{\"id\":\"fc65734e-a1fa-40e6-9525-7a8f3710b7f2\",\"type\":\"LinearAxis\"}],\"left\":[{\"id\":\"0c34b2f0-ca02-4568-92a2-e094da9e4fa7\",\"type\":\"LinearAxis\"}],\"renderers\":[{\"id\":\"fc65734e-a1fa-40e6-9525-7a8f3710b7f2\",\"type\":\"LinearAxis\"},{\"id\":\"b6b54cf8-fd34-493e-ab3c-f131e34e3100\",\"type\":\"Grid\"},{\"id\":\"0c34b2f0-ca02-4568-92a2-e094da9e4fa7\",\"type\":\"LinearAxis\"},{\"id\":\"5deb157c-45ed-44f3-ba53-2ef5f295376b\",\"type\":\"Grid\"},{\"id\":\"22b791e2-58a3-4334-a999-66fd95486666\",\"type\":\"GlyphRenderer\"},{\"id\":\"fc6b1084-40d7-4352-9c2f-7106ae1f59f0\",\"type\":\"LabelSet\"}],\"title\":{\"id\":\"d4761981-9a19-4557-81f7-f948d6723203\",\"type\":\"Title\"},\"tool_events\":{\"id\":\"b764d11f-f12b-44ee-a210-c210140e26e2\",\"type\":\"ToolEvents\"},\"toolbar\":{\"id\":\"b91e026c-fd2c-47be-9db6-1b1551b76e38\",\"type\":\"Toolbar\"},\"toolbar_location\":\"above\",\"x_range\":{\"id\":\"c747b33e-ee97-4021-9433-5d276695bcd8\",\"type\":\"DataRange1d\"},\"y_range\":{\"id\":\"aff630ad-2186-444b-b0e7-f24bbc6ca9dc\",\"type\":\"DataRange1d\"}},\"id\":\"b895dbb2-a4fa-4c15-9584-58bf19a17adc\",\"subtype\":\"Figure\",\"type\":\"Plot\"},{\"attributes\":{\"formatter\":{\"id\":\"cb77dae8-c592-4416-94d3-b9494ef94b5a\",\"type\":\"BasicTickFormatter\"},\"plot\":{\"id\":\"b895dbb2-a4fa-4c15-9584-58bf19a17adc\",\"subtype\":\"Figure\",\"type\":\"Plot\"},\"ticker\":{\"id\":\"3d2d32a6-8e4a-4db9-8d80-5371ea9f2991\",\"type\":\"BasicTicker\"}},\"id\":\"0c34b2f0-ca02-4568-92a2-e094da9e4fa7\",\"type\":\"LinearAxis\"},{\"attributes\":{\"callback\":null,\"column_names\":[\"x1\",\"x2\",\"names\"],\"data\":{\"names\":[\"the\",\"and\",\"to\",\"of\",\"a\",\"that\",\"i\",\"in\",\"it\",\"you\",\"we\",\"is\",\"s\",\"this\",\"so\",\"they\",\"was\",\"for\",\"are\",\"have\",\"but\",\"what\",\"on\",\"with\",\"can\",\"t\",\"about\",\"there\",\"be\",\"as\",\"at\",\"all\",\"not\",\"do\",\"my\",\"one\",\"re\",\"people\",\"like\",\"if\",\"from\",\"now\",\"our\",\"he\",\"an\",\"just\",\"these\",\"or\",\"when\",\"because\",\"very\",\"me\",\"out\",\"by\",\"them\",\"how\",\"know\",\"up\",\"going\",\"had\",\"more\",\"think\",\"who\",\"were\",\"see\",\"your\",\"their\",\"which\",\"would\",\"here\",\"really\",\"get\",\"ve\",\"then\",\"m\",\"world\",\"us\",\"time\",\"some\",\"has\",\"don\",\"actually\",\"into\",\"way\",\"where\",\"will\",\"years\",\"things\",\"other\",\"no\",\"could\",\"go\",\"well\",\"want\",\"been\",\"make\",\"right\",\"she\",\"said\",\"something\",\"those\",\"first\",\"two\",\"than\",\"much\",\"also\",\"look\",\"new\",\"thing\",\"little\",\"got\",\"back\",\"over\",\"most\",\"say\",\"even\",\"his\",\"life\",\"only\",\"work\",\"many\",\"take\",\"need\",\"did\",\"lot\",\"kind\",\"why\",\"good\",\"around\",\"every\",\"different\",\"down\",\"ll\",\"let\",\"her\",\"through\",\"same\",\"being\",\"come\",\"d\",\"day\",\"year\",\"three\",\"use\",\"doing\",\"put\",\"called\",\"any\",\"today\",\"percent\",\"made\",\"after\",\"thank\",\"tell\",\"great\",\"human\",\"find\",\"didn\",\"fact\",\"talk\",\"change\",\"started\",\"another\",\"idea\",\"big\",\"last\",\"own\",\"before\",\"its\",\"never\",\"should\",\"better\",\"give\",\"thought\",\"went\",\"might\",\"important\",\"000\",\"again\",\"able\",\"together\",\"still\",\"problem\",\"off\",\"next\",\"part\",\"course\",\"system\",\"him\",\"does\",\"each\",\"start\",\"show\",\"long\",\"ago\",\"story\",\"came\",\"brain\",\"few\",\"bit\",\"between\",\"used\",\"place\",\"technology\",\"women\",\"too\",\"old\",\"mean\",\"data\",\"water\",\"looking\",\"question\",\"maybe\",\"found\",\"love\",\"doesn\",\"end\",\"example\",\"10\",\"done\",\"point\",\"four\",\"real\",\"wanted\",\"ever\",\"school\",\"understand\",\"sort\",\"live\",\"call\",\"whole\",\"children\",\"always\",\"trying\",\"may\",\"person\",\"away\",\"believe\",\"feel\",\"try\",\"million\",\"working\",\"help\",\"everything\",\"five\",\"country\",\"thinking\",\"second\",\"using\",\"information\",\"money\",\"means\",\"power\",\"took\",\"times\",\"high\",\"space\",\"number\",\"kids\",\"home\",\"become\",\"create\",\"small\",\"design\",\"making\",\"best\",\"left\",\"getting\",\"future\",\"enough\",\"man\",\"quite\",\"city\",\"without\",\"sense\",\"happened\",\"comes\",\"social\",\"probably\",\"less\",\"light\",\"talking\",\"energy\",\"am\",\"building\",\"science\",\"food\",\"body\",\"told\",\"interesting\",\"ask\",\"half\",\"pretty\",\"hard\",\"play\",\"anything\",\"lives\",\"countries\",\"coming\",\"such\",\"family\",\"stuff\",\"dollars\",\"earth\",\"moment\",\"20\",\"imagine\",\"across\",\"side\",\"while\",\"saw\",\"happen\",\"once\",\"okay\",\"build\",\"having\",\"men\",\"later\",\"experience\",\"makes\",\"asked\",\"living\",\"seen\",\"says\",\"room\",\"hand\",\"simple\",\"health\",\"ways\",\"else\",\"case\",\"yet\",\"almost\",\"young\",\"days\",\"nothing\",\"care\",\"bad\",\"happens\",\"goes\",\"move\",\"states\",\"reason\",\"computer\",\"open\",\"learn\",\"africa\",\"process\",\"inside\",\"someone\",\"six\",\"far\",\"mind\",\"project\",\"remember\",\"single\",\"picture\",\"both\",\"whether\",\"problems\",\"saying\",\"community\",\"basically\",\"already\",\"within\",\"looked\",\"myself\",\"billion\",\"often\",\"possible\",\"business\",\"planet\",\"global\",\"everybody\",\"top\",\"sure\",\"public\",\"set\",\"wrong\",\"car\",\"book\",\"keep\",\"yes\",\"answer\",\"oh\",\"hope\",\"sometimes\",\"true\",\"history\",\"war\",\"guy\",\"child\",\"instead\",\"months\",\"ideas\",\"looks\",\"matter\",\"government\",\"amazing\",\"united\",\"since\",\"bring\",\"age\",\"cells\",\"job\",\"heard\",\"until\",\"face\",\"wasn\",\"100\",\"read\",\"control\",\"isn\",\"research\",\"30\",\"words\",\"u\",\"group\",\"under\",\"self\",\"somebody\",\"built\",\"state\",\"woman\",\"turn\",\"friends\",\"beautiful\",\"line\",\"knew\",\"couple\",\"order\",\"form\",\"yeah\",\"internet\",\"middle\",\"music\",\"piece\",\"nature\",\"head\",\"though\",\"stop\",\"everyone\",\"50\",\"places\",\"video\",\"learned\",\"language\",\"run\",\"night\",\"decided\",\"study\",\"word\",\"cancer\",\"taking\",\"works\",\"became\",\"exactly\",\"species\",\"society\",\"completely\",\"education\",\"against\",\"stories\",\"large\",\"share\",\"level\",\"heart\",\"america\",\"model\",\"questions\",\"gets\",\"mother\",\"god\",\"company\",\"turns\",\"ourselves\",\"happening\",\"hear\",\"art\",\"themselves\",\"must\",\"itself\",\"rather\",\"kinds\",\"students\",\"name\",\"hours\",\"disease\",\"front\",\"house\",\"huge\",\"couldn\",\"created\",\"universe\",\"ok\",\"animals\",\"american\",\"environment\",\"worked\",\"minutes\",\"ones\",\"black\",\"perhaps\",\"1\",\"past\",\"third\",\"along\",\"others\",\"finally\",\"sound\",\"early\",\"game\",\"thousands\",\"century\",\"based\",\"least\",\"per\",\"ted\",\"lots\",\"figure\",\"free\",\"guys\",\"particular\",\"happy\",\"news\",\"learning\",\"entire\",\"won\",\"gave\",\"machine\",\"india\",\"during\",\"systems\",\"air\",\"difference\",\"outside\",\"natural\",\"taken\",\"seven\",\"given\",\"changed\",\"leave\",\"cell\",\"15\",\"close\",\"behind\",\"cities\",\"full\",\"scale\",\"difficult\",\"china\",\"takes\",\"companies\",\"yourself\",\"area\",\"reality\",\"seeing\",\"easy\",\"turned\",\"cost\",\"eyes\",\"team\",\"moving\",\"population\",\"culture\",\"york\",\"hands\",\"whatever\",\"began\",\"needs\",\"terms\",\"image\",\"simply\",\"needed\",\"beginning\",\"father\",\"local\",\"realized\",\"media\",\"death\",\"parents\",\"view\",\"walk\",\"white\",\"market\",\"parts\",\"ocean\",\"economic\",\"eight\",\"powerful\",\"known\",\"week\",\"size\",\"felt\",\"humans\",\"certain\",\"spend\",\"longer\",\"phone\",\"wonderful\",\"cannot\",\"grow\",\"common\",\"center\",\"tried\",\"fish\",\"land\",\"oil\",\"political\",\"interested\",\"deal\",\"red\",\"gone\",\"amount\",\"weeks\",\"spent\",\"opportunity\",\"paper\",\"lost\",\"national\",\"quickly\",\"blue\",\"step\",\"poor\",\"green\",\"buy\",\"growth\",\"wouldn\",\"either\",\"patients\",\"sitting\",\"ability\",\"changes\",\"write\",\"challenge\",\"south\",\"low\",\"growing\",\"friend\",\"field\",\"shows\",\"2\",\"born\",\"rest\",\"climate\",\"40\",\"test\",\"street\",\"surface\",\"incredible\",\"average\",\"physical\",\"morning\",\"scientists\",\"program\",\"pay\",\"value\",\"feeling\",\"hundreds\",\"girl\",\"met\",\"behavior\",\"economy\",\"dna\",\"complex\",\"access\",\"risk\",\"animal\",\"structure\",\"feet\",\"attention\",\"areas\",\"anyone\",\"deep\",\"watch\",\"short\",\"absolutely\",\"speak\",\"brought\",\"die\",\"bottom\",\"numbers\",\"audience\",\"stage\",\"realize\",\"law\",\"images\",\"wrote\",\"understanding\",\"knowledge\",\"literally\",\"books\",\"movement\",\"ground\",\"giving\",\"eat\",\"force\",\"seems\",\"alone\",\"telling\",\"starting\",\"hold\",\"nice\",\"forward\",\"sea\",\"developed\",\"individual\",\"kid\",\"millions\",\"support\",\"miles\",\"tools\",\"running\",\"online\",\"result\",\"act\",\"medical\",\"technologies\",\"north\",\"lab\",\"development\",\"blood\",\"fear\",\"nobody\",\"map\",\"personal\",\"issue\",\"voice\",\"material\",\"key\",\"12\",\"recently\",\"theory\",\"cut\",\"cars\",\"sun\",\"fast\",\"changing\",\"playing\",\"clear\",\"especially\",\"soon\",\"girls\",\"patient\",\"choice\",\"fly\",\"creating\",\"normal\",\"discovered\",\"europe\",\"talked\",\"relationship\",\"gives\",\"generation\",\"dark\",\"type\",\"showed\",\"chance\",\"seem\",\"industry\",\"asking\",\"rate\",\"fun\",\"issues\",\"color\",\"designed\",\"hour\",\"university\",\"innovation\",\"several\",\"class\",\"computers\",\"english\",\"tiny\",\"allow\",\"save\",\"focus\",\"digital\",\"solve\",\"developing\",\"network\",\"film\",\"special\",\"wall\",\"situation\",\"baby\",\"solution\",\"reasons\",\"box\",\"knows\",\"meet\",\"dead\",\"stand\",\"begin\",\"haven\",\"impact\",\"anybody\",\"term\",\"beyond\",\"pictures\",\"please\",\"ice\",\"produce\",\"shape\",\"non\",\"resources\",\"robot\",\"cool\",\"groups\",\"likely\",\"stay\",\"available\",\"truth\",\"rights\",\"major\",\"cause\",\"evidence\",\"obviously\",\"writing\",\"experiment\",\"modern\",\"drug\",\"becomes\",\"incredibly\",\"aren\",\"bigger\",\"guess\",\"nine\",\"product\",\"drugs\",\"lived\",\"involved\",\"perfect\",\"google\",\"month\",\"effect\",\"similar\",\"putting\",\"eye\",\"pick\",\"message\",\"quality\",\"violence\",\"web\",\"evolution\",\"security\",\"office\",\"basic\",\"solar\",\"indeed\",\"general\",\"towards\",\"present\",\"drive\",\"send\",\"listen\",\"worth\",\"revolution\",\"explain\",\"hundred\",\"certainly\",\"died\",\"ready\",\"teach\",\"journey\",\"25\",\"hit\",\"walking\",\"led\",\"approach\",\"international\",\"200\",\"scientific\",\"games\",\"60\",\"potential\",\"crazy\",\"communities\",\"chinese\",\"device\",\"source\",\"camera\",\"rules\",\"sex\",\"carbon\",\"sounds\",\"boy\",\"reach\",\"starts\",\"examples\",\"west\",\"3\",\"success\",\"measure\",\"particularly\",\"software\",\"totally\",\"suddenly\",\"action\",\"college\",\"higher\",\"code\",\"eventually\",\"democracy\",\"among\",\"minute\",\"sit\",\"largest\",\"showing\",\"hospital\",\"notice\",\"period\",\"mass\",\"develop\",\"dream\",\"onto\",\"plants\",\"break\",\"add\",\"memory\",\"everywhere\",\"favorite\",\"11\",\"zero\",\"speed\",\"schools\",\"moved\",\"response\",\"wants\",\"extremely\",\"movie\",\"individuals\",\"table\",\"wait\",\"medicine\",\"follow\",\"anyway\",\"trust\",\"plant\",\"biggest\",\"watching\",\"organization\",\"creative\",\"road\",\"choose\",\"worse\",\"lead\",\"results\",\"500\",\"exciting\",\"grew\",\"materials\",\"jobs\",\"plan\",\"east\",\"poverty\",\"positive\",\"safe\",\"strong\",\"fall\",\"essentially\",\"object\",\"door\",\"son\",\"vision\",\"further\",\"happiness\",\"continue\",\"student\",\"doctor\",\"including\",\"named\",\"role\",\"objects\",\"extraordinary\",\"standing\",\"skin\",\"leaders\",\"usually\",\"african\",\"conversation\",\"projects\",\"allowed\",\"models\",\"supposed\",\"faster\",\"interest\",\"families\",\"police\",\"fight\",\"tree\",\"connected\",\"screen\",\"5\",\"cases\",\"goal\",\"somewhere\",\"finding\",\"buildings\",\"shown\"],\"x1\":{\"__ndarray__\":\"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\",\"dtype\":\"float64\",\"shape\":[1000]},\"x2\":{\"__ndarray__\":\"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\",\"dtype\":\"float64\",\"shape\":[1000]}}},\"id\":\"940388f1-a607-4cb0-bbf2-c5fd5b211cbc\",\"type\":\"ColumnDataSource\"},{\"attributes\":{\"fill_alpha\":{\"value\":0.1},\"fill_color\":{\"value\":\"#1f77b4\"},\"line_alpha\":{\"value\":0.1},\"line_color\":{\"value\":\"#1f77b4\"},\"size\":{\"units\":\"screen\",\"value\":8},\"x\":{\"field\":\"x1\"},\"y\":{\"field\":\"x2\"}},\"id\":\"56f5f903-2eab-406e-bded-d2b65c407b0a\",\"type\":\"Circle\"},{\"attributes\":{\"plot\":null,\"text\":\"word2vec T-SNE for most common words\"},\"id\":\"d4761981-9a19-4557-81f7-f948d6723203\",\"type\":\"Title\"},{\"attributes\":{\"callback\":null},\"id\":\"c747b33e-ee97-4021-9433-5d276695bcd8\",\"type\":\"DataRange1d\"},{\"attributes\":{},\"id\":\"b764d11f-f12b-44ee-a210-c210140e26e2\",\"type\":\"ToolEvents\"},{\"attributes\":{\"active_drag\":\"auto\",\"active_scroll\":\"auto\",\"active_tap\":\"auto\",\"tools\":[{\"id\":\"74bc2442-c02f-4e0f-911d-3770540d1a6d\",\"type\":\"PanTool\"},{\"id\":\"006efa76-f6c2-46ea-b1db-55701bf81776\",\"type\":\"WheelZoomTool\"},{\"id\":\"eadaee41-11bc-427b-851a-ed4b07bb887c\",\"type\":\"ResetTool\"},{\"id\":\"69c8c7e7-d485-4eb3-a541-1addf8898802\",\"type\":\"SaveTool\"}]},\"id\":\"b91e026c-fd2c-47be-9db6-1b1551b76e38\",\"type\":\"Toolbar\"},{\"attributes\":{\"formatter\":{\"id\":\"ba907700-2ab9-4867-93fc-1c59c49d311a\",\"type\":\"BasicTickFormatter\"},\"plot\":{\"id\":\"b895dbb2-a4fa-4c15-9584-58bf19a17adc\",\"subtype\":\"Figure\",\"type\":\"Plot\"},\"ticker\":{\"id\":\"d188941a-0921-4de0-b180-b4313c78dc74\",\"type\":\"BasicTicker\"}},\"id\":\"fc65734e-a1fa-40e6-9525-7a8f3710b7f2\",\"type\":\"LinearAxis\"},{\"attributes\":{},\"id\":\"cb77dae8-c592-4416-94d3-b9494ef94b5a\",\"type\":\"BasicTickFormatter\"},{\"attributes\":{\"callback\":null},\"id\":\"aff630ad-2186-444b-b0e7-f24bbc6ca9dc\",\"type\":\"DataRange1d\"},{\"attributes\":{},\"id\":\"d188941a-0921-4de0-b180-b4313c78dc74\",\"type\":\"BasicTicker\"},{\"attributes\":{\"fill_color\":{\"value\":\"#1f77b4\"},\"line_color\":{\"value\":\"#1f77b4\"},\"size\":{\"units\":\"screen\",\"value\":8},\"x\":{\"field\":\"x1\"},\"y\":{\"field\":\"x2\"}},\"id\":\"66ee0867-d815-410b-8330-7c9d789f9df6\",\"type\":\"Circle\"},{\"attributes\":{\"plot\":{\"id\":\"b895dbb2-a4fa-4c15-9584-58bf19a17adc\",\"subtype\":\"Figure\",\"type\":\"Plot\"},\"ticker\":{\"id\":\"d188941a-0921-4de0-b180-b4313c78dc74\",\"type\":\"BasicTicker\"}},\"id\":\"b6b54cf8-fd34-493e-ab3c-f131e34e3100\",\"type\":\"Grid\"},{\"attributes\":{},\"id\":\"3d2d32a6-8e4a-4db9-8d80-5371ea9f2991\",\"type\":\"BasicTicker\"},{\"attributes\":{\"dimension\":1,\"plot\":{\"id\":\"b895dbb2-a4fa-4c15-9584-58bf19a17adc\",\"subtype\":\"Figure\",\"type\":\"Plot\"},\"ticker\":{\"id\":\"3d2d32a6-8e4a-4db9-8d80-5371ea9f2991\",\"type\":\"BasicTicker\"}},\"id\":\"5deb157c-45ed-44f3-ba53-2ef5f295376b\",\"type\":\"Grid\"},{\"attributes\":{\"data_source\":{\"id\":\"940388f1-a607-4cb0-bbf2-c5fd5b211cbc\",\"type\":\"ColumnDataSource\"},\"glyph\":{\"id\":\"66ee0867-d815-410b-8330-7c9d789f9df6\",\"type\":\"Circle\"},\"hover_glyph\":null,\"nonselection_glyph\":{\"id\":\"56f5f903-2eab-406e-bded-d2b65c407b0a\",\"type\":\"Circle\"},\"selection_glyph\":null},\"id\":\"22b791e2-58a3-4334-a999-66fd95486666\",\"type\":\"GlyphRenderer\"},{\"attributes\":{\"plot\":{\"id\":\"b895dbb2-a4fa-4c15-9584-58bf19a17adc\",\"subtype\":\"Figure\",\"type\":\"Plot\"}},\"id\":\"74bc2442-c02f-4e0f-911d-3770540d1a6d\",\"type\":\"PanTool\"},{\"attributes\":{\"plot\":{\"id\":\"b895dbb2-a4fa-4c15-9584-58bf19a17adc\",\"subtype\":\"Figure\",\"type\":\"Plot\"}},\"id\":\"006efa76-f6c2-46ea-b1db-55701bf81776\",\"type\":\"WheelZoomTool\"},{\"attributes\":{\"plot\":{\"id\":\"b895dbb2-a4fa-4c15-9584-58bf19a17adc\",\"subtype\":\"Figure\",\"type\":\"Plot\"}},\"id\":\"eadaee41-11bc-427b-851a-ed4b07bb887c\",\"type\":\"ResetTool\"},{\"attributes\":{},\"id\":\"ba907700-2ab9-4867-93fc-1c59c49d311a\",\"type\":\"BasicTickFormatter\"},{\"attributes\":{\"plot\":{\"id\":\"b895dbb2-a4fa-4c15-9584-58bf19a17adc\",\"subtype\":\"Figure\",\"type\":\"Plot\"}},\"id\":\"69c8c7e7-d485-4eb3-a541-1addf8898802\",\"type\":\"SaveTool\"}],\"root_ids\":[\"b895dbb2-a4fa-4c15-9584-58bf19a17adc\"]},\"title\":\"Bokeh Application\",\"version\":\"0.12.4\"}};\n",
       "            var render_items = [{\"docid\":\"69ec81c0-563c-4894-88f0-6cc0590406f2\",\"elementid\":\"d55c543e-23f2-471d-8d86-5cfd678f205d\",\"modelid\":\"b895dbb2-a4fa-4c15-9584-58bf19a17adc\"}];\n",
       "            \n",
       "            Bokeh.embed.embed_items(docs_json, render_items);\n",
       "          };\n",
       "          if (document.readyState != \"loading\") fn();\n",
       "          else document.addEventListener(\"DOMContentLoaded\", fn);\n",
       "        })();\n",
       "      },\n",
       "      function(Bokeh) {\n",
       "      }\n",
       "    ];\n",
       "  \n",
       "    function run_inline_js() {\n",
       "      \n",
       "      if ((window.Bokeh !== undefined) || (force === true)) {\n",
       "        for (var i = 0; i < inline_js.length; i++) {\n",
       "          inline_js[i](window.Bokeh);\n",
       "        }if (force === true) {\n",
       "          display_loaded();\n",
       "        }} else if (Date.now() < window._bokeh_timeout) {\n",
       "        setTimeout(run_inline_js, 100);\n",
       "      } else if (!window._bokeh_failed_load) {\n",
       "        console.log(\"Bokeh: BokehJS failed to load within specified timeout.\");\n",
       "        window._bokeh_failed_load = true;\n",
       "      } else if (force !== true) {\n",
       "        var cell = $(document.getElementById(\"d55c543e-23f2-471d-8d86-5cfd678f205d\")).parents('.cell').data().cell;\n",
       "        cell.output_area.append_execute_result(NB_LOAD_WARNING)\n",
       "      }\n",
       "  \n",
       "    }\n",
       "  \n",
       "    if (window._bokeh_is_loading === 0) {\n",
       "      console.log(\"Bokeh: BokehJS loaded, going straight to plotting\");\n",
       "      run_inline_js();\n",
       "    } else {\n",
       "      load_libs(js_urls, function() {\n",
       "        console.log(\"Bokeh: BokehJS plotting callback run at\", now());\n",
       "        run_inline_js();\n",
       "      });\n",
       "    }\n",
       "  }(this));\n",
       "</script>"
      ]
     },
     "metadata": {},
     "output_type": "display_data"
    }
   ],
   "source": [
    "p = figure(tools=\"pan,wheel_zoom,reset,save\",\n",
    "           toolbar_location=\"above\",\n",
    "           title=\"word2vec T-SNE for most common words\")\n",
    "\n",
    "source = ColumnDataSource(data=dict(x1=words_top_ted_tsne[:,0],\n",
    "                                    x2=words_top_ted_tsne[:,1],\n",
    "                                    names=words_top_ted))\n",
    "\n",
    "p.scatter(x=\"x1\", y=\"x2\", size=8, source=source)\n",
    "\n",
    "labels = LabelSet(x=\"x1\", y=\"x2\", text=\"names\", y_offset=6,\n",
    "                  text_font_size=\"8pt\", text_color=\"#555555\",\n",
    "                  source=source, text_align='center')\n",
    "p.add_layout(labels)\n",
    "\n",
    "show(p)"
   ]
  },
  {
   "cell_type": "markdown",
   "metadata": {},
   "source": [
    "### Part 5: Wiki Learnt Representations"
   ]
  },
  {
   "cell_type": "markdown",
   "metadata": {},
   "source": [
    "Download dataset"
   ]
  },
  {
   "cell_type": "code",
   "execution_count": 24,
   "metadata": {
    "collapsed": false
   },
   "outputs": [],
   "source": [
    "if not os.path.isfile('wikitext-103-raw-v1.zip'):\n",
    "    urllib.request.urlretrieve(\"https://s3.amazonaws.com/research.metamind.io/wikitext/wikitext-103-raw-v1.zip\", filename=\"wikitext-103-raw-v1.zip\")"
   ]
  },
  {
   "cell_type": "code",
   "execution_count": 25,
   "metadata": {
    "collapsed": false
   },
   "outputs": [],
   "source": [
    "with zipfile.ZipFile('wikitext-103-raw-v1.zip', 'r') as z:\n",
    "    input_text = str(z.open('wikitext-103-raw/wiki.train.raw', 'r').read(), encoding='utf-8') # Thanks Robert Bastian"
   ]
  },
  {
   "cell_type": "markdown",
   "metadata": {},
   "source": [
    "Preprocess sentences (note that it's important to remove small sentences for performance)"
   ]
  },
  {
   "cell_type": "code",
   "execution_count": 26,
   "metadata": {
    "collapsed": false
   },
   "outputs": [],
   "source": [
    "sentences_wiki = []\n",
    "for line in input_text.split('\\n'):\n",
    "    s = [x for x in line.split('.') if x and len(x.split()) >= 5]\n",
    "    sentences_wiki.extend(s)\n",
    "    \n",
    "for s_i in range(len(sentences_wiki)):\n",
    "    sentences_wiki[s_i] = re.sub(\"[^a-z]\", \" \", sentences_wiki[s_i].lower())\n",
    "    sentences_wiki[s_i] = re.sub(r'\\([^)]*\\)', '', sentences_wiki[s_i])\n",
    "del input_text"
   ]
  },
  {
   "cell_type": "code",
   "execution_count": 27,
   "metadata": {
    "collapsed": false
   },
   "outputs": [
    {
     "name": "stdout",
     "output_type": "stream",
     "text": [
      "4267112\n",
      "853422\n"
     ]
    }
   ],
   "source": [
    "# sample 1/5 of the data\n",
    "shuffle(sentences_wiki)\n",
    "print(len(sentences_wiki))\n",
    "sentences_wiki = sentences_wiki[:int(len(sentences_wiki)/5)]\n",
    "print(len(sentences_wiki))"
   ]
  },
  {
   "cell_type": "markdown",
   "metadata": {},
   "source": [
    "Now, repeat all the same steps that you performed above. You should be able to reuse essentially all the code."
   ]
  },
  {
   "cell_type": "code",
   "execution_count": 28,
   "metadata": {
    "collapsed": false
   },
   "outputs": [],
   "source": [
    "#...\n",
    "wiki_s=[]\n",
    "for sen in sentences_wiki:\n",
    "    tokens = sen.split()\n",
    "    wiki_s.append(tokens)"
   ]
  },
  {
   "cell_type": "code",
   "execution_count": 29,
   "metadata": {
    "collapsed": false
   },
   "outputs": [],
   "source": [
    "# ...\n",
    "wiki_count = Counter()\n",
    "for sen in wiki_s: \n",
    "    wiki_count.update(Counter(sen))\n",
    "words_top_wiki = sorted(wiki_count, key=wiki_count.get, reverse = True)\n",
    "words_top_wiki = words_top_wiki[0:1000]"
   ]
  },
  {
   "cell_type": "code",
   "execution_count": 31,
   "metadata": {
    "collapsed": false
   },
   "outputs": [],
   "source": [
    "#words_top_wiki"
   ]
  },
  {
   "cell_type": "code",
   "execution_count": 32,
   "metadata": {
    "collapsed": false
   },
   "outputs": [],
   "source": [
    "#...\n",
    "model_wiki = Word2Vec(wiki_s)\n",
    "model_wiki.save(\"wiki_model\")"
   ]
  },
  {
   "cell_type": "code",
   "execution_count": 35,
   "metadata": {
    "collapsed": false
   },
   "outputs": [
    {
     "data": {
      "text/plain": [
       "[('software', 0.771874189376831),\n",
       " ('computers', 0.7715921998023987),\n",
       " ('user', 0.7354627251625061),\n",
       " ('computing', 0.7351772785186768),\n",
       " ('hardware', 0.7312818169593811),\n",
       " ('interface', 0.7309219837188721),\n",
       " ('graphics', 0.7116089463233948),\n",
       " ('graphical', 0.708626925945282),\n",
       " ('mainframe', 0.7078533172607422),\n",
       " ('interactive', 0.7051122188568115)]"
      ]
     },
     "execution_count": 35,
     "metadata": {},
     "output_type": "execute_result"
    }
   ],
   "source": [
    "#...\n",
    "model_wiki.most_similar(\"computer\")"
   ]
  },
  {
   "cell_type": "code",
   "execution_count": 36,
   "metadata": {
    "collapsed": false
   },
   "outputs": [
    {
     "data": {
      "text/plain": [
       "[('woman', 0.7219443917274475),\n",
       " ('boy', 0.6110749840736389),\n",
       " ('dog', 0.6074337959289551),\n",
       " ('soldier', 0.5801805257797241),\n",
       " ('girl', 0.5748547315597534),\n",
       " ('person', 0.5743759274482727),\n",
       " ('creature', 0.5647558569908142),\n",
       " ('figure', 0.5525067448616028),\n",
       " ('villain', 0.5394284725189209),\n",
       " ('victim', 0.5340190529823303)]"
      ]
     },
     "execution_count": 36,
     "metadata": {},
     "output_type": "execute_result"
    }
   ],
   "source": [
    "#...\n",
    "model_wiki.most_similar(\"man\")"
   ]
  },
  {
   "cell_type": "markdown",
   "metadata": {},
   "source": [
    "#### t-SNE visualization"
   ]
  },
  {
   "cell_type": "code",
   "execution_count": 33,
   "metadata": {
    "collapsed": true
   },
   "outputs": [],
   "source": [
    "# This assumes words_top_wiki is a list of strings, the top 1000 words\n",
    "words_top_vec_wiki = model_wiki[words_top_wiki]\n",
    "\n",
    "tsne = TSNE(n_components=2, random_state=0)\n",
    "words_top_wiki_tsne = tsne.fit_transform(words_top_vec_wiki)"
   ]
  },
  {
   "cell_type": "code",
   "execution_count": 34,
   "metadata": {
    "collapsed": false
   },
   "outputs": [
    {
     "data": {
      "text/html": [
       "\n",
       "\n",
       "    <div class=\"bk-root\">\n",
       "        <div class=\"bk-plotdiv\" id=\"ed43be52-7d99-4c18-9a6e-250ae8b5541a\"></div>\n",
       "    </div>\n",
       "<script type=\"text/javascript\">\n",
       "  \n",
       "  (function(global) {\n",
       "    function now() {\n",
       "      return new Date();\n",
       "    }\n",
       "  \n",
       "    var force = false;\n",
       "  \n",
       "    if (typeof (window._bokeh_onload_callbacks) === \"undefined\" || force === true) {\n",
       "      window._bokeh_onload_callbacks = [];\n",
       "      window._bokeh_is_loading = undefined;\n",
       "    }\n",
       "  \n",
       "  \n",
       "    \n",
       "    if (typeof (window._bokeh_timeout) === \"undefined\" || force === true) {\n",
       "      window._bokeh_timeout = Date.now() + 0;\n",
       "      window._bokeh_failed_load = false;\n",
       "    }\n",
       "  \n",
       "    var NB_LOAD_WARNING = {'data': {'text/html':\n",
       "       \"<div style='background-color: #fdd'>\\n\"+\n",
       "       \"<p>\\n\"+\n",
       "       \"BokehJS does not appear to have successfully loaded. If loading BokehJS from CDN, this \\n\"+\n",
       "       \"may be due to a slow or bad network connection. Possible fixes:\\n\"+\n",
       "       \"</p>\\n\"+\n",
       "       \"<ul>\\n\"+\n",
       "       \"<li>re-rerun `output_notebook()` to attempt to load from CDN again, or</li>\\n\"+\n",
       "       \"<li>use INLINE resources instead, as so:</li>\\n\"+\n",
       "       \"</ul>\\n\"+\n",
       "       \"<code>\\n\"+\n",
       "       \"from bokeh.resources import INLINE\\n\"+\n",
       "       \"output_notebook(resources=INLINE)\\n\"+\n",
       "       \"</code>\\n\"+\n",
       "       \"</div>\"}};\n",
       "  \n",
       "    function display_loaded() {\n",
       "      if (window.Bokeh !== undefined) {\n",
       "        document.getElementById(\"ed43be52-7d99-4c18-9a6e-250ae8b5541a\").textContent = \"BokehJS successfully loaded.\";\n",
       "      } else if (Date.now() < window._bokeh_timeout) {\n",
       "        setTimeout(display_loaded, 100)\n",
       "      }\n",
       "    }\n",
       "  \n",
       "    function run_callbacks() {\n",
       "      window._bokeh_onload_callbacks.forEach(function(callback) { callback() });\n",
       "      delete window._bokeh_onload_callbacks\n",
       "      console.info(\"Bokeh: all callbacks have finished\");\n",
       "    }\n",
       "  \n",
       "    function load_libs(js_urls, callback) {\n",
       "      window._bokeh_onload_callbacks.push(callback);\n",
       "      if (window._bokeh_is_loading > 0) {\n",
       "        console.log(\"Bokeh: BokehJS is being loaded, scheduling callback at\", now());\n",
       "        return null;\n",
       "      }\n",
       "      if (js_urls == null || js_urls.length === 0) {\n",
       "        run_callbacks();\n",
       "        return null;\n",
       "      }\n",
       "      console.log(\"Bokeh: BokehJS not loaded, scheduling load and callback at\", now());\n",
       "      window._bokeh_is_loading = js_urls.length;\n",
       "      for (var i = 0; i < js_urls.length; i++) {\n",
       "        var url = js_urls[i];\n",
       "        var s = document.createElement('script');\n",
       "        s.src = url;\n",
       "        s.async = false;\n",
       "        s.onreadystatechange = s.onload = function() {\n",
       "          window._bokeh_is_loading--;\n",
       "          if (window._bokeh_is_loading === 0) {\n",
       "            console.log(\"Bokeh: all BokehJS libraries loaded\");\n",
       "            run_callbacks()\n",
       "          }\n",
       "        };\n",
       "        s.onerror = function() {\n",
       "          console.warn(\"failed to load library \" + url);\n",
       "        };\n",
       "        console.log(\"Bokeh: injecting script tag for BokehJS library: \", url);\n",
       "        document.getElementsByTagName(\"head\")[0].appendChild(s);\n",
       "      }\n",
       "    };var element = document.getElementById(\"ed43be52-7d99-4c18-9a6e-250ae8b5541a\");\n",
       "    if (element == null) {\n",
       "      console.log(\"Bokeh: ERROR: autoload.js configured with elementid 'ed43be52-7d99-4c18-9a6e-250ae8b5541a' but no matching script tag was found. \")\n",
       "      return false;\n",
       "    }\n",
       "  \n",
       "    var js_urls = [];\n",
       "  \n",
       "    var inline_js = [\n",
       "      function(Bokeh) {\n",
       "        (function() {\n",
       "          var fn = function() {\n",
       "            var docs_json = {\"2b22292c-8003-479b-9316-c966fa6a44f9\":{\"roots\":{\"references\":[{\"attributes\":{\"formatter\":{\"id\":\"cc0d5a9e-d924-497b-ba31-21f7b9515ec8\",\"type\":\"BasicTickFormatter\"},\"plot\":{\"id\":\"25d00acb-1609-40e8-bb01-3bf1bd8dbb41\",\"subtype\":\"Figure\",\"type\":\"Plot\"},\"ticker\":{\"id\":\"96cd8231-1a80-42df-b9f7-fd0dcb1495cd\",\"type\":\"BasicTicker\"}},\"id\":\"167a19d2-190e-461b-be82-02ef4d1e7241\",\"type\":\"LinearAxis\"},{\"attributes\":{\"formatter\":{\"id\":\"d222f69f-9d50-40a7-bce2-dc306778037f\",\"type\":\"BasicTickFormatter\"},\"plot\":{\"id\":\"25d00acb-1609-40e8-bb01-3bf1bd8dbb41\",\"subtype\":\"Figure\",\"type\":\"Plot\"},\"ticker\":{\"id\":\"c6e2ba62-28fe-44b4-beb0-62910ef0a199\",\"type\":\"BasicTicker\"}},\"id\":\"a71c128c-5274-4ced-89ed-cecfd7dfaebb\",\"type\":\"LinearAxis\"},{\"attributes\":{},\"id\":\"c6e2ba62-28fe-44b4-beb0-62910ef0a199\",\"type\":\"BasicTicker\"},{\"attributes\":{\"dimension\":1,\"plot\":{\"id\":\"25d00acb-1609-40e8-bb01-3bf1bd8dbb41\",\"subtype\":\"Figure\",\"type\":\"Plot\"},\"ticker\":{\"id\":\"c6e2ba62-28fe-44b4-beb0-62910ef0a199\",\"type\":\"BasicTicker\"}},\"id\":\"6115bb27-52a3-4cc4-b8b0-52b53d86eb03\",\"type\":\"Grid\"},{\"attributes\":{\"fill_alpha\":{\"value\":0.1},\"fill_color\":{\"value\":\"#1f77b4\"},\"line_alpha\":{\"value\":0.1},\"line_color\":{\"value\":\"#1f77b4\"},\"size\":{\"units\":\"screen\",\"value\":8},\"x\":{\"field\":\"x1\"},\"y\":{\"field\":\"x2\"}},\"id\":\"c7f450ab-5c26-4dc9-9077-a105609267fa\",\"type\":\"Circle\"},{\"attributes\":{\"plot\":{\"id\":\"25d00acb-1609-40e8-bb01-3bf1bd8dbb41\",\"subtype\":\"Figure\",\"type\":\"Plot\"},\"source\":{\"id\":\"b5ab09ce-49ad-4cab-aa81-a923b19d19d4\",\"type\":\"ColumnDataSource\"},\"text\":{\"field\":\"names\"},\"text_align\":\"center\",\"text_color\":{\"value\":\"#555555\"},\"text_font_size\":{\"value\":\"8pt\"},\"x\":{\"field\":\"x1\"},\"y\":{\"field\":\"x2\"},\"y_offset\":{\"value\":6}},\"id\":\"0d4f54bb-0277-4fbb-a144-37b30d492564\",\"type\":\"LabelSet\"},{\"attributes\":{},\"id\":\"d222f69f-9d50-40a7-bce2-dc306778037f\",\"type\":\"BasicTickFormatter\"},{\"attributes\":{\"plot\":{\"id\":\"25d00acb-1609-40e8-bb01-3bf1bd8dbb41\",\"subtype\":\"Figure\",\"type\":\"Plot\"}},\"id\":\"0d728206-a1f6-48a1-b35d-ef6937248fa2\",\"type\":\"PanTool\"},{\"attributes\":{},\"id\":\"cc0d5a9e-d924-497b-ba31-21f7b9515ec8\",\"type\":\"BasicTickFormatter\"},{\"attributes\":{\"plot\":{\"id\":\"25d00acb-1609-40e8-bb01-3bf1bd8dbb41\",\"subtype\":\"Figure\",\"type\":\"Plot\"}},\"id\":\"f934f6c6-844e-4645-a631-92f999d96eae\",\"type\":\"WheelZoomTool\"},{\"attributes\":{\"plot\":{\"id\":\"25d00acb-1609-40e8-bb01-3bf1bd8dbb41\",\"subtype\":\"Figure\",\"type\":\"Plot\"}},\"id\":\"bf37910e-69ee-4001-a57a-99ff189cf7dc\",\"type\":\"ResetTool\"},{\"attributes\":{\"plot\":{\"id\":\"25d00acb-1609-40e8-bb01-3bf1bd8dbb41\",\"subtype\":\"Figure\",\"type\":\"Plot\"}},\"id\":\"6894cea0-01c3-48aa-a91a-c814a4f14fcc\",\"type\":\"SaveTool\"},{\"attributes\":{\"data_source\":{\"id\":\"b5ab09ce-49ad-4cab-aa81-a923b19d19d4\",\"type\":\"ColumnDataSource\"},\"glyph\":{\"id\":\"3face5ca-9b9d-4d47-a353-42bebac38ac8\",\"type\":\"Circle\"},\"hover_glyph\":null,\"nonselection_glyph\":{\"id\":\"c7f450ab-5c26-4dc9-9077-a105609267fa\",\"type\":\"Circle\"},\"selection_glyph\":null},\"id\":\"5c83c3f4-4ddd-440d-9453-fba1c38b92bc\",\"type\":\"GlyphRenderer\"},{\"attributes\":{},\"id\":\"96cd8231-1a80-42df-b9f7-fd0dcb1495cd\",\"type\":\"BasicTicker\"},{\"attributes\":{\"plot\":{\"id\":\"25d00acb-1609-40e8-bb01-3bf1bd8dbb41\",\"subtype\":\"Figure\",\"type\":\"Plot\"},\"ticker\":{\"id\":\"96cd8231-1a80-42df-b9f7-fd0dcb1495cd\",\"type\":\"BasicTicker\"}},\"id\":\"f5e33c46-0986-4aef-b6f5-efc639c8b717\",\"type\":\"Grid\"},{\"attributes\":{\"below\":[{\"id\":\"167a19d2-190e-461b-be82-02ef4d1e7241\",\"type\":\"LinearAxis\"}],\"left\":[{\"id\":\"a71c128c-5274-4ced-89ed-cecfd7dfaebb\",\"type\":\"LinearAxis\"}],\"renderers\":[{\"id\":\"167a19d2-190e-461b-be82-02ef4d1e7241\",\"type\":\"LinearAxis\"},{\"id\":\"f5e33c46-0986-4aef-b6f5-efc639c8b717\",\"type\":\"Grid\"},{\"id\":\"a71c128c-5274-4ced-89ed-cecfd7dfaebb\",\"type\":\"LinearAxis\"},{\"id\":\"6115bb27-52a3-4cc4-b8b0-52b53d86eb03\",\"type\":\"Grid\"},{\"id\":\"5c83c3f4-4ddd-440d-9453-fba1c38b92bc\",\"type\":\"GlyphRenderer\"},{\"id\":\"0d4f54bb-0277-4fbb-a144-37b30d492564\",\"type\":\"LabelSet\"}],\"title\":{\"id\":\"08a63d38-ad0b-40b3-9e18-c30344054e9a\",\"type\":\"Title\"},\"tool_events\":{\"id\":\"22661313-4b7c-4c6a-9746-c5fd03beb52c\",\"type\":\"ToolEvents\"},\"toolbar\":{\"id\":\"a79ddef1-9ac8-48d4-a88a-ce68fa09be6c\",\"type\":\"Toolbar\"},\"toolbar_location\":\"above\",\"x_range\":{\"id\":\"0b5811dd-b647-4d76-9be9-39e181d8746e\",\"type\":\"DataRange1d\"},\"y_range\":{\"id\":\"7be5d3f2-6515-4f01-a6f1-155e0dd64884\",\"type\":\"DataRange1d\"}},\"id\":\"25d00acb-1609-40e8-bb01-3bf1bd8dbb41\",\"subtype\":\"Figure\",\"type\":\"Plot\"},{\"attributes\":{\"callback\":null,\"column_names\":[\"x1\",\"x2\",\"names\"],\"data\":{\"names\":[\"the\",\"of\",\"and\",\"in\",\"to\",\"a\",\"was\",\"s\",\"on\",\"as\",\"for\",\"that\",\"with\",\"by\",\"is\",\"his\",\"at\",\"he\",\"it\",\"from\",\"were\",\"an\",\"had\",\"which\",\"be\",\"this\",\"but\",\"are\",\"first\",\"not\",\"their\",\"after\",\"one\",\"her\",\"also\",\"its\",\"they\",\"two\",\"or\",\"have\",\"who\",\"been\",\"new\",\"has\",\"she\",\"when\",\"time\",\"during\",\"other\",\"would\",\"into\",\"all\",\"i\",\"more\",\"while\",\"over\",\"him\",\"game\",\"only\",\"later\",\"up\",\"most\",\"three\",\"about\",\"out\",\"between\",\"th\",\"than\",\"there\",\"some\",\"film\",\"may\",\"before\",\"year\",\"made\",\"no\",\"such\",\"where\",\"season\",\"second\",\"years\",\"world\",\"war\",\"both\",\"then\",\"used\",\"being\",\"however\",\"through\",\"them\",\"song\",\"these\",\"series\",\"m\",\"album\",\"against\",\"many\",\"part\",\"team\",\"number\",\"city\",\"united\",\"north\",\"several\",\"can\",\"including\",\"became\",\"four\",\"early\",\"well\",\"under\",\"state\",\"music\",\"south\",\"so\",\"day\",\"states\",\"episode\",\"said\",\"following\",\"american\",\"although\",\"did\",\"could\",\"work\",\"known\",\"began\",\"like\",\"until\",\"because\",\"t\",\"released\",\"called\",\"high\",\"people\",\"end\",\"british\",\"since\",\"each\",\"around\",\"life\",\"long\",\"national\",\"same\",\"september\",\"best\",\"us\",\"found\",\"if\",\"million\",\"another\",\"five\",\"west\",\"along\",\"back\",\"took\",\"show\",\"you\",\"km\",\"use\",\"any\",\"final\",\"area\",\"group\",\"october\",\"century\",\"off\",\"august\",\"received\",\"school\",\"john\",\"will\",\"due\",\"what\",\"line\",\"government\",\"june\",\"east\",\"july\",\"november\",\"system\",\"home\",\"march\",\"much\",\"set\",\"single\",\"games\",\"general\",\"third\",\"april\",\"major\",\"down\",\"large\",\"left\",\"based\",\"family\",\"york\",\"army\",\"company\",\"place\",\"house\",\"road\",\"we\",\"six\",\"history\",\"just\",\"king\",\"played\",\"band\",\"name\",\"december\",\"included\",\"character\",\"won\",\"january\",\"now\",\"wrote\",\"within\",\"main\",\"near\",\"times\",\"own\",\"according\",\"men\",\"d\",\"described\",\"led\",\"those\",\"death\",\"river\",\"named\",\"video\",\"de\",\"next\",\"battle\",\"way\",\"last\",\"air\",\"still\",\"st\",\"record\",\"very\",\"release\",\"ship\",\"top\",\"league\",\"species\",\"late\",\"great\",\"make\",\"even\",\"original\",\"production\",\"man\",\"small\",\"storm\",\"club\",\"route\",\"old\",\"again\",\"force\",\"february\",\"public\",\"u\",\"though\",\"play\",\"held\",\"division\",\"days\",\"role\",\"french\",\"built\",\"among\",\"further\",\"university\",\"do\",\"book\",\"service\",\"having\",\"b\",\"story\",\"player\",\"water\",\"side\",\"power\",\"members\",\"white\",\"german\",\"point\",\"match\",\"order\",\"h\",\"black\",\"often\",\"park\",\"former\",\"career\",\"local\",\"england\",\"continued\",\"town\",\"without\",\"came\",\"considered\",\"take\",\"despite\",\"party\",\"half\",\"island\",\"few\",\"period\",\"support\",\"different\",\"form\",\"moved\",\"become\",\"version\",\"development\",\"songs\",\"county\",\"written\",\"c\",\"tropical\",\"english\",\"forces\",\"lost\",\"ii\",\"president\",\"building\",\"given\",\"country\",\"military\",\"court\",\"london\",\"international\",\"re\",\"little\",\"church\",\"my\",\"attack\",\"published\",\"never\",\"lead\",\"track\",\"performance\",\"tour\",\"gave\",\"street\",\"royal\",\"returned\",\"short\",\"using\",\"similar\",\"position\",\"total\",\"produced\",\"children\",\"good\",\"stated\",\"live\",\"n\",\"highway\",\"run\",\"went\",\"per\",\"week\",\"class\",\"recorded\",\"include\",\"land\",\"less\",\"how\",\"upon\",\"star\",\"once\",\"women\",\"me\",\"western\",\"making\",\"love\",\"aircraft\",\"himself\",\"throughout\",\"father\",\"right\",\"ships\",\"age\",\"television\",\"central\",\"players\",\"control\",\"australia\",\"fire\",\"characters\",\"instead\",\"young\",\"head\",\"design\",\"months\",\"seven\",\"title\",\"return\",\"writing\",\"sea\",\"eight\",\"previous\",\"ten\",\"result\",\"away\",\"remained\",\"law\",\"across\",\"developed\",\"rock\",\"southern\",\"light\",\"too\",\"r\",\"night\",\"died\",\"e\",\"ft\",\"station\",\"reported\",\"political\",\"william\",\"field\",\"office\",\"james\",\"red\",\"america\",\"announced\",\"low\",\"eventually\",\"center\",\"race\",\"created\",\"reached\",\"son\",\"style\",\"act\",\"noted\",\"seen\",\"felt\",\"win\",\"miles\",\"various\",\"hurricane\",\"areas\",\"award\",\"should\",\"college\",\"construction\",\"sent\",\"served\",\"followed\",\"full\",\"together\",\"northern\",\"performed\",\"common\",\"japanese\",\"taken\",\"member\",\"able\",\"range\",\"level\",\"mm\",\"chart\",\"campaign\",\"george\",\"works\",\"killed\",\"points\",\"action\",\"originally\",\"addition\",\"football\",\"others\",\"modern\",\"front\",\"decided\",\"feet\",\"playing\",\"get\",\"australian\",\"stage\",\"post\",\"appeared\",\"features\",\"project\",\"thought\",\"established\",\"started\",\"caused\",\"every\",\"born\",\"located\",\"body\",\"success\",\"heavy\",\"behind\",\"rather\",\"fourth\",\"formed\",\"bridge\",\"critics\",\"special\",\"o\",\"added\",\"sold\",\"site\",\"present\",\"see\",\"go\",\"director\",\"population\",\"completed\",\"command\",\"f\",\"championship\",\"important\",\"david\",\"eastern\",\"almost\",\"kingdom\",\"fleet\",\"awards\",\"open\",\"popular\",\"damage\",\"saw\",\"soon\",\"leading\",\"strong\",\"close\",\"worked\",\"initially\",\"case\",\"art\",\"working\",\"ground\",\"opened\",\"free\",\"non\",\"weeks\",\"region\",\"towards\",\"union\",\"help\",\"l\",\"mi\",\"coast\",\"france\",\"guns\",\"allowed\",\"does\",\"michael\",\"mother\",\"average\",\"provided\",\"ever\",\"least\",\"training\",\"hall\",\"brought\",\"victory\",\"scene\",\"washington\",\"sound\",\"wanted\",\"navy\",\"records\",\"generally\",\"henry\",\"scored\",\"wife\",\"either\",\"event\",\"recording\",\"events\",\"troops\",\"far\",\"put\",\"human\",\"featured\",\"magazine\",\"hit\",\"europe\",\"summer\",\"opening\",\"co\",\"cup\",\"hours\",\"example\",\"studio\",\"designed\",\"list\",\"joined\",\"council\",\"mid\",\"believed\",\"placed\",\"runs\",\"official\",\"earlier\",\"base\",\"robert\",\"operation\",\"media\",\"successful\",\"nine\",\"japan\",\"radio\",\"review\",\"al\",\"shot\",\"start\",\"replaced\",\"big\",\"finished\",\"european\",\"brown\",\"x\",\"police\",\"test\",\"rest\",\"highest\",\"films\",\"minutes\",\"month\",\"largest\",\"possible\",\"met\",\"section\",\"saying\",\"involved\",\"cast\",\"society\",\"particularly\",\"association\",\"squadron\",\"better\",\"ended\",\"mph\",\"significant\",\"available\",\"crew\",\"change\",\"beginning\",\"social\",\"community\",\"process\",\"turned\",\"taking\",\"forced\",\"stone\",\"move\",\"increased\",\"above\",\"reviews\",\"must\",\"outside\",\"units\",\"signed\",\"captain\",\"praised\",\"additional\",\"real\",\"going\",\"lower\",\"previously\",\"paul\",\"space\",\"hill\",\"thomas\",\"relationship\",\"research\",\"come\",\"san\",\"canada\",\"future\",\"middle\",\"ordered\",\"charles\",\"infantry\",\"winds\",\"told\",\"committee\",\"cross\",\"goal\",\"brother\",\"gold\",\"critical\",\"rights\",\"elements\",\"positive\",\"enough\",\"v\",\"thus\",\"type\",\"california\",\"business\",\"grand\",\"program\",\"chief\",\"give\",\"overall\",\"g\",\"musical\",\"staff\",\"appearance\",\"passed\",\"directed\",\"female\",\"parts\",\"plan\",\"lake\",\"spent\",\"castle\",\"news\",\"interest\",\"groups\",\"itself\",\"board\",\"whose\",\"required\",\"lines\",\"entire\",\"election\",\"don\",\"find\",\"study\",\"sometimes\",\"p\",\"round\",\"personal\",\"attempt\",\"failed\",\"reception\",\"students\",\"asked\",\"already\",\"prior\",\"india\",\"money\",\"cover\",\"gun\",\"district\",\"speed\",\"complete\",\"uk\",\"bill\",\"person\",\"loss\",\"germany\",\"press\",\"port\",\"square\",\"turn\",\"la\",\"battalion\",\"evidence\",\"term\",\"score\",\"novel\",\"food\",\"governor\",\"smith\",\"claimed\",\"usually\",\"room\",\"quickly\",\"fifth\",\"whom\",\"debut\",\"plot\",\"indian\",\"flight\",\"hand\",\"introduced\",\"stars\",\"ny\",\"woman\",\"our\",\"green\",\"movement\",\"arrived\",\"commander\",\"village\",\"decision\",\"mark\",\"past\",\"shortly\",\"length\",\"issue\",\"centre\",\"education\",\"limited\",\"britain\",\"peter\",\"remaining\",\"surface\",\"industry\",\"especially\",\"idea\",\"writer\",\"depression\",\"structure\",\"suggested\",\"shows\",\"background\",\"anti\",\"effects\",\"child\",\"teams\",\"response\",\"blue\",\"course\",\"department\",\"k\",\"science\",\"civil\",\"entered\",\"operations\",\"material\",\"defeated\",\"god\",\"larger\",\"leaving\",\"voice\",\"queen\",\"services\",\"estimated\",\"carried\",\"date\",\"becoming\",\"running\",\"latter\",\"cut\",\"richard\",\"changes\",\"living\",\"higher\",\"language\",\"earth\",\"winning\",\"episodes\",\"commercial\",\"destroyed\",\"appointed\",\"current\",\"car\",\"brigade\",\"bay\",\"influence\",\"network\",\"nature\",\"scenes\",\"daughter\",\"view\",\"spanish\",\"married\",\"approximately\",\"proposed\",\"supported\",\"wide\",\"pressure\",\"pop\",\"empire\",\"nearly\",\"hot\",\"finally\",\"virginia\",\"self\",\"islands\",\"tracks\",\"experience\",\"leader\",\"minister\",\"report\",\"regular\",\"compared\",\"subsequently\",\"might\",\"naval\",\"intended\",\"soviet\",\"percent\",\"today\",\"museum\",\"cost\",\"chinese\",\"size\",\"immediately\",\"railway\",\"agreed\",\"los\",\"dark\",\"provide\",\"helped\",\"longer\",\"fact\",\"natural\",\"producer\",\"something\",\"effect\",\"create\",\"whether\",\"your\",\"chicago\",\"lack\",\"awarded\",\"health\",\"jackson\",\"upper\",\"changed\",\"edward\",\"themselves\",\"regiment\",\"professional\",\"face\",\"lyrics\",\"friends\",\"singles\",\"private\",\"manager\",\"done\",\"trade\",\"contract\",\"ball\",\"feature\",\"fans\",\"appear\",\"planned\",\"federal\",\"nd\",\"captured\",\"yet\",\"singer\",\"moving\",\"extended\",\"associated\",\"related\",\"billboard\",\"mostly\",\"plans\",\"officers\",\"inspired\",\"always\",\"difficult\",\"friend\",\"cm\",\"copies\",\"minor\",\"information\",\"fort\",\"countries\",\"initial\",\"books\",\"buildings\",\"key\",\"atlantic\",\"corps\",\"soldiers\",\"really\",\"johnson\",\"pacific\",\"lord\",\"got\",\"via\",\"status\",\"mixed\",\"numerous\",\"wind\",\"guitar\",\"location\",\"albums\",\"dead\",\"probably\",\"conference\",\"leave\",\"christian\",\"remains\",\"attacks\",\"florida\",\"fell\",\"terms\",\"officer\",\"issued\",\"likely\",\"revealed\",\"suffered\",\"ran\",\"know\",\"increase\",\"dance\",\"cause\",\"forward\",\"roman\"],\"x1\":{\"__ndarray__\":\"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\",\"dtype\":\"float64\",\"shape\":[1000]},\"x2\":{\"__ndarray__\":\"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\",\"dtype\":\"float64\",\"shape\":[1000]}}},\"id\":\"b5ab09ce-49ad-4cab-aa81-a923b19d19d4\",\"type\":\"ColumnDataSource\"},{\"attributes\":{\"fill_color\":{\"value\":\"#1f77b4\"},\"line_color\":{\"value\":\"#1f77b4\"},\"size\":{\"units\":\"screen\",\"value\":8},\"x\":{\"field\":\"x1\"},\"y\":{\"field\":\"x2\"}},\"id\":\"3face5ca-9b9d-4d47-a353-42bebac38ac8\",\"type\":\"Circle\"},{\"attributes\":{\"plot\":null,\"text\":\"word2vec T-SNE for most common words\"},\"id\":\"08a63d38-ad0b-40b3-9e18-c30344054e9a\",\"type\":\"Title\"},{\"attributes\":{\"callback\":null},\"id\":\"0b5811dd-b647-4d76-9be9-39e181d8746e\",\"type\":\"DataRange1d\"},{\"attributes\":{},\"id\":\"22661313-4b7c-4c6a-9746-c5fd03beb52c\",\"type\":\"ToolEvents\"},{\"attributes\":{\"active_drag\":\"auto\",\"active_scroll\":\"auto\",\"active_tap\":\"auto\",\"tools\":[{\"id\":\"0d728206-a1f6-48a1-b35d-ef6937248fa2\",\"type\":\"PanTool\"},{\"id\":\"f934f6c6-844e-4645-a631-92f999d96eae\",\"type\":\"WheelZoomTool\"},{\"id\":\"bf37910e-69ee-4001-a57a-99ff189cf7dc\",\"type\":\"ResetTool\"},{\"id\":\"6894cea0-01c3-48aa-a91a-c814a4f14fcc\",\"type\":\"SaveTool\"}]},\"id\":\"a79ddef1-9ac8-48d4-a88a-ce68fa09be6c\",\"type\":\"Toolbar\"},{\"attributes\":{\"callback\":null},\"id\":\"7be5d3f2-6515-4f01-a6f1-155e0dd64884\",\"type\":\"DataRange1d\"}],\"root_ids\":[\"25d00acb-1609-40e8-bb01-3bf1bd8dbb41\"]},\"title\":\"Bokeh Application\",\"version\":\"0.12.4\"}};\n",
       "            var render_items = [{\"docid\":\"2b22292c-8003-479b-9316-c966fa6a44f9\",\"elementid\":\"ed43be52-7d99-4c18-9a6e-250ae8b5541a\",\"modelid\":\"25d00acb-1609-40e8-bb01-3bf1bd8dbb41\"}];\n",
       "            \n",
       "            Bokeh.embed.embed_items(docs_json, render_items);\n",
       "          };\n",
       "          if (document.readyState != \"loading\") fn();\n",
       "          else document.addEventListener(\"DOMContentLoaded\", fn);\n",
       "        })();\n",
       "      },\n",
       "      function(Bokeh) {\n",
       "      }\n",
       "    ];\n",
       "  \n",
       "    function run_inline_js() {\n",
       "      \n",
       "      if ((window.Bokeh !== undefined) || (force === true)) {\n",
       "        for (var i = 0; i < inline_js.length; i++) {\n",
       "          inline_js[i](window.Bokeh);\n",
       "        }if (force === true) {\n",
       "          display_loaded();\n",
       "        }} else if (Date.now() < window._bokeh_timeout) {\n",
       "        setTimeout(run_inline_js, 100);\n",
       "      } else if (!window._bokeh_failed_load) {\n",
       "        console.log(\"Bokeh: BokehJS failed to load within specified timeout.\");\n",
       "        window._bokeh_failed_load = true;\n",
       "      } else if (force !== true) {\n",
       "        var cell = $(document.getElementById(\"ed43be52-7d99-4c18-9a6e-250ae8b5541a\")).parents('.cell').data().cell;\n",
       "        cell.output_area.append_execute_result(NB_LOAD_WARNING)\n",
       "      }\n",
       "  \n",
       "    }\n",
       "  \n",
       "    if (window._bokeh_is_loading === 0) {\n",
       "      console.log(\"Bokeh: BokehJS loaded, going straight to plotting\");\n",
       "      run_inline_js();\n",
       "    } else {\n",
       "      load_libs(js_urls, function() {\n",
       "        console.log(\"Bokeh: BokehJS plotting callback run at\", now());\n",
       "        run_inline_js();\n",
       "      });\n",
       "    }\n",
       "  }(this));\n",
       "</script>"
      ]
     },
     "metadata": {},
     "output_type": "display_data"
    }
   ],
   "source": [
    "p = figure(tools=\"pan,wheel_zoom,reset,save\",\n",
    "           toolbar_location=\"above\",\n",
    "           title=\"word2vec T-SNE for most common words\")\n",
    "\n",
    "source = ColumnDataSource(data=dict(x1=words_top_wiki_tsne[:,0],\n",
    "                                    x2=words_top_wiki_tsne[:,1],\n",
    "                                    names=words_top_wiki))\n",
    "\n",
    "p.scatter(x=\"x1\", y=\"x2\", size=8, source=source)\n",
    "\n",
    "labels = LabelSet(x=\"x1\", y=\"x2\", text=\"names\", y_offset=6,\n",
    "                  text_font_size=\"8pt\", text_color=\"#555555\",\n",
    "                  source=source, text_align='center')\n",
    "p.add_layout(labels)\n",
    "\n",
    "show(p)"
   ]
  },
  {
   "cell_type": "code",
   "execution_count": null,
   "metadata": {
    "collapsed": true
   },
   "outputs": [],
   "source": []
  }
 ],
 "metadata": {
  "anaconda-cloud": {},
  "kernelspec": {
   "display_name": "Python 3",
   "language": "python",
   "name": "python3"
  },
  "language_info": {
   "codemirror_mode": {
    "name": "ipython",
    "version": 3
   },
   "file_extension": ".py",
   "mimetype": "text/x-python",
   "name": "python",
   "nbconvert_exporter": "python",
   "pygments_lexer": "ipython3",
   "version": "3.6.0"
  }
 },
 "nbformat": 4,
 "nbformat_minor": 0
}
